{
 "cells": [
  {
   "cell_type": "markdown",
   "metadata": {},
   "source": [
    "# Athena Rationales Empirical Visualization\n",
    "Large Scale Empirical Analysis "
   ]
  },
  {
   "cell_type": "code",
   "execution_count": 1,
   "metadata": {},
   "outputs": [],
   "source": [
    "from pathlib import Path\n",
    "import csv\n",
    "import seaborn as sns; sns.set_theme()\n",
    "import matplotlib.pyplot as plt\n",
    "import pandas as pd\n",
    "import numpy as np\n",
    "import functools\n",
    "\n",
    "pd.options.display.float_format = '{:.2f}'.format"
   ]
  },
  {
   "cell_type": "code",
   "execution_count": 2,
   "metadata": {},
   "outputs": [],
   "source": [
    "from tokenizers import ByteLevelBPETokenizer\n",
    "import torch\n",
    "import importlib\n",
    "from fairseq.models.transformer import TransformerModel"
   ]
  },
  {
   "cell_type": "code",
   "execution_count": 3,
   "metadata": {},
   "outputs": [],
   "source": [
    "import warnings\n",
    "from matplotlib import colors\n",
    "import os\n",
    "from rationalization import rationalize_lm, rationalize_conditional_model"
   ]
  },
  {
   "cell_type": "code",
   "execution_count": 4,
   "metadata": {},
   "outputs": [],
   "source": [
    "def param_default():\n",
    "    corpus = 'fm_fc_ms_ff' #<-- Scope\n",
    "    data_path = Path('../athena-datasets/' + corpus + '/')\n",
    "    data_path_raw = Path('../athena-datasets/' + corpus + '/raw/')\n",
    "    tokenizer_path = Path('../tokenizer/')\n",
    "    return {\n",
    "        'bpe_path' : tokenizer_path / 'universal_tokenizer/universal_tokenizer/roberta_aug_spaces',\n",
    "        'eval_raw': [data_path_raw / 'eval/input.methods.txt',\n",
    "                        data_path_raw / 'eval/output.tests.txt'],\n",
    "        'test_raw': [data_path_raw / 'test/input.methods.txt', \n",
    "                        data_path_raw / 'test/output.tests.txt'],\n",
    "        'train_raw': [data_path_raw / 'train/input.methods.txt', \n",
    "                        data_path_raw / 'train/output.tests.txt'],\n",
    "        'data_labels' : ['eval_raw','test_raw','train_raw'],\n",
    "        'output_pandas' : data_path / 'pandas/',\n",
    "        'out_processed' : '/datasets/out_processed/',\n",
    "        'model_name_or_path' : 'models/checkpoint_dir_01/models/', #Model Path\n",
    "        'checkpoint_file': 'checkpoint_best.pt', #Model\n",
    "        'data_preprocessed':'/home/davidna/data/dummy/sequential-rationales/fairseq/fairseq/data-bin/bins/',\n",
    "        'output_results' : 'results/' \n",
    "    }"
   ]
  },
  {
   "cell_type": "code",
   "execution_count": 5,
   "metadata": {},
   "outputs": [
    {
     "data": {
      "text/plain": [
       "'results/'"
      ]
     },
     "execution_count": 5,
     "metadata": {},
     "output_type": "execute_result"
    }
   ],
   "source": [
    "params = param_default()\n",
    "params['output_results']"
   ]
  },
  {
   "cell_type": "code",
   "execution_count": 6,
   "metadata": {},
   "outputs": [
    {
     "data": {
      "text/plain": [
       "[PosixPath('../athena-datasets/fm_fc_ms_ff/raw/eval/input.methods.txt'),\n",
       " PosixPath('../athena-datasets/fm_fc_ms_ff/raw/eval/output.tests.txt')]"
      ]
     },
     "execution_count": 6,
     "metadata": {},
     "output_type": "execute_result"
    }
   ],
   "source": [
    "params['eval_raw']"
   ]
  },
  {
   "cell_type": "code",
   "execution_count": 7,
   "metadata": {},
   "outputs": [],
   "source": [
    "sns.set_theme(style=\"darkgrid\")"
   ]
  },
  {
   "cell_type": "markdown",
   "metadata": {},
   "source": [
    "## Universal Tokenizer"
   ]
  },
  {
   "cell_type": "code",
   "execution_count": 8,
   "metadata": {},
   "outputs": [],
   "source": [
    "def load_tokenizer(bpe_path):\n",
    "    return ByteLevelBPETokenizer(str(bpe_path)+'-vocab.json',str(bpe_path)+'-merges.txt')"
   ]
  },
  {
   "cell_type": "code",
   "execution_count": 9,
   "metadata": {},
   "outputs": [],
   "source": [
    "def lazy_decode(bpe_java):\n",
    "    return bpe_java.replace(' ','').replace('Ġ',' ').replace('Ċ','\\n')"
   ]
  },
  {
   "cell_type": "code",
   "execution_count": 10,
   "metadata": {},
   "outputs": [],
   "source": [
    "def prettify_java(minified_java):\n",
    "    \"tries to undo Michele's minification. Works decently, although for loops and sets get newlines inserted, and there are no empty lines or comments\"\n",
    "    minified_java = minified_java.replace('{','{\\n').replace('}','}\\n').replace(';',';\\n')\n",
    "    num_indents = 0\n",
    "    pretty_java = ''\n",
    "    for line in minified_java.splitlines():\n",
    "        if line.lstrip().startswith('}'):\n",
    "            num_indents -= 1\n",
    "        pretty_java += num_indents*'    '+line+'\\n'\n",
    "        if line.endswith('{'):\n",
    "            num_indents += 1\n",
    "        if line.endswith('}') and not line.lstrip().startswith('}'):\n",
    "            num_indents -= 1\n",
    "    return pretty_java"
   ]
  },
  {
   "cell_type": "code",
   "execution_count": 11,
   "metadata": {},
   "outputs": [],
   "source": [
    "tokenizer = load_tokenizer(params['bpe_path'])"
   ]
  },
  {
   "cell_type": "markdown",
   "metadata": {},
   "source": [
    "# Loading Rationales From Trials"
   ]
  },
  {
   "cell_type": "code",
   "execution_count": 12,
   "metadata": {},
   "outputs": [],
   "source": [
    "#Loading one trial\n",
    "df_rationale_output = pd.read_json( params['output_results'] + 'rationales_1_gen_02/' + 'rationales_[t_1000]_[max_src_100]_[max_tgt_100]_02_[exp:0]_.json' ) "
   ]
  },
  {
   "cell_type": "code",
   "execution_count": 13,
   "metadata": {},
   "outputs": [
    {
     "data": {
      "text/html": [
       "<div>\n",
       "<style scoped>\n",
       "    .dataframe tbody tr th:only-of-type {\n",
       "        vertical-align: middle;\n",
       "    }\n",
       "\n",
       "    .dataframe tbody tr th {\n",
       "        vertical-align: top;\n",
       "    }\n",
       "\n",
       "    .dataframe thead th {\n",
       "        text-align: right;\n",
       "    }\n",
       "</style>\n",
       "<table border=\"1\" class=\"dataframe\">\n",
       "  <thead>\n",
       "    <tr style=\"text-align: right;\">\n",
       "      <th></th>\n",
       "      <th>goal_token</th>\n",
       "      <th>from_seq_id</th>\n",
       "      <th>typesets_tgt</th>\n",
       "      <th>typesets_src</th>\n",
       "      <th>rationale_pos_tgt</th>\n",
       "      <th>rationale_pos_src</th>\n",
       "      <th>rationale_prob_tgt</th>\n",
       "      <th>rationale_prob_src</th>\n",
       "    </tr>\n",
       "  </thead>\n",
       "  <tbody>\n",
       "    <tr>\n",
       "      <th>0</th>\n",
       "      <td>Test</td>\n",
       "      <td>0</td>\n",
       "      <td>[[@, 0.9980469942]]</td>\n",
       "      <td>[]</td>\n",
       "      <td>[0]</td>\n",
       "      <td>[]</td>\n",
       "      <td>[0.9980469942]</td>\n",
       "      <td>[]</td>\n",
       "    </tr>\n",
       "    <tr>\n",
       "      <th>1</th>\n",
       "      <td>Ġpublic</td>\n",
       "      <td>0</td>\n",
       "      <td>[[Test, 0.9563337564000001]]</td>\n",
       "      <td>[]</td>\n",
       "      <td>[1]</td>\n",
       "      <td>[]</td>\n",
       "      <td>[0.9563337564000001]</td>\n",
       "      <td>[]</td>\n",
       "    </tr>\n",
       "  </tbody>\n",
       "</table>\n",
       "</div>"
      ],
      "text/plain": [
       "  goal_token  from_seq_id                  typesets_tgt typesets_src  \\\n",
       "0       Test            0           [[@, 0.9980469942]]           []   \n",
       "1    Ġpublic            0  [[Test, 0.9563337564000001]]           []   \n",
       "\n",
       "  rationale_pos_tgt rationale_pos_src    rationale_prob_tgt rationale_prob_src  \n",
       "0               [0]                []        [0.9980469942]                 []  \n",
       "1               [1]                []  [0.9563337564000001]                 []  "
      ]
     },
     "execution_count": 13,
     "metadata": {},
     "output_type": "execute_result"
    }
   ],
   "source": [
    "df_rationale_output.head(2) ##All Rationales for each sample"
   ]
  },
  {
   "cell_type": "code",
   "execution_count": 14,
   "metadata": {},
   "outputs": [
    {
     "data": {
      "text/plain": [
       "(63682, 8)"
      ]
     },
     "execution_count": 14,
     "metadata": {},
     "output_type": "execute_result"
    }
   ],
   "source": [
    "df_rationale_output.shape"
   ]
  },
  {
   "cell_type": "markdown",
   "metadata": {},
   "source": [
    "## Rationales by General Taxonomy"
   ]
  },
  {
   "cell_type": "code",
   "execution_count": 15,
   "metadata": {},
   "outputs": [],
   "source": [
    "#export\n",
    "def token_taxonomy() -> dict:\n",
    "    return {\n",
    "  \"blocks\": {\n",
    "    \"<{>\": \"{\",\n",
    "    \"<}>\": \"}\",\n",
    "    \"<[>\": \"[\",\n",
    "    \"<]>\": \"]\",\n",
    "    \"<(>\": \"(\",\n",
    "    \"<)>\": \")\",\n",
    "    \"<;>\": \";\",\n",
    "    \"<return>\": \"return\"\n",
    "  },\n",
    "  \"exceptions\": {\n",
    "    \"<catch>\": \"catch\",\n",
    "    \"<try>\": \"try\",\n",
    "    \"<finally>\": \"finally\",\n",
    "    \"<throw>\": \"throw\",\n",
    "    \"<throws>\": \"throws\"\n",
    "  },\n",
    "  \"oop\": {\n",
    "    \"<class>\": \"class\",\n",
    "    \"<instanceof>\": \"instanceof\",\n",
    "    \"<interface>\": \"interface\",\n",
    "    \"<private>\": \"private\",\n",
    "    \"<protected>\": \"protected\",\n",
    "    \"<public>\": \"public\",\n",
    "    \"<abstract>\": \"abstract\",\n",
    "    \"<extends>\": \"extends\",\n",
    "    \"<package>\": \"package\",\n",
    "    \"<this>\": \"this\",\n",
    "    \"<implements>\": \"implements\",\n",
    "    \"<import>\": \"import\",\n",
    "    \"<new>\": \"new\",\n",
    "    \"<super>\": \"super\"\n",
    "  },\n",
    "  \"tests\": {\n",
    "    \"<assert>\": \"assert\"\n",
    "  },\n",
    "  \"declarations\": {\n",
    "    \"<native>\": \"native\",\n",
    "    \"<static>\": \"static\",\n",
    "    \"<synchronized>\": \"synchronized\",\n",
    "    \"<transient>\": \"transient\",\n",
    "    \"<volatile>\": \"volatile\",\n",
    "    \"<void>\": \"void\",\n",
    "    \"<final>\": \"final\",\n",
    "    \"<enum>\": \"enum\"\n",
    "  },\n",
    "  \"conditionals\": {\n",
    "    \"<else>\": \"else\",\n",
    "    \"<if>\": \"if\",\n",
    "    \"<switch>\": \"switch\",\n",
    "    \"<case>\": \"case\",\n",
    "    \"<default>\": \"default\"\n",
    "  },\n",
    "  \"loops\": {\n",
    "    \"<break>\": \"break\",\n",
    "    \"<do>\": \"do\",\n",
    "    \"<for>\": \"for\",\n",
    "    \"<while>\": \"while\",\n",
    "    \"<continue>\": \"continue\"\n",
    "  },\n",
    "  \"operators\": {\n",
    "    \"<=>\": \"=\",\n",
    "    \"<+>\": \"+\",\n",
    "    \"<->\": \"-\",\n",
    "    \"<*>\": \"*\",\n",
    "    \"</>\": \"/\",\n",
    "    \"<%>\": \"%\",\n",
    "    \"<++>\": \"++\",\n",
    "    \"<-->\": \"--\",\n",
    "    \"<!>\": \"!\",\n",
    "    \"<==>\": \"==\",\n",
    "    \"<!=>\": \"!=\",\n",
    "    \"<greater_equal>\": \">=\",\n",
    "    \"<lesser_equal>\": \"<=\",\n",
    "    \"<&&>\": \"&&\",\n",
    "    \"<||>\": \"||\",\n",
    "    \"<?>\": \"?\",\n",
    "    \"<:>\": \":\",\n",
    "    \"<~>\": \"~\",\n",
    "    \"<double_lesser>\": \"<<\",\n",
    "    \"<double_greater>\": \">>\",\n",
    "    \"<triple_greater>\": \">>>\",\n",
    "    \"<&>\": \"&\",\n",
    "    \"<^>\": \"^\",\n",
    "    \"<|>\": \"|\"\n",
    "  },\n",
    "  \"datatypes\": {\n",
    "    \"<byte>\": \"byte\",\n",
    "    \"<char>\": \"char\",\n",
    "    \"<float>\": \"float\",\n",
    "    \"<boolean>\": \"boolean\",\n",
    "    \"<double>\": \"double\",\n",
    "    \"<int>\": \"int\",\n",
    "    \"<long>\": \"long\",\n",
    "    \"<short>\": \"short\",\n",
    "    \"<strictfp>\": \"strictfp\"\n",
    "  },\n",
    "  \"extra_tokens\": {\n",
    "    \"<@>\": \"@\",\n",
    "    \"<...>\": \"...\",\n",
    "    \"<null>\": \"null\",\n",
    "    \"<true>\": \"true\",\n",
    "    \"<false>\": \"false\",\n",
    "    \"<n>\": \"\\n\"\n",
    "  }\n",
    "}"
   ]
  },
  {
   "cell_type": "code",
   "execution_count": 16,
   "metadata": {},
   "outputs": [],
   "source": [
    "tkn_taxonomy = token_taxonomy()"
   ]
  },
  {
   "cell_type": "code",
   "execution_count": 17,
   "metadata": {},
   "outputs": [],
   "source": [
    "def print_heatmap(\n",
    "        np_rationales, \n",
    "        fig_size = (10,10), \n",
    "        font = 15,\n",
    "        yticklabels = list( tkn_taxonomy.keys() ), \n",
    "        xticklabels = list( tkn_taxonomy.keys() )\n",
    "):\n",
    "        plt.rcParams.update({'font.size': font})\n",
    "        ax = plt.axes()\n",
    "        sns.set(rc = {'figure.figsize':fig_size})\n",
    "        sns.heatmap(np_rationales, cmap=\"YlGnBu\", \n",
    "                yticklabels=yticklabels, \n",
    "                xticklabels=xticklabels,\n",
    "                ax=ax)\n",
    "        plt.show\n",
    "        pass"
   ]
  },
  {
   "cell_type": "code",
   "execution_count": 18,
   "metadata": {},
   "outputs": [],
   "source": [
    "#Map-Reduce Aggregation by Taxonomy\n",
    "def map_rationale_by_tax(arr_typeset, tkn_taxonomy, non_stringent = True):\n",
    "    list_category_prob = []\n",
    "    list_category_token = []\n",
    "    for typeset_row in arr_typeset: #Iterating rationales\n",
    "        #print(typeset_row)\n",
    "        dict_category_prob = {}\n",
    "        dict_category_token = {}\n",
    "        for category in tkn_taxonomy.keys(): #Iterating on Tax-Categories\n",
    "            set_elems = set( tkn_taxonomy[category].values() )\n",
    "            if non_stringent:\n",
    "                set_elems = set_elems.union( set(['Ġ'+tok_elem for tok_elem in set_elems]) )\n",
    "            dict_category_prob[category] = [ token_tuple[1] for token_tuple in typeset_row if token_tuple[0] in set_elems ]\n",
    "            dict_category_token[category] = [ token_tuple for token_tuple in typeset_row if token_tuple[0] in set_elems ]\n",
    "        list_category_prob.append( dict_category_prob ) \n",
    "        list_category_token.append( dict_category_token )  \n",
    "    return list_category_prob, list_category_token"
   ]
  },
  {
   "cell_type": "code",
   "execution_count": 19,
   "metadata": {},
   "outputs": [],
   "source": [
    "p_rationale = df_rationale_output"
   ]
  },
  {
   "cell_type": "code",
   "execution_count": 20,
   "metadata": {},
   "outputs": [],
   "source": [
    "list_category_prob_tgt, list_category_token_tgt = map_rationale_by_tax( arr_typeset=p_rationale.typesets_tgt.values, \n",
    "                                                tkn_taxonomy=tkn_taxonomy )\n",
    "list_category_prob_src, list_category_token_src = map_rationale_by_tax( arr_typeset=p_rationale.typesets_src.values, \n",
    "                                                tkn_taxonomy=tkn_taxonomy )"
   ]
  },
  {
   "cell_type": "code",
   "execution_count": 21,
   "metadata": {},
   "outputs": [],
   "source": [
    "p_rationale['category_prob_tgt'] = list_category_prob_tgt\n",
    "p_rationale['category_token_tgt'] = list_category_token_tgt\n",
    "\n",
    "p_rationale['category_prob_src'] = list_category_prob_src\n",
    "p_rationale['category_token_src'] = list_category_token_src"
   ]
  },
  {
   "cell_type": "code",
   "execution_count": 22,
   "metadata": {},
   "outputs": [
    {
     "data": {
      "text/html": [
       "<div>\n",
       "<style scoped>\n",
       "    .dataframe tbody tr th:only-of-type {\n",
       "        vertical-align: middle;\n",
       "    }\n",
       "\n",
       "    .dataframe tbody tr th {\n",
       "        vertical-align: top;\n",
       "    }\n",
       "\n",
       "    .dataframe thead th {\n",
       "        text-align: right;\n",
       "    }\n",
       "</style>\n",
       "<table border=\"1\" class=\"dataframe\">\n",
       "  <thead>\n",
       "    <tr style=\"text-align: right;\">\n",
       "      <th></th>\n",
       "      <th>goal_token</th>\n",
       "      <th>from_seq_id</th>\n",
       "      <th>typesets_tgt</th>\n",
       "      <th>typesets_src</th>\n",
       "      <th>rationale_pos_tgt</th>\n",
       "      <th>rationale_pos_src</th>\n",
       "      <th>rationale_prob_tgt</th>\n",
       "      <th>rationale_prob_src</th>\n",
       "      <th>category_prob_tgt</th>\n",
       "      <th>category_token_tgt</th>\n",
       "      <th>category_prob_src</th>\n",
       "      <th>category_token_src</th>\n",
       "    </tr>\n",
       "  </thead>\n",
       "  <tbody>\n",
       "    <tr>\n",
       "      <th>0</th>\n",
       "      <td>Test</td>\n",
       "      <td>0</td>\n",
       "      <td>[[@, 0.9980469942]]</td>\n",
       "      <td>[]</td>\n",
       "      <td>[0]</td>\n",
       "      <td>[]</td>\n",
       "      <td>[0.9980469942]</td>\n",
       "      <td>[]</td>\n",
       "      <td>{'blocks': [], 'exceptions': [], 'oop': [], 't...</td>\n",
       "      <td>{'blocks': [], 'exceptions': [], 'oop': [], 't...</td>\n",
       "      <td>{'blocks': [], 'exceptions': [], 'oop': [], 't...</td>\n",
       "      <td>{'blocks': [], 'exceptions': [], 'oop': [], 't...</td>\n",
       "    </tr>\n",
       "  </tbody>\n",
       "</table>\n",
       "</div>"
      ],
      "text/plain": [
       "  goal_token  from_seq_id         typesets_tgt typesets_src rationale_pos_tgt  \\\n",
       "0       Test            0  [[@, 0.9980469942]]           []               [0]   \n",
       "\n",
       "  rationale_pos_src rationale_prob_tgt rationale_prob_src  \\\n",
       "0                []     [0.9980469942]                 []   \n",
       "\n",
       "                                   category_prob_tgt  \\\n",
       "0  {'blocks': [], 'exceptions': [], 'oop': [], 't...   \n",
       "\n",
       "                                  category_token_tgt  \\\n",
       "0  {'blocks': [], 'exceptions': [], 'oop': [], 't...   \n",
       "\n",
       "                                   category_prob_src  \\\n",
       "0  {'blocks': [], 'exceptions': [], 'oop': [], 't...   \n",
       "\n",
       "                                  category_token_src  \n",
       "0  {'blocks': [], 'exceptions': [], 'oop': [], 't...  "
      ]
     },
     "execution_count": 22,
     "metadata": {},
     "output_type": "execute_result"
    }
   ],
   "source": [
    "p_rationale.head(1)"
   ]
  },
  {
   "cell_type": "code",
   "execution_count": 23,
   "metadata": {},
   "outputs": [],
   "source": [
    "dict_reduce_tax_prob_tgt = {k:[] for k in tkn_taxonomy.keys() } #dict.fromkeys( tkn_taxonomy.keys(), [] )\n",
    "dict_reduce_tax_prob_src = {k:[] for k in tkn_taxonomy.keys() } #dict.fromkeys( tkn_taxonomy.keys(), [] )"
   ]
  },
  {
   "cell_type": "code",
   "execution_count": 24,
   "metadata": {},
   "outputs": [],
   "source": [
    "non_stringent = True\n",
    "for token_elem in set(p_rationale.goal_token.values):\n",
    "    for category in tkn_taxonomy.keys(): #Iterating on Tax-Categories\n",
    "        set_elems = set( tkn_taxonomy[category].values() )\n",
    "        if non_stringent:\n",
    "            set_elems = set_elems.union( set(['Ġ'+tok_elem for tok_elem in set_elems]) )\n",
    "        if token_elem in set_elems:\n",
    "            dict_reduce_tax_prob_tgt[category] = p_rationale[ p_rationale['goal_token'] == token_elem ].category_prob_tgt.values\n",
    "            dict_reduce_tax_prob_src[category] = p_rationale[ p_rationale['goal_token'] == token_elem ].category_prob_src.values "
   ]
  },
  {
   "cell_type": "code",
   "execution_count": 25,
   "metadata": {},
   "outputs": [],
   "source": [
    "def merge_tax_dict(dict_a, dict_b):\n",
    "    return {elem: dict_a[elem] + dict_b[elem]  for elem in dict_a}"
   ]
  },
  {
   "cell_type": "code",
   "execution_count": 26,
   "metadata": {},
   "outputs": [],
   "source": [
    "def reduce_tax_dict( dict_reduce_tax_prob ):\n",
    "    for tax in dict_reduce_tax_prob:\n",
    "        if len(dict_reduce_tax_prob[tax]) > 0:\n",
    "            dict_reduce_tax_prob[tax] = functools.reduce(lambda a, b: merge_tax_dict(a,b), dict_reduce_tax_prob[tax])\n",
    "    pass"
   ]
  },
  {
   "cell_type": "code",
   "execution_count": 27,
   "metadata": {},
   "outputs": [],
   "source": [
    "def reduce_tax_dict( dict_reduce_tax_prob ):\n",
    "    return {lis: functools.reduce(lambda a, b: merge_tax_dict(a,b), dict_reduce_tax_prob[lis]) if len(dict_reduce_tax_prob[lis])>0 else {}  for lis in dict_reduce_tax_prob }"
   ]
  },
  {
   "cell_type": "code",
   "execution_count": 28,
   "metadata": {},
   "outputs": [],
   "source": [
    "dict_reduce_tax_prob_tgt = reduce_tax_dict( dict_reduce_tax_prob= dict_reduce_tax_prob_tgt)\n",
    "dict_reduce_tax_prob_src = reduce_tax_dict( dict_reduce_tax_prob= dict_reduce_tax_prob_src)"
   ]
  },
  {
   "cell_type": "code",
   "execution_count": 32,
   "metadata": {},
   "outputs": [],
   "source": [
    "def reducing_rationales( \n",
    "    dict_reduce_tax_prob,  \n",
    "    rows = len( tkn_taxonomy.keys() ), \n",
    "    columns = len( tkn_taxonomy.keys() ), \n",
    "    agg_f = np.mean ):\n",
    "    #Independent Variable: Source Rows\n",
    "    #Dependent Variable: Target Columns\n",
    "    np_rationales = np.zeros( ( rows, columns ) )\n",
    "    for i, row_tax in enumerate( dict_reduce_tax_prob ):\n",
    "        dict_inner = dict_reduce_tax_prob[row_tax]\n",
    "        #print(i)\n",
    "        if dict_inner:\n",
    "            #print(i)\n",
    "            for j, column_tax in enumerate( dict_inner ):\n",
    "                #print(j)\n",
    "                list_tax = dict_inner[column_tax]\n",
    "                if list_tax:\n",
    "                    np_rationales[i][j] = agg_f( list_tax ) #Agregation Function\n",
    "    return np_rationales"
   ]
  },
  {
   "cell_type": "markdown",
   "metadata": {},
   "source": [
    "## From Target to Target"
   ]
  },
  {
   "cell_type": "code",
   "execution_count": 33,
   "metadata": {},
   "outputs": [],
   "source": [
    "np_rationales_avg = reducing_rationales(dict_reduce_tax_prob = dict_reduce_tax_prob_tgt, agg_f = np.mean)\n",
    "np_rationales_min = reducing_rationales(dict_reduce_tax_prob = dict_reduce_tax_prob_tgt, agg_f = np.min)"
   ]
  },
  {
   "cell_type": "code",
   "execution_count": 38,
   "metadata": {},
   "outputs": [
    {
     "data": {
      "image/png": "[encoded data removed]",
      "text/plain": [
       "<Figure size 720x720 with 2 Axes>"
      ]
     },
     "metadata": {},
     "output_type": "display_data"
    }
   ],
   "source": [
    "print_heatmap(\n",
    "    np_rationales=np_rationales_avg, \n",
    "    fig_size = (10,10), \n",
    "    font = 15,\n",
    "    yticklabels=tkn_taxonomy.keys() , \n",
    "    xticklabels=tkn_taxonomy.keys() )"
   ]
  },
  {
   "cell_type": "code",
   "execution_count": 39,
   "metadata": {},
   "outputs": [
    {
     "data": {
      "image/png": "[encoded data removed]",
      "text/plain": [
       "<Figure size 720x720 with 2 Axes>"
      ]
     },
     "metadata": {},
     "output_type": "display_data"
    }
   ],
   "source": [
    "print_heatmap(\n",
    "    np_rationales=np_rationales_min, \n",
    "    fig_size = (10,10), \n",
    "    font = 15,\n",
    "    yticklabels=tkn_taxonomy.keys() , \n",
    "    xticklabels=tkn_taxonomy.keys() )"
   ]
  },
  {
   "cell_type": "markdown",
   "metadata": {},
   "source": [
    "## From Source to Target"
   ]
  },
  {
   "cell_type": "code",
   "execution_count": 40,
   "metadata": {},
   "outputs": [],
   "source": [
    "np_rationales_avg = reducing_rationales(dict_reduce_tax_prob = dict_reduce_tax_prob_src, agg_f = np.mean)\n",
    "np_rationales_min = reducing_rationales(dict_reduce_tax_prob = dict_reduce_tax_prob_src, agg_f = np.min)"
   ]
  },
  {
   "cell_type": "code",
   "execution_count": 41,
   "metadata": {},
   "outputs": [
    {
     "data": {
      "image/png": "[encoded data removed]",
      "text/plain": [
       "<Figure size 720x720 with 2 Axes>"
      ]
     },
     "metadata": {},
     "output_type": "display_data"
    }
   ],
   "source": [
    "print_heatmap(\n",
    "    np_rationales=np_rationales_avg, \n",
    "    fig_size = (10,10), \n",
    "    font = 15,\n",
    "    yticklabels=tkn_taxonomy.keys() , \n",
    "    xticklabels=tkn_taxonomy.keys() )"
   ]
  },
  {
   "cell_type": "code",
   "execution_count": 43,
   "metadata": {},
   "outputs": [
    {
     "data": {
      "image/png": "[encoded data removed]",
      "text/plain": [
       "<Figure size 720x720 with 2 Axes>"
      ]
     },
     "metadata": {},
     "output_type": "display_data"
    },
    {
     "name": "stderr",
     "output_type": "stream",
     "text": [
      "Bad pipe message: %s [b'i\\xde3\\x12\\x90=\\xa7\\xf4\\x01\\x97\\x1e\\x96\\x81\\xbfDE\\xf3\\xe7 \\x01\\xf8 l\\xaf\\xee\\x0e\\x9e\\xcc']\n",
      "Bad pipe message: %s [b'\\xa8-\\xbe\\xc2b\\xd4\\x9aq\\xb8\\x9c{\\xe4\\xed\\x98\\xc8[\\x1cw\\x00\\x00|\\xc0,\\xc00\\x00\\xa3\\x00\\x9f\\xcc\\xa9\\xcc']\n",
      "Bad pipe message: %s [b\"\\xaa\\xc0\\xaf\\xc0\\xad\\xc0\\xa3\\xc0\\x9f\\xc0]\\xc0a\\xc0W\\xc0S\\xc0+\\xc0/\\x00\\xa2\\x00\\x9e\\xc0\\xae\\xc0\\xac\\xc0\\xa2\\xc0\\x9e\\xc0\\\\\\xc0`\\xc0V\\xc0R\\xc0$\\xc0(\\x00k\\x00j\\xc0#\\xc0'\\x00g\\x00@\\xc0\\n\\xc0\\x14\\x009\\x008\\xc0\\t\\xc0\\x13\\x003\\x002\\x00\\x9d\\xc0\\xa1\\xc0\\x9d\\xc0Q\\x00\\x9c\\xc0\\xa0\\xc0\\x9c\\xc0P\\x00=\\x00<\\x005\\x00/\\x00\\x9a\\x00\\x99\\xc0\\x07\\xc0\\x11\\x00\\x96\\x00\\x05\\x00\\xff\\x01\\x00\\x00j\\x00\\x00\\x00\\x0e\\x00\\x0c\\x00\\x00\\t127.0.0.1\\x00\\x0b\\x00\\x04\\x03\\x00\\x01\\x02\\x00\\n\\x00\\x0c\\x00\\n\\x00\\x1d\\x00\\x17\\x00\\x1e\\x00\\x19\\x00\\x18\\x00#\\x00\\x00\\x00\\x16\\x00\\x00\\x00\\x17\"]\n",
      "Bad pipe message: %s [b\"\\xed/\\xd1K\\xe9\\x80\\x18\\xac.\\x04xO\\x18\\xb6Z\\xa7\\xda\\x8d\\x00\\x00\\xa6\\xc0,\\xc00\\x00\\xa3\\x00\\x9f\\xcc\\xa9\\xcc\\xa8\\xcc\\xaa\\xc0\\xaf\\xc0\\xad\\xc0\\xa3\\xc0\\x9f\\xc0]\\xc0a\\xc0W\\xc0S\\xc0+\\xc0/\\x00\\xa2\\x00\\x9e\\xc0\\xae\\xc0\\xac\\xc0\\xa2\\xc0\\x9e\\xc0\\\\\\xc0`\\xc0V\\xc0R\\xc0$\\xc0(\\x00k\\x00j\\xc0s\\xc0w\\x00\\xc4\\x00\\xc3\\xc0#\\xc0'\\x00g\\x00@\\xc0r\"]\n",
      "Bad pipe message: %s [b'\\x00\\xbe\\x00\\xbd\\xc0\\n\\xc0\\x14\\x009\\x008\\x00\\x88\\x00\\x87\\xc0\\t\\xc0\\x13\\x003\\x002\\x00\\x9a\\x00\\x99\\x00E\\x00D\\xc0\\x07\\xc0\\x11\\xc0\\x08\\xc0\\x12\\x00\\x16\\x00\\x13\\x00\\x9d\\xc0\\xa1\\xc0\\x9d\\xc0Q\\x00\\x9c\\xc0\\xa0\\xc0\\x9c\\xc0P\\x00=\\x00\\xc0\\x00<\\x00\\xba\\x005\\x00\\x84\\x00/\\x00\\x96\\x00A\\x00\\x05\\x00\\n\\x00\\xff\\x01\\x00\\x00j\\x00\\x00\\x00\\x0e\\x00\\x0c\\x00\\x00\\t127.0.0.1\\x00\\x0b\\x00\\x04\\x03\\x00\\x01\\x02\\x00\\n\\x00\\x0c\\x00\\n\\x00\\x1d\\x00\\x17\\x00\\x1e\\x00\\x19\\x00\\x18\\x00#\\x00\\x00\\x00\\x16\\x00\\x00\\x00\\x17\\x00\\x00\\x00\\r\\x000\\x00.\\x04\\x03\\x05\\x03\\x06\\x03\\x08\\x07\\x08\\x08\\x08\\t\\x08\\n\\x08\\x0b\\x08\\x04\\x08\\x05\\x08\\x06\\x04\\x01\\x05\\x01\\x06\\x01\\x03\\x03\\x02\\x03\\x03\\x01\\x02\\x01\\x03\\x02\\x02\\x02\\x04\\x02\\x05']\n",
      "Bad pipe message: %s [b'\\x02']\n",
      "Bad pipe message: %s [b'\\x121qTs\\x08\\x02\\x1a{\\xa1\\xe8\\xb7C S\\xfd\\xd1\\xe5\\x00\\x00>\\xc0\\x14\\xc0\\n\\x009\\x008\\x007\\x006\\xc0\\x0f\\xc0\\x05\\x005\\xc0\\x13\\xc0\\t\\x003\\x002\\x001\\x000\\xc0\\x0e\\xc0\\x04\\x00/\\x00\\x9a\\x00\\x99\\x00\\x98\\x00\\x97\\x00\\x96\\x00\\x07\\xc0\\x11\\xc0\\x07\\xc0\\x0c\\xc0\\x02\\x00\\x05\\x00\\x04\\x00\\xff\\x02\\x01\\x00\\x00C\\x00\\x00\\x00\\x0e\\x00\\x0c\\x00\\x00\\t12']\n",
      "Bad pipe message: %s [b'0.0.1\\x00\\x0b\\x00\\x04\\x03\\x00\\x01\\x02\\x00\\n\\x00\\x1c\\x00\\x1a\\x00\\x17\\x00\\x19\\x00\\x1c\\x00\\x1b\\x00\\x18\\x00\\x1a\\x00\\x16\\x00\\x0e\\x00\\r\\x00\\x0b\\x00\\x0c\\x00\\t\\x00\\n\\x00#\\x00\\x00\\x00\\x0f\\x00\\x01\\x01']\n",
      "Bad pipe message: %s [b'\\x9f\\xf5\\xcdc\\xb1{S\\xd4\\x06<\\x8fLE.\\xfc\\xdb\\xab\\xb7\\x00\\x00\\xa2\\xc0\\x14\\xc0\\n\\x009\\x008\\x007\\x006\\x00\\x88\\x00\\x87\\x00\\x86\\x00\\x85\\xc0\\x19\\x00:\\x00\\x89\\xc0\\x0f\\xc0\\x05\\x005\\x00\\x84\\xc0\\x13\\xc0\\t\\x003\\x002\\x001\\x000\\x00\\x9a\\x00\\x99\\x00\\x98\\x00\\x97\\x00E\\x00D\\x00C\\x00B\\xc0\\x18\\x004\\x00\\x9b\\x00F\\xc0\\x0e\\xc0\\x04\\x00/\\x00\\x96\\x00A\\x00\\x07\\xc0\\x11\\xc0\\x07\\xc0\\x16\\x00\\x18\\xc0\\x0c\\xc0\\x02\\x00\\x05\\x00\\x04\\xc0\\x12\\xc0\\x08\\x00\\x16\\x00\\x13\\x00\\x10\\x00\\r\\xc0\\x17\\x00\\x1b\\xc0\\r\\xc0\\x03\\x00\\n\\x00\\x15\\x00\\x12\\x00\\x0f\\x00\\x0c\\x00\\x1a\\x00\\t\\x00\\x14\\x00\\x11\\x00\\x19\\x00\\x08\\x00\\x06\\x00\\x17\\x00\\x03\\xc0\\x10\\xc0\\x06\\xc0\\x15\\xc0\\x0b\\xc0\\x01\\x00\\x02\\x00\\x01']\n",
      "Bad pipe message: %s [b'm\\x07B\\xd8f\\xe9\\n\\x98\\xbb\\x83Rd_\\xa41\\xeb\\x9a\\xfd\\x00\\x00>\\xc0\\x14\\xc0\\n']\n",
      "Bad pipe message: %s [b'n~z\\x85\\xd7\\xd9D\\x96$x\\x97u)\\x16b\\x7f\\xe8\\x0b\\x00\\x00\\xa2\\xc0\\x14\\xc0\\n\\x009\\x008\\x007\\x006\\x00\\x88\\x00\\x87\\x00\\x86\\x00\\x85\\xc0\\x19\\x00:\\x00\\x89\\xc0\\x0f\\xc0\\x05\\x005\\x00\\x84\\xc0\\x13\\xc0\\t\\x003\\x002\\x001\\x000\\x00\\x9a\\x00\\x99\\x00\\x98\\x00\\x97\\x00E\\x00D\\x00C']\n",
      "Bad pipe message: %s [b',\\x8f\\xe6\\x11\\xc5\\xb2n`\\xa5AE\\xf9\\x07(muI\\x12\\x00\\x00\\x86\\xc00\\xc0,\\xc0(\\xc0$\\xc0\\x14\\xc0', b'\\xa5\\x00\\xa3\\x00\\xa1\\x00\\x9f\\x00k']\n",
      "Bad pipe message: %s [b' $\\xf3e\\x15\\x03\\x1f\\xc4\\x0c\\x95\\x16\\xf6\\xd9\\xd1\\xd5\\xd8#}\\x00\\x00\\xf4\\xc00\\xc0,\\xc0(\\xc0$', b\"\\xc0\\n\\x00\\xa5\\x00\\xa3\\x00\\xa1\\x00\\x9f\\x00k\\x00j\\x00i\\x00h\\x009\\x008\\x007\\x006\\x00\\x88\\x00\\x87\\x00\\x86\\x00\\x85\\xc0\\x19\\x00\\xa7\\x00m\\x00:\\x00\\x89\\xc02\\xc0.\\xc0*\\xc0&\\xc0\\x0f\\xc0\\x05\\x00\\x9d\\x00=\\x005\\x00\\x84\\xc0/\\xc0+\\xc0'\\xc0#\\xc0\\x13\\xc0\\t\\x00\\xa4\\x00\\xa2\\x00\\xa0\\x00\\x9e\\x00g\\x00@\\x00?\\x00>\\x003\\x002\\x001\\x000\\x00\\x9a\\x00\\x99\\x00\\x98\\x00\\x97\\x00E\\x00D\\x00C\\x00B\\xc0\\x18\\x00\\xa6\\x00l\\x004\\x00\\x9b\\x00F\\xc01\\xc0-\\xc0)\\xc0%\\xc0\\x0e\\xc0\\x04\\x00\\x9c\\x00<\\x00/\\x00\\x96\\x00A\\x00\\x07\\xc0\\x11\\xc0\\x07\\xc0\\x16\\x00\\x18\\xc0\\x0c\\xc0\\x02\\x00\\x05\\x00\\x04\\xc0\\x12\\xc0\\x08\\x00\\x16\\x00\\x13\\x00\\x10\\x00\\r\\xc0\\x17\\x00\\x1b\\xc0\\r\\xc0\\x03\\x00\\n\\x00\"]\n",
      "Bad pipe message: %s [b'\\x12\\x00\\x0f\\x00\\x0c\\x00\\x1a\\x00\\t\\x00\\x14\\x00\\x11\\x00\\x19\\x00\\x08\\x00\\x06\\x00']\n",
      "Bad pipe message: %s [b'\\x03\\xc0\\x10\\xc0\\x06\\xc0\\x15\\xc0\\x0b\\xc0\\x01\\x00;\\x00\\x02\\x00\\x01\\x00\\xff\\x02\\x01\\x00']\n"
     ]
    }
   ],
   "source": [
    "print_heatmap(\n",
    "    np_rationales=np_rationales_min, \n",
    "    fig_size = (10,10), \n",
    "    font = 15,\n",
    "    yticklabels=tkn_taxonomy.keys() , \n",
    "    xticklabels=tkn_taxonomy.keys() )"
   ]
  }
 ],
 "metadata": {
  "interpreter": {
   "hash": "27c2fcb21fdb148cd37ecbed2ef65b6b1f3a0948b222c0bcf7dcf1d6a4c7a458"
  },
  "kernelspec": {
   "display_name": "Python 3.8.8 64-bit ('shapley-01': conda)",
   "language": "python",
   "name": "python3"
  },
  "language_info": {
   "codemirror_mode": {
    "name": "ipython",
    "version": 3
   },
   "file_extension": ".py",
   "mimetype": "text/x-python",
   "name": "python",
   "nbconvert_exporter": "python",
   "pygments_lexer": "ipython3",
   "version": "3.8.8"
  },
  "orig_nbformat": 4
 },
 "nbformat": 4,
 "nbformat_minor": 2
}
