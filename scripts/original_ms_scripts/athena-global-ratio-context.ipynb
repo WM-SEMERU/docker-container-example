{
 "cells": [
  {
   "cell_type": "markdown",
   "metadata": {},
   "source": [
    "# Athena Rationales Global\n",
    "Large Scale Empirical Analysis "
   ]
  },
  {
   "cell_type": "code",
   "execution_count": null,
   "metadata": {},
   "outputs": [],
   "source": []
  },
  {
   "cell_type": "code",
   "execution_count": 1,
   "metadata": {},
   "outputs": [],
   "source": [
    "from pathlib import Path\n",
    "import csv\n",
    "import seaborn as sns; sns.set_theme()\n",
    "import matplotlib.pyplot as plt\n",
    "import pandas as pd\n",
    "import numpy as np\n",
    "import functools\n",
    "\n",
    "pd.options.display.float_format = '{:.2f}'.format"
   ]
  },
  {
   "cell_type": "code",
   "execution_count": 2,
   "metadata": {},
   "outputs": [],
   "source": [
    "from tokenizers import ByteLevelBPETokenizer\n",
    "import torch\n",
    "import importlib\n",
    "from fairseq.models.transformer import TransformerModel"
   ]
  },
  {
   "cell_type": "code",
   "execution_count": 3,
   "metadata": {},
   "outputs": [],
   "source": [
    "import warnings\n",
    "from matplotlib import colors\n",
    "import os\n",
    "from rationalization import rationalize_lm, rationalize_conditional_model"
   ]
  },
  {
   "cell_type": "code",
   "execution_count": 4,
   "metadata": {},
   "outputs": [],
   "source": [
    "def param_default():\n",
    "    corpus_fm = 'fm'\n",
    "    corpus_fm_fc = 'fm_fc'\n",
    "    corpus_fm_fc_co = 'fm_fc_co'\n",
    "    corpus_fm_fc_ms = 'fm_fc_ms'\n",
    "    corpus_fm_fc_ms_ff = 'fm_fc_ms_ff' #<-- Scope\n",
    "    \n",
    "    corpora = [ corpus_fm, corpus_fm_fc, corpus_fm_fc_co, corpus_fm_fc_ms, corpus_fm_fc_ms_ff ]\n",
    "\n",
    "    #data_path = Path('../whole-dateset/corpus/' + corpus + '/')\n",
    "    data_path_raw_corpora = [ Path('../whole-dateset/corpus/' + corpus + '/raw/') for corpus in corpora ]\n",
    "    tokenizer_path = Path('../tokenizer/')\n",
    "    return {\n",
    "        'bpe_path' : tokenizer_path / 'universal_tokenizer/universal_tokenizer/roberta_aug_spaces',\n",
    "        'eval_raw': [ [data_path_raw / 'eval/input.methods.txt', data_path_raw / 'eval/output.tests.txt'] for data_path_raw in data_path_raw_corpora] ,\n",
    "        'test_raw': [ [data_path_raw / 'test/input.methods.txt', data_path_raw / 'test/output.tests.txt'] for data_path_raw in data_path_raw_corpora] ,\n",
    "        'train_raw': [ [data_path_raw / 'train/input.methods.txt', data_path_raw / 'train/output.tests.txt'] for data_path_raw in data_path_raw_corpora],\n",
    "        'data_labels' : ['test_raw'],#['eval_raw','test_raw','train_raw'], <----- Just Test\n",
    "        #'output_pandas' : data_path / 'pandas/',\n",
    "        'out_processed' : '/datasets/out_processed/',\n",
    "        'model_name_or_path' : 'models/checkpoint_dir_01/models/', #Model Path\n",
    "        'checkpoint_file': 'checkpoint_best.pt', #Model\n",
    "        'data_preprocessed':'/home/davidna/data/dummy/sequential-rationales/fairseq/fairseq/data-bin/bins/',\n",
    "        'output_results' : 'results/',\n",
    "        'corpora': corpora \n",
    "    }"
   ]
  },
  {
   "cell_type": "code",
   "execution_count": 5,
   "metadata": {},
   "outputs": [
    {
     "data": {
      "text/plain": [
       "['fm', 'fm_fc', 'fm_fc_co', 'fm_fc_ms', 'fm_fc_ms_ff']"
      ]
     },
     "execution_count": 5,
     "metadata": {},
     "output_type": "execute_result"
    }
   ],
   "source": [
    "params = param_default()\n",
    "params['corpora']"
   ]
  },
  {
   "cell_type": "markdown",
   "metadata": {},
   "source": [
    "## Rationalizations Utilities"
   ]
  },
  {
   "cell_type": "code",
   "execution_count": 6,
   "metadata": {},
   "outputs": [],
   "source": [
    "rationalization = importlib.import_module(\"sequential-rationales.huggingface.rationalization\")\n",
    "rationalize = rationalization.rationalize_lm\n",
    "warnings.filterwarnings(\"ignore\")"
   ]
  },
  {
   "cell_type": "markdown",
   "metadata": {},
   "source": [
    "## Universal Tokenizer"
   ]
  },
  {
   "cell_type": "code",
   "execution_count": 7,
   "metadata": {},
   "outputs": [],
   "source": [
    "def lazy_decode(bpe_java):\n",
    "    return bpe_java.replace(' ','').replace('Ġ',' ').replace('Ċ','\\n')"
   ]
  },
  {
   "cell_type": "code",
   "execution_count": 8,
   "metadata": {},
   "outputs": [],
   "source": [
    "def prettify_java(minified_java):\n",
    "    \"tries to undo Michele's minification. Works decently, although for loops and sets get newlines inserted, and there are no empty lines or comments\"\n",
    "    minified_java = minified_java.replace('{','{\\n').replace('}','}\\n').replace(';',';\\n')\n",
    "    num_indents = 0\n",
    "    pretty_java = ''\n",
    "    for line in minified_java.splitlines():\n",
    "        if line.lstrip().startswith('}'):\n",
    "            num_indents -= 1\n",
    "        pretty_java += num_indents*'    '+line+'\\n'\n",
    "        if line.endswith('{'):\n",
    "            num_indents += 1\n",
    "        if line.endswith('}') and not line.lstrip().startswith('}'):\n",
    "            num_indents -= 1\n",
    "    return pretty_java"
   ]
  },
  {
   "cell_type": "markdown",
   "metadata": {},
   "source": [
    "## Model Loading and Testing"
   ]
  },
  {
   "cell_type": "code",
   "execution_count": 9,
   "metadata": {},
   "outputs": [],
   "source": [
    "#Loading a pretrain model\n",
    "model = TransformerModel.from_pretrained(\n",
    "  model_name_or_path = params['model_name_or_path'],\n",
    "  checkpoint_file = params['checkpoint_file'],\n",
    "  #data_name_or_path = params['data_preprocessed']\n",
    ")"
   ]
  },
  {
   "cell_type": "code",
   "execution_count": 10,
   "metadata": {},
   "outputs": [],
   "source": [
    "#Setting experiments \n",
    "#! export CUDA_VISIBLE_DEVICES=\"0,1\""
   ]
  },
  {
   "cell_type": "code",
   "execution_count": 11,
   "metadata": {},
   "outputs": [],
   "source": [
    "## Move model to GPU if available and trigger evaluation mode\n",
    "def model_activate(model = model):\n",
    "  if torch.cuda.is_available():\n",
    "    model.cuda()\n",
    "    model.eval()\n",
    "    model.model = model.models[0]\n",
    "    model.device\n",
    "    print(\"Model Activated\")\n",
    "  pass"
   ]
  },
  {
   "cell_type": "markdown",
   "metadata": {},
   "source": [
    "## Universal Tokenizer"
   ]
  },
  {
   "cell_type": "code",
   "execution_count": 12,
   "metadata": {},
   "outputs": [],
   "source": [
    "def load_tokenizer(bpe_path):\n",
    "    return ByteLevelBPETokenizer(str(bpe_path)+'-vocab.json',str(bpe_path)+'-merges.txt')"
   ]
  },
  {
   "cell_type": "code",
   "execution_count": 13,
   "metadata": {},
   "outputs": [],
   "source": [
    "tokenizer = load_tokenizer(params['bpe_path'])"
   ]
  },
  {
   "cell_type": "markdown",
   "metadata": {},
   "source": [
    "## Data Loading and Testing"
   ]
  },
  {
   "cell_type": "code",
   "execution_count": 14,
   "metadata": {},
   "outputs": [],
   "source": [
    "#export\n",
    "def method_size_vector( method_vector ):\n",
    "    '''Return the size of the tokens for a give method based on id\n",
    "        Assuming that method_vector is an array of tokens\n",
    "    '''\n",
    "    input_ids = [ len(mtd) for mtd in method_vector ]\n",
    "    return input_ids"
   ]
  },
  {
   "cell_type": "code",
   "execution_count": 15,
   "metadata": {},
   "outputs": [],
   "source": [
    "def super_set_code():\n",
    "    data = {}\n",
    "    for label in params['data_labels']:\n",
    "        corpora = params['corpora']\n",
    "        for i,path_data in enumerate(params[ label ]):\n",
    "\n",
    "            print(i,corpora[i],path_data[0])\n",
    "            name = label + str('_input_') + corpora[i]\n",
    "            df = pd.read_csv( path_data[0], sep=\"\\n\", header=None, names=[ name ] ) #reading file\n",
    "            df[ label + '_bpe_' + str('_input_') + corpora[i]] = [ enc.tokens for enc in tokenizer.encode_batch( df[ name ].values ) ] #bpe\n",
    "            df['method_size'+ str('_input_') + corpora[i]] = method_size_vector( df[label + '_bpe_' + str('_input_') + corpora[i]].values ) #counting tokens\n",
    "            data[ name ] =  df  \n",
    "        #data[-1].columns = [ label ]\n",
    "    return data"
   ]
  },
  {
   "cell_type": "code",
   "execution_count": 16,
   "metadata": {},
   "outputs": [
    {
     "name": "stdout",
     "output_type": "stream",
     "text": [
      "0 fm ../whole-dateset/corpus/fm/raw/test/input.methods.txt\n",
      "1 fm_fc ../whole-dateset/corpus/fm_fc/raw/test/input.methods.txt\n",
      "2 fm_fc_co ../whole-dateset/corpus/fm_fc_co/raw/test/input.methods.txt\n",
      "3 fm_fc_ms ../whole-dateset/corpus/fm_fc_ms/raw/test/input.methods.txt\n",
      "4 fm_fc_ms_ff ../whole-dateset/corpus/fm_fc_ms_ff/raw/test/input.methods.txt\n"
     ]
    }
   ],
   "source": [
    "super_data = super_set_code()"
   ]
  },
  {
   "cell_type": "code",
   "execution_count": 17,
   "metadata": {},
   "outputs": [
    {
     "data": {
      "text/plain": [
       "dict_keys(['test_raw_input_fm', 'test_raw_input_fm_fc', 'test_raw_input_fm_fc_co', 'test_raw_input_fm_fc_ms', 'test_raw_input_fm_fc_ms_ff'])"
      ]
     },
     "execution_count": 17,
     "metadata": {},
     "output_type": "execute_result"
    }
   ],
   "source": [
    "super_data.keys()"
   ]
  },
  {
   "cell_type": "code",
   "execution_count": 18,
   "metadata": {},
   "outputs": [
    {
     "data": {
      "text/plain": [
       "(78388, 3)"
      ]
     },
     "execution_count": 18,
     "metadata": {},
     "output_type": "execute_result"
    }
   ],
   "source": [
    "super_data['test_raw_input_fm'].shape"
   ]
  },
  {
   "cell_type": "code",
   "execution_count": 20,
   "metadata": {},
   "outputs": [
    {
     "data": {
      "text/plain": [
       "(78388, 3)"
      ]
     },
     "execution_count": 20,
     "metadata": {},
     "output_type": "execute_result"
    }
   ],
   "source": [
    "super_data['test_raw_input_fm_fc'].shape"
   ]
  },
  {
   "cell_type": "code",
   "execution_count": 19,
   "metadata": {},
   "outputs": [],
   "source": [
    "flat_result = pd.concat(super_data, axis=1)"
   ]
  },
  {
   "cell_type": "code",
   "execution_count": 53,
   "metadata": {},
   "outputs": [
    {
     "data": {
      "text/html": [
       "<div>\n",
       "<style scoped>\n",
       "    .dataframe tbody tr th:only-of-type {\n",
       "        vertical-align: middle;\n",
       "    }\n",
       "\n",
       "    .dataframe tbody tr th {\n",
       "        vertical-align: top;\n",
       "    }\n",
       "\n",
       "    .dataframe thead tr th {\n",
       "        text-align: left;\n",
       "    }\n",
       "</style>\n",
       "<table border=\"1\" class=\"dataframe\">\n",
       "  <thead>\n",
       "    <tr>\n",
       "      <th></th>\n",
       "      <th colspan=\"3\" halign=\"left\">test_raw_input_fm</th>\n",
       "      <th colspan=\"3\" halign=\"left\">test_raw_input_fm_fc</th>\n",
       "      <th colspan=\"3\" halign=\"left\">test_raw_input_fm_fc_co</th>\n",
       "      <th colspan=\"3\" halign=\"left\">test_raw_input_fm_fc_ms</th>\n",
       "      <th colspan=\"3\" halign=\"left\">test_raw_input_fm_fc_ms_ff</th>\n",
       "    </tr>\n",
       "    <tr>\n",
       "      <th></th>\n",
       "      <th>test_raw_input_fm</th>\n",
       "      <th>test_raw_bpe__input_fm</th>\n",
       "      <th>method_size_input_fm</th>\n",
       "      <th>test_raw_input_fm_fc</th>\n",
       "      <th>test_raw_bpe__input_fm_fc</th>\n",
       "      <th>method_size_input_fm_fc</th>\n",
       "      <th>test_raw_input_fm_fc_co</th>\n",
       "      <th>test_raw_bpe__input_fm_fc_co</th>\n",
       "      <th>method_size_input_fm_fc_co</th>\n",
       "      <th>test_raw_input_fm_fc_ms</th>\n",
       "      <th>test_raw_bpe__input_fm_fc_ms</th>\n",
       "      <th>method_size_input_fm_fc_ms</th>\n",
       "      <th>test_raw_input_fm_fc_ms_ff</th>\n",
       "      <th>test_raw_bpe__input_fm_fc_ms_ff</th>\n",
       "      <th>method_size_input_fm_fc_ms_ff</th>\n",
       "    </tr>\n",
       "  </thead>\n",
       "  <tbody>\n",
       "    <tr>\n",
       "      <th>0</th>\n",
       "      <td>public static Date yearStart() { final Gregori...</td>\n",
       "      <td>[public, Ġstatic, ĠDate, Ġyear, Start, (), Ġ{,...</td>\n",
       "      <td>42</td>\n",
       "      <td>DateUtils { public static Date yearStart() { f...</td>\n",
       "      <td>[Date, Ut, ils, Ġ{, Ġpublic, Ġstatic, ĠDate, Ġ...</td>\n",
       "      <td>47</td>\n",
       "      <td>DateUtils { public static Date yearStart() { f...</td>\n",
       "      <td>[Date, Ut, ils, Ġ{, Ġpublic, Ġstatic, ĠDate, Ġ...</td>\n",
       "      <td>47</td>\n",
       "      <td>DateUtils { public static Date yearStart() { f...</td>\n",
       "      <td>[Date, Ut, ils, Ġ{, Ġpublic, Ġstatic, ĠDate, Ġ...</td>\n",
       "      <td>227</td>\n",
       "      <td>DateUtils { public static Date yearStart() { f...</td>\n",
       "      <td>[Date, Ut, ils, Ġ{, Ġpublic, Ġstatic, ĠDate, Ġ...</td>\n",
       "      <td>227</td>\n",
       "    </tr>\n",
       "    <tr>\n",
       "      <th>1</th>\n",
       "      <td>public static Date yearEnd() { final Gregorian...</td>\n",
       "      <td>[public, Ġstatic, ĠDate, Ġyear, End, (), Ġ{, Ġ...</td>\n",
       "      <td>65</td>\n",
       "      <td>DateUtils { public static Date yearEnd() { fin...</td>\n",
       "      <td>[Date, Ut, ils, Ġ{, Ġpublic, Ġstatic, ĠDate, Ġ...</td>\n",
       "      <td>70</td>\n",
       "      <td>DateUtils { public static Date yearEnd() { fin...</td>\n",
       "      <td>[Date, Ut, ils, Ġ{, Ġpublic, Ġstatic, ĠDate, Ġ...</td>\n",
       "      <td>70</td>\n",
       "      <td>DateUtils { public static Date yearEnd() { fin...</td>\n",
       "      <td>[Date, Ut, ils, Ġ{, Ġpublic, Ġstatic, ĠDate, Ġ...</td>\n",
       "      <td>250</td>\n",
       "      <td>DateUtils { public static Date yearEnd() { fin...</td>\n",
       "      <td>[Date, Ut, ils, Ġ{, Ġpublic, Ġstatic, ĠDate, Ġ...</td>\n",
       "      <td>250</td>\n",
       "    </tr>\n",
       "    <tr>\n",
       "      <th>2</th>\n",
       "      <td>public void validate(TokenBinding clientDataTo...</td>\n",
       "      <td>[public, Ġvoid, Ġvalidate, (, Token, B, inding...</td>\n",
       "      <td>170</td>\n",
       "      <td>TokenBindingValidator { public void validate(T...</td>\n",
       "      <td>[Token, B, inding, Valid, ator, Ġ{, Ġpublic, Ġ...</td>\n",
       "      <td>177</td>\n",
       "      <td>TokenBindingValidator { public void validate(T...</td>\n",
       "      <td>[Token, B, inding, Valid, ator, Ġ{, Ġpublic, Ġ...</td>\n",
       "      <td>177</td>\n",
       "      <td>TokenBindingValidator { public void validate(T...</td>\n",
       "      <td>[Token, B, inding, Valid, ator, Ġ{, Ġpublic, Ġ...</td>\n",
       "      <td>197</td>\n",
       "      <td>TokenBindingValidator { public void validate(T...</td>\n",
       "      <td>[Token, B, inding, Valid, ator, Ġ{, Ġpublic, Ġ...</td>\n",
       "      <td>197</td>\n",
       "    </tr>\n",
       "    <tr>\n",
       "      <th>3</th>\n",
       "      <td>public static int getUnsignedShort(ByteBuffer ...</td>\n",
       "      <td>[public, Ġstatic, Ġint, Ġget, Un, signed, Shor...</td>\n",
       "      <td>29</td>\n",
       "      <td>UnsignedNumberUtil { public static int getUnsi...</td>\n",
       "      <td>[Un, signed, Number, Ut, il, Ġ{, Ġpublic, Ġsta...</td>\n",
       "      <td>36</td>\n",
       "      <td>UnsignedNumberUtil { public static int getUnsi...</td>\n",
       "      <td>[Un, signed, Number, Ut, il, Ġ{, Ġpublic, Ġsta...</td>\n",
       "      <td>43</td>\n",
       "      <td>UnsignedNumberUtil { public static int getUnsi...</td>\n",
       "      <td>[Un, signed, Number, Ut, il, Ġ{, Ġpublic, Ġsta...</td>\n",
       "      <td>191</td>\n",
       "      <td>UnsignedNumberUtil { public static int getUnsi...</td>\n",
       "      <td>[Un, signed, Number, Ut, il, Ġ{, Ġpublic, Ġsta...</td>\n",
       "      <td>239</td>\n",
       "    </tr>\n",
       "    <tr>\n",
       "      <th>4</th>\n",
       "      <td>public static boolean isWithinUnsignedLong(Big...</td>\n",
       "      <td>[public, Ġstatic, Ġboolean, Ġis, Within, Un, s...</td>\n",
       "      <td>41</td>\n",
       "      <td>UnsignedNumberUtil { public static boolean isW...</td>\n",
       "      <td>[Un, signed, Number, Ut, il, Ġ{, Ġpublic, Ġsta...</td>\n",
       "      <td>48</td>\n",
       "      <td>UnsignedNumberUtil { public static boolean isW...</td>\n",
       "      <td>[Un, signed, Number, Ut, il, Ġ{, Ġpublic, Ġsta...</td>\n",
       "      <td>55</td>\n",
       "      <td>UnsignedNumberUtil { public static boolean isW...</td>\n",
       "      <td>[Un, signed, Number, Ut, il, Ġ{, Ġpublic, Ġsta...</td>\n",
       "      <td>203</td>\n",
       "      <td>UnsignedNumberUtil { public static boolean isW...</td>\n",
       "      <td>[Un, signed, Number, Ut, il, Ġ{, Ġpublic, Ġsta...</td>\n",
       "      <td>251</td>\n",
       "    </tr>\n",
       "  </tbody>\n",
       "</table>\n",
       "</div>"
      ],
      "text/plain": [
       "                                   test_raw_input_fm  \\\n",
       "                                   test_raw_input_fm   \n",
       "0  public static Date yearStart() { final Gregori...   \n",
       "1  public static Date yearEnd() { final Gregorian...   \n",
       "2  public void validate(TokenBinding clientDataTo...   \n",
       "3  public static int getUnsignedShort(ByteBuffer ...   \n",
       "4  public static boolean isWithinUnsignedLong(Big...   \n",
       "\n",
       "                                                                           \\\n",
       "                              test_raw_bpe__input_fm method_size_input_fm   \n",
       "0  [public, Ġstatic, ĠDate, Ġyear, Start, (), Ġ{,...                   42   \n",
       "1  [public, Ġstatic, ĠDate, Ġyear, End, (), Ġ{, Ġ...                   65   \n",
       "2  [public, Ġvoid, Ġvalidate, (, Token, B, inding...                  170   \n",
       "3  [public, Ġstatic, Ġint, Ġget, Un, signed, Shor...                   29   \n",
       "4  [public, Ġstatic, Ġboolean, Ġis, Within, Un, s...                   41   \n",
       "\n",
       "                                test_raw_input_fm_fc  \\\n",
       "                                test_raw_input_fm_fc   \n",
       "0  DateUtils { public static Date yearStart() { f...   \n",
       "1  DateUtils { public static Date yearEnd() { fin...   \n",
       "2  TokenBindingValidator { public void validate(T...   \n",
       "3  UnsignedNumberUtil { public static int getUnsi...   \n",
       "4  UnsignedNumberUtil { public static boolean isW...   \n",
       "\n",
       "                                                                              \\\n",
       "                           test_raw_bpe__input_fm_fc method_size_input_fm_fc   \n",
       "0  [Date, Ut, ils, Ġ{, Ġpublic, Ġstatic, ĠDate, Ġ...                      47   \n",
       "1  [Date, Ut, ils, Ġ{, Ġpublic, Ġstatic, ĠDate, Ġ...                      70   \n",
       "2  [Token, B, inding, Valid, ator, Ġ{, Ġpublic, Ġ...                     177   \n",
       "3  [Un, signed, Number, Ut, il, Ġ{, Ġpublic, Ġsta...                      36   \n",
       "4  [Un, signed, Number, Ut, il, Ġ{, Ġpublic, Ġsta...                      48   \n",
       "\n",
       "                             test_raw_input_fm_fc_co  \\\n",
       "                             test_raw_input_fm_fc_co   \n",
       "0  DateUtils { public static Date yearStart() { f...   \n",
       "1  DateUtils { public static Date yearEnd() { fin...   \n",
       "2  TokenBindingValidator { public void validate(T...   \n",
       "3  UnsignedNumberUtil { public static int getUnsi...   \n",
       "4  UnsignedNumberUtil { public static boolean isW...   \n",
       "\n",
       "                                                      \\\n",
       "                        test_raw_bpe__input_fm_fc_co   \n",
       "0  [Date, Ut, ils, Ġ{, Ġpublic, Ġstatic, ĠDate, Ġ...   \n",
       "1  [Date, Ut, ils, Ġ{, Ġpublic, Ġstatic, ĠDate, Ġ...   \n",
       "2  [Token, B, inding, Valid, ator, Ġ{, Ġpublic, Ġ...   \n",
       "3  [Un, signed, Number, Ut, il, Ġ{, Ġpublic, Ġsta...   \n",
       "4  [Un, signed, Number, Ut, il, Ġ{, Ġpublic, Ġsta...   \n",
       "\n",
       "                              \\\n",
       "  method_size_input_fm_fc_co   \n",
       "0                         47   \n",
       "1                         70   \n",
       "2                        177   \n",
       "3                         43   \n",
       "4                         55   \n",
       "\n",
       "                             test_raw_input_fm_fc_ms  \\\n",
       "                             test_raw_input_fm_fc_ms   \n",
       "0  DateUtils { public static Date yearStart() { f...   \n",
       "1  DateUtils { public static Date yearEnd() { fin...   \n",
       "2  TokenBindingValidator { public void validate(T...   \n",
       "3  UnsignedNumberUtil { public static int getUnsi...   \n",
       "4  UnsignedNumberUtil { public static boolean isW...   \n",
       "\n",
       "                                                      \\\n",
       "                        test_raw_bpe__input_fm_fc_ms   \n",
       "0  [Date, Ut, ils, Ġ{, Ġpublic, Ġstatic, ĠDate, Ġ...   \n",
       "1  [Date, Ut, ils, Ġ{, Ġpublic, Ġstatic, ĠDate, Ġ...   \n",
       "2  [Token, B, inding, Valid, ator, Ġ{, Ġpublic, Ġ...   \n",
       "3  [Un, signed, Number, Ut, il, Ġ{, Ġpublic, Ġsta...   \n",
       "4  [Un, signed, Number, Ut, il, Ġ{, Ġpublic, Ġsta...   \n",
       "\n",
       "                              \\\n",
       "  method_size_input_fm_fc_ms   \n",
       "0                        227   \n",
       "1                        250   \n",
       "2                        197   \n",
       "3                        191   \n",
       "4                        203   \n",
       "\n",
       "                          test_raw_input_fm_fc_ms_ff  \\\n",
       "                          test_raw_input_fm_fc_ms_ff   \n",
       "0  DateUtils { public static Date yearStart() { f...   \n",
       "1  DateUtils { public static Date yearEnd() { fin...   \n",
       "2  TokenBindingValidator { public void validate(T...   \n",
       "3  UnsignedNumberUtil { public static int getUnsi...   \n",
       "4  UnsignedNumberUtil { public static boolean isW...   \n",
       "\n",
       "                                                      \\\n",
       "                     test_raw_bpe__input_fm_fc_ms_ff   \n",
       "0  [Date, Ut, ils, Ġ{, Ġpublic, Ġstatic, ĠDate, Ġ...   \n",
       "1  [Date, Ut, ils, Ġ{, Ġpublic, Ġstatic, ĠDate, Ġ...   \n",
       "2  [Token, B, inding, Valid, ator, Ġ{, Ġpublic, Ġ...   \n",
       "3  [Un, signed, Number, Ut, il, Ġ{, Ġpublic, Ġsta...   \n",
       "4  [Un, signed, Number, Ut, il, Ġ{, Ġpublic, Ġsta...   \n",
       "\n",
       "                                 \n",
       "  method_size_input_fm_fc_ms_ff  \n",
       "0                           227  \n",
       "1                           250  \n",
       "2                           197  \n",
       "3                           239  \n",
       "4                           251  "
      ]
     },
     "execution_count": 53,
     "metadata": {},
     "output_type": "execute_result"
    }
   ],
   "source": [
    "flat_result.head()"
   ]
  },
  {
   "cell_type": "code",
   "execution_count": null,
   "metadata": {},
   "outputs": [],
   "source": [
    "df_indexes = pd.DataFrame()"
   ]
  },
  {
   "cell_type": "code",
   "execution_count": 49,
   "metadata": {},
   "outputs": [],
   "source": [
    "df_indexes[['fm','fm_fc','fm_fc_co','fm_fc_ms','fm_fc_ms_ff']] = flat_result[[\n",
    "    ('test_raw_input_fm','method_size_input_fm'),\n",
    "    ('test_raw_input_fm_fc', 'method_size_input_fm_fc'),\n",
    "    ('test_raw_input_fm_fc_co', 'method_size_input_fm_fc_co'),\n",
    "    ('test_raw_input_fm_fc_ms', 'method_size_input_fm_fc_ms'),\n",
    "    ('test_raw_input_fm_fc_ms_ff', 'method_size_input_fm_fc_ms_ff')\n",
    "    ]].copy()"
   ]
  },
  {
   "cell_type": "code",
   "execution_count": 51,
   "metadata": {},
   "outputs": [],
   "source": [
    "df_indexes['fm_fc__fm'] =  df_indexes['fm_fc'].values - df_indexes['fm']"
   ]
  },
  {
   "cell_type": "code",
   "execution_count": 52,
   "metadata": {},
   "outputs": [
    {
     "data": {
      "text/html": [
       "<div>\n",
       "<style scoped>\n",
       "    .dataframe tbody tr th:only-of-type {\n",
       "        vertical-align: middle;\n",
       "    }\n",
       "\n",
       "    .dataframe tbody tr th {\n",
       "        vertical-align: top;\n",
       "    }\n",
       "\n",
       "    .dataframe thead th {\n",
       "        text-align: right;\n",
       "    }\n",
       "</style>\n",
       "<table border=\"1\" class=\"dataframe\">\n",
       "  <thead>\n",
       "    <tr style=\"text-align: right;\">\n",
       "      <th></th>\n",
       "      <th>fm</th>\n",
       "      <th>fm_fc</th>\n",
       "      <th>fm_fc_co</th>\n",
       "      <th>fm_fc_ms</th>\n",
       "      <th>fm_fc_ms_ff</th>\n",
       "      <th>fm_fc__fm</th>\n",
       "    </tr>\n",
       "  </thead>\n",
       "  <tbody>\n",
       "    <tr>\n",
       "      <th>0</th>\n",
       "      <td>42</td>\n",
       "      <td>47</td>\n",
       "      <td>47</td>\n",
       "      <td>227</td>\n",
       "      <td>227</td>\n",
       "      <td>5</td>\n",
       "    </tr>\n",
       "    <tr>\n",
       "      <th>1</th>\n",
       "      <td>65</td>\n",
       "      <td>70</td>\n",
       "      <td>70</td>\n",
       "      <td>250</td>\n",
       "      <td>250</td>\n",
       "      <td>5</td>\n",
       "    </tr>\n",
       "    <tr>\n",
       "      <th>2</th>\n",
       "      <td>170</td>\n",
       "      <td>177</td>\n",
       "      <td>177</td>\n",
       "      <td>197</td>\n",
       "      <td>197</td>\n",
       "      <td>7</td>\n",
       "    </tr>\n",
       "    <tr>\n",
       "      <th>3</th>\n",
       "      <td>29</td>\n",
       "      <td>36</td>\n",
       "      <td>43</td>\n",
       "      <td>191</td>\n",
       "      <td>239</td>\n",
       "      <td>7</td>\n",
       "    </tr>\n",
       "    <tr>\n",
       "      <th>4</th>\n",
       "      <td>41</td>\n",
       "      <td>48</td>\n",
       "      <td>55</td>\n",
       "      <td>203</td>\n",
       "      <td>251</td>\n",
       "      <td>7</td>\n",
       "    </tr>\n",
       "    <tr>\n",
       "      <th>...</th>\n",
       "      <td>...</td>\n",
       "      <td>...</td>\n",
       "      <td>...</td>\n",
       "      <td>...</td>\n",
       "      <td>...</td>\n",
       "      <td>...</td>\n",
       "    </tr>\n",
       "    <tr>\n",
       "      <th>78383</th>\n",
       "      <td>22</td>\n",
       "      <td>39</td>\n",
       "      <td>43</td>\n",
       "      <td>80</td>\n",
       "      <td>80</td>\n",
       "      <td>17</td>\n",
       "    </tr>\n",
       "    <tr>\n",
       "      <th>78384</th>\n",
       "      <td>62</td>\n",
       "      <td>70</td>\n",
       "      <td>89</td>\n",
       "      <td>281</td>\n",
       "      <td>281</td>\n",
       "      <td>8</td>\n",
       "    </tr>\n",
       "    <tr>\n",
       "      <th>78385</th>\n",
       "      <td>23</td>\n",
       "      <td>35</td>\n",
       "      <td>77</td>\n",
       "      <td>605</td>\n",
       "      <td>605</td>\n",
       "      <td>12</td>\n",
       "    </tr>\n",
       "    <tr>\n",
       "      <th>78386</th>\n",
       "      <td>21</td>\n",
       "      <td>27</td>\n",
       "      <td>41</td>\n",
       "      <td>329</td>\n",
       "      <td>329</td>\n",
       "      <td>6</td>\n",
       "    </tr>\n",
       "    <tr>\n",
       "      <th>78387</th>\n",
       "      <td>330</td>\n",
       "      <td>336</td>\n",
       "      <td>350</td>\n",
       "      <td>357</td>\n",
       "      <td>357</td>\n",
       "      <td>6</td>\n",
       "    </tr>\n",
       "  </tbody>\n",
       "</table>\n",
       "<p>78388 rows × 6 columns</p>\n",
       "</div>"
      ],
      "text/plain": [
       "        fm  fm_fc  fm_fc_co  fm_fc_ms  fm_fc_ms_ff  fm_fc__fm\n",
       "0       42     47        47       227          227          5\n",
       "1       65     70        70       250          250          5\n",
       "2      170    177       177       197          197          7\n",
       "3       29     36        43       191          239          7\n",
       "4       41     48        55       203          251          7\n",
       "...    ...    ...       ...       ...          ...        ...\n",
       "78383   22     39        43        80           80         17\n",
       "78384   62     70        89       281          281          8\n",
       "78385   23     35        77       605          605         12\n",
       "78386   21     27        41       329          329          6\n",
       "78387  330    336       350       357          357          6\n",
       "\n",
       "[78388 rows x 6 columns]"
      ]
     },
     "execution_count": 52,
     "metadata": {},
     "output_type": "execute_result"
    }
   ],
   "source": [
    "df_indexes"
   ]
  },
  {
   "cell_type": "code",
   "execution_count": 66,
   "metadata": {},
   "outputs": [],
   "source": [
    "df_index_sampled = df_indexes.sample(\n",
    "    n= 1000,\n",
    "    random_state=3\n",
    ").copy()"
   ]
  },
  {
   "cell_type": "code",
   "execution_count": 67,
   "metadata": {},
   "outputs": [
    {
     "data": {
      "text/html": [
       "<div>\n",
       "<style scoped>\n",
       "    .dataframe tbody tr th:only-of-type {\n",
       "        vertical-align: middle;\n",
       "    }\n",
       "\n",
       "    .dataframe tbody tr th {\n",
       "        vertical-align: top;\n",
       "    }\n",
       "\n",
       "    .dataframe thead th {\n",
       "        text-align: right;\n",
       "    }\n",
       "</style>\n",
       "<table border=\"1\" class=\"dataframe\">\n",
       "  <thead>\n",
       "    <tr style=\"text-align: right;\">\n",
       "      <th></th>\n",
       "      <th>fm</th>\n",
       "      <th>fm_fc</th>\n",
       "      <th>fm_fc_co</th>\n",
       "      <th>fm_fc_ms</th>\n",
       "      <th>fm_fc_ms_ff</th>\n",
       "      <th>fm_fc__fm</th>\n",
       "    </tr>\n",
       "  </thead>\n",
       "  <tbody>\n",
       "    <tr>\n",
       "      <th>17231</th>\n",
       "      <td>195</td>\n",
       "      <td>212</td>\n",
       "      <td>221</td>\n",
       "      <td>277</td>\n",
       "      <td>277</td>\n",
       "      <td>17</td>\n",
       "    </tr>\n",
       "    <tr>\n",
       "      <th>23059</th>\n",
       "      <td>273</td>\n",
       "      <td>278</td>\n",
       "      <td>278</td>\n",
       "      <td>423</td>\n",
       "      <td>423</td>\n",
       "      <td>5</td>\n",
       "    </tr>\n",
       "    <tr>\n",
       "      <th>24609</th>\n",
       "      <td>16</td>\n",
       "      <td>32</td>\n",
       "      <td>112</td>\n",
       "      <td>317</td>\n",
       "      <td>317</td>\n",
       "      <td>16</td>\n",
       "    </tr>\n",
       "    <tr>\n",
       "      <th>30509</th>\n",
       "      <td>92</td>\n",
       "      <td>99</td>\n",
       "      <td>114</td>\n",
       "      <td>114</td>\n",
       "      <td>114</td>\n",
       "      <td>7</td>\n",
       "    </tr>\n",
       "    <tr>\n",
       "      <th>62188</th>\n",
       "      <td>144</td>\n",
       "      <td>148</td>\n",
       "      <td>169</td>\n",
       "      <td>204</td>\n",
       "      <td>204</td>\n",
       "      <td>4</td>\n",
       "    </tr>\n",
       "    <tr>\n",
       "      <th>...</th>\n",
       "      <td>...</td>\n",
       "      <td>...</td>\n",
       "      <td>...</td>\n",
       "      <td>...</td>\n",
       "      <td>...</td>\n",
       "      <td>...</td>\n",
       "    </tr>\n",
       "    <tr>\n",
       "      <th>60348</th>\n",
       "      <td>1805</td>\n",
       "      <td>1818</td>\n",
       "      <td>1911</td>\n",
       "      <td>2097</td>\n",
       "      <td>2120</td>\n",
       "      <td>13</td>\n",
       "    </tr>\n",
       "    <tr>\n",
       "      <th>20066</th>\n",
       "      <td>1019</td>\n",
       "      <td>1029</td>\n",
       "      <td>1056</td>\n",
       "      <td>1080</td>\n",
       "      <td>1154</td>\n",
       "      <td>10</td>\n",
       "    </tr>\n",
       "    <tr>\n",
       "      <th>50521</th>\n",
       "      <td>361</td>\n",
       "      <td>386</td>\n",
       "      <td>446</td>\n",
       "      <td>552</td>\n",
       "      <td>552</td>\n",
       "      <td>25</td>\n",
       "    </tr>\n",
       "    <tr>\n",
       "      <th>76473</th>\n",
       "      <td>374</td>\n",
       "      <td>387</td>\n",
       "      <td>387</td>\n",
       "      <td>2528</td>\n",
       "      <td>2563</td>\n",
       "      <td>13</td>\n",
       "    </tr>\n",
       "    <tr>\n",
       "      <th>40635</th>\n",
       "      <td>14</td>\n",
       "      <td>28</td>\n",
       "      <td>51</td>\n",
       "      <td>108</td>\n",
       "      <td>108</td>\n",
       "      <td>14</td>\n",
       "    </tr>\n",
       "  </tbody>\n",
       "</table>\n",
       "<p>1000 rows × 6 columns</p>\n",
       "</div>"
      ],
      "text/plain": [
       "         fm  fm_fc  fm_fc_co  fm_fc_ms  fm_fc_ms_ff  fm_fc__fm\n",
       "17231   195    212       221       277          277         17\n",
       "23059   273    278       278       423          423          5\n",
       "24609    16     32       112       317          317         16\n",
       "30509    92     99       114       114          114          7\n",
       "62188   144    148       169       204          204          4\n",
       "...     ...    ...       ...       ...          ...        ...\n",
       "60348  1805   1818      1911      2097         2120         13\n",
       "20066  1019   1029      1056      1080         1154         10\n",
       "50521   361    386       446       552          552         25\n",
       "76473   374    387       387      2528         2563         13\n",
       "40635    14     28        51       108          108         14\n",
       "\n",
       "[1000 rows x 6 columns]"
      ]
     },
     "execution_count": 67,
     "metadata": {},
     "output_type": "execute_result"
    }
   ],
   "source": [
    "df_index_sampled"
   ]
  },
  {
   "cell_type": "code",
   "execution_count": null,
   "metadata": {},
   "outputs": [],
   "source": [
    "############################################"
   ]
  },
  {
   "cell_type": "code",
   "execution_count": 64,
   "metadata": {},
   "outputs": [],
   "source": [
    "#Loading Code Generation\n",
    "df_generated_input = pd.read_json( params['output_results'] + 'generation_01.json' )"
   ]
  },
  {
   "cell_type": "code",
   "execution_count": 61,
   "metadata": {},
   "outputs": [
    {
     "data": {
      "text/plain": [
       "5"
      ]
     },
     "execution_count": 61,
     "metadata": {},
     "output_type": "execute_result"
    }
   ],
   "source": [
    "df_indexes['fm_fc__fm'][0]"
   ]
  },
  {
   "cell_type": "code",
   "execution_count": 69,
   "metadata": {},
   "outputs": [
    {
     "data": {
      "text/plain": [
       "163"
      ]
     },
     "execution_count": 69,
     "metadata": {},
     "output_type": "execute_result"
    },
    {
     "name": "stderr",
     "output_type": "stream",
     "text": [
      "Bad pipe message: %s [b'Q\\x91Y\\xbe\\xe4\\xb9u.E?\\xd1\\x1b\\x98H\\x16=[\\xa9 \\xab;\\x8c\\x18\\xf7:Dur`\\x99}jA\\xd2\\xd9\\xa4\\x0b\\xe9Y\\x7f\\x84\\xeb\\x17\\x87\\xd3;\\xeb\\xf9\\x01yk\\x00\\x08\\x13\\x02\\x13\\x03\\x13\\x01\\x00\\xff\\x01\\x00\\x00\\x8f\\x00\\x00\\x00\\x0e\\x00\\x0c\\x00\\x00\\t127.0.0.1\\x00\\x0b\\x00\\x04\\x03\\x00\\x01\\x02\\x00\\n\\x00\\x0c\\x00\\n\\x00\\x1d\\x00\\x17\\x00\\x1e\\x00\\x19\\x00\\x18\\x00#\\x00\\x00\\x00\\x16\\x00\\x00\\x00\\x17\\x00\\x00\\x00\\r\\x00\\x1e\\x00\\x1c\\x04\\x03\\x05\\x03\\x06\\x03\\x08\\x07\\x08\\x08\\x08\\t\\x08\\n\\x08\\x0b\\x08\\x04\\x08\\x05\\x08\\x06\\x04\\x01\\x05\\x01\\x06\\x01\\x00+\\x00\\x03\\x02\\x03\\x04\\x00-\\x00\\x02\\x01\\x01\\x003\\x00&\\x00$\\x00\\x1d\\x00 k\\r\\xc3\\x86\\xe0\\x8f\\xc55\\x8d\\x8d\\x00\\xb55dYh\\xb5+%\\xac\\x92fT\\xd3\\xf3{\\xf6\\x80\\x92L\\xd0']\n",
      "Bad pipe message: %s [b'\\x0b\\xeeJ\\xf2\\xf7U\\xb6\"\\xf7b\\xed\\xf6\\xbf\\xf5b\\x14G\\xbd\\x00\\x00\\xa6\\xc0,\\xc00\\x00\\xa3\\x00\\x9f\\xcc\\xa9\\xcc\\xa8\\xcc']\n",
      "Bad pipe message: %s [b\"\\xaf\\xc0\\xad\\xc0\\xa3\\xc0\\x9f\\xc0]\\xc0a\\xc0W\\xc0S\\xc0+\\xc0/\\x00\\xa2\\x00\\x9e\\xc0\\xae\\xc0\\xac\\xc0\\xa2\\xc0\\x9e\\xc0\\\\\\xc0`\\xc0V\\xc0R\\xc0$\\xc0(\\x00k\\x00j\\xc0s\\xc0w\\x00\\xc4\\x00\\xc3\\xc0#\\xc0'\\x00g\\x00@\\xc0r\\xc0v\\x00\\xbe\\x00\\xbd\\xc0\\n\\xc0\\x14\\x009\\x008\\x00\\x88\\x00\\x87\\xc0\\t\\xc0\\x13\\x003\\x002\\x00\\x9a\\x00\\x99\\x00E\\x00D\\xc0\\x07\\xc0\\x11\\xc0\\x08\\xc0\\x12\\x00\\x16\\x00\\x13\\x00\\x9d\\xc0\\xa1\\xc0\\x9d\\xc0Q\\x00\\x9c\\xc0\\xa0\\xc0\\x9c\\xc0P\\x00=\\x00\\xc0\\x00<\\x00\\xba\\x005\\x00\\x84\\x00/\\x00\\x96\\x00A\\x00\\x05\\x00\\n\\x00\\xff\\x01\\x00\\x00j\\x00\\x00\\x00\\x0e\\x00\\x0c\\x00\\x00\\t127.0\"]\n",
      "Bad pipe message: %s [b'.1\\x00\\x0b\\x00\\x04\\x03\\x00\\x01\\x02\\x00\\n\\x00\\x0c\\x00\\n\\x00\\x1d\\x00\\x17\\x00\\x1e\\x00\\x19\\x00\\x18\\x00#\\x00\\x00\\x00\\x16\\x00\\x00\\x00\\x17\\x00\\x00\\x00\\r\\x000\\x00.\\x04']\n",
      "Bad pipe message: %s [b'\\x03\\x06', b'\\x07\\x08']\n",
      "Bad pipe message: %s [b'\\t\\x08\\n\\x08\\x0b\\x08\\x04']\n",
      "Bad pipe message: %s [b\"l\\xc3\\x86\\xb5C \\x96\\xa1\\x13\\xf2g\\x16\\x97e\\x0f\\xbaZ'\\x00\\x00>\\xc0\\x14\\xc0\\n\\x009\\x008\\x007\\x006\\xc0\\x0f\\xc0\\x05\\x005\\xc0\\x13\\xc0\\t\\x003\\x002\\x001\\x000\\xc0\\x0e\\xc0\\x04\\x00/\\x00\\x9a\\x00\\x99\\x00\\x98\\x00\\x97\\x00\\x96\\x00\\x07\\xc0\\x11\\xc0\\x07\\xc0\\x0c\\xc0\\x02\\x00\\x05\\x00\"]\n",
      "Bad pipe message: %s [b'\\x08\\x06\\x04\\x01\\x05\\x01\\x06', b'', b'\\x03\\x03']\n",
      "Bad pipe message: %s [b'\\xff\\x02\\x01']\n",
      "Bad pipe message: %s [b'']\n",
      "Bad pipe message: %s [b'', b'\\x02']\n",
      "Bad pipe message: %s [b'\\x9f{g\\xa4\\x9c H\\xceT\\xe7yb\\x11WP\\xa5Q\"\\x00\\x00>\\xc0\\x14\\xc0\\n\\x009\\x008\\x007\\x006\\xc0\\x0f\\xc0\\x05\\x005\\xc0\\x13\\xc0\\t\\x003\\x002\\x001\\x000\\xc0\\x0e\\xc0\\x04\\x00/\\x00\\x9a\\x00\\x99\\x00\\x98\\x00\\x97\\x00\\x96\\x00\\x07\\xc0\\x11\\xc0\\x07\\xc0\\x0c\\xc0\\x02\\x00\\x05\\x00\\x04\\x00\\xff\\x02\\x01\\x00\\x00C\\x00\\x00\\x00\\x0e\\x00\\x0c\\x00\\x00\\t127.0.0.1\\x00\\x0b\\x00\\x04\\x03\\x00\\x01\\x02\\x00\\n\\x00\\x1c\\x00\\x1a\\x00\\x17\\x00\\x19\\x00\\x1c\\x00\\x1b\\x00\\x18\\x00\\x1a\\x00\\x16\\x00\\x0e\\x00\\r\\x00\\x0b\\x00\\x0c\\x00']\n",
      "Bad pipe message: %s [b'\\x05\\x02\\x06']\n",
      "Bad pipe message: %s [b'\\n\\x00#\\x00\\x00\\x00\\x0f\\x00']\n",
      "Bad pipe message: %s [b'\\xb2\\x04\\x04\\x113\\xea']\n",
      "Bad pipe message: %s [b'\\x1c\\x10*\\xa7\\xd0u\\x846\\xea\\xcfq\\x82W\\ns}\\x9b\\xbf\\x00\\x00\\xa2\\xc0\\x14\\xc0\\n\\x009\\x008\\x007\\x006\\x00\\x88']\n",
      "Bad pipe message: %s [b\"\\x0f\\x8e\\xc9m\\xce^<\\xb4\\xc4\\xb0\\xd8\\xc7\\x0c=\\xe3\\n\\xc5J\\x00\\x00\\xf4\\xc00\\xc0,\\xc0(\\xc0$\\xc0\\x14\\xc0\\n\\x00\\xa5\\x00\\xa3\\x00\\xa1\\x00\\x9f\\x00k\\x00j\\x00i\\x00h\\x009\\x008\\x007\\x006\\x00\\x88\\x00\\x87\\x00\\x86\\x00\\x85\\xc0\\x19\\x00\\xa7\\x00m\\x00:\\x00\\x89\\xc02\\xc0.\\xc0*\\xc0&\\xc0\\x0f\\xc0\\x05\\x00\\x9d\\x00=\\x005\\x00\\x84\\xc0/\\xc0+\\xc0'\\xc0#\\xc0\\x13\\xc0\\t\\x00\\xa4\\x00\\xa2\\x00\\xa0\\x00\\x9e\\x00\", b'@\\x00?\\x00>\\x003\\x002\\x001\\x000\\x00\\x9a\\x00\\x99\\x00\\x98\\x00\\x97\\x00E\\x00D\\x00C\\x00B\\xc0\\x18\\x00\\xa6\\x00l\\x004\\x00\\x9b\\x00F\\xc01\\xc0-\\xc0)\\xc0%\\xc0\\x0e\\xc0\\x04\\x00\\x9c\\x00<\\x00/\\x00\\x96\\x00A\\x00\\x07\\xc0\\x11\\xc0\\x07\\xc0\\x16\\x00\\x18\\xc0\\x0c\\xc0\\x02\\x00\\x05\\x00\\x04\\xc0\\x12\\xc0\\x08\\x00\\x16\\x00\\x13\\x00\\x10\\x00\\r\\xc0\\x17\\x00\\x1b\\xc0\\r\\xc0\\x03\\x00']\n",
      "Bad pipe message: %s [b'\\x15\\x00\\x12\\x00\\x0f\\x00\\x0c\\x00\\x1a']\n"
     ]
    }
   ],
   "source": [
    "len(df_generated_input['source_sampling'][0])"
   ]
  },
  {
   "cell_type": "code",
   "execution_count": 63,
   "metadata": {},
   "outputs": [
    {
     "data": {
      "text/plain": [
       "'Thread s Process ing Item'"
      ]
     },
     "execution_count": 63,
     "metadata": {},
     "output_type": "execute_result"
    }
   ],
   "source": [
    "#Example of ContextWindow\n",
    "temp_class = df_generated_input['source_sampling'][0][:df_indexes['fm_fc__fm'][0] ] #classes\n",
    "model.decode( temp_class )"
   ]
  },
  {
   "cell_type": "code",
   "execution_count": 65,
   "metadata": {},
   "outputs": [
    {
     "name": "stdout",
     "output_type": "stream",
     "text": [
      "df readit\n"
     ]
    },
    {
     "data": {
      "text/html": [
       "<div>\n",
       "<style scoped>\n",
       "    .dataframe tbody tr th:only-of-type {\n",
       "        vertical-align: middle;\n",
       "    }\n",
       "\n",
       "    .dataframe tbody tr th {\n",
       "        vertical-align: top;\n",
       "    }\n",
       "\n",
       "    .dataframe thead th {\n",
       "        text-align: right;\n",
       "    }\n",
       "</style>\n",
       "<table border=\"1\" class=\"dataframe\">\n",
       "  <thead>\n",
       "    <tr style=\"text-align: right;\">\n",
       "      <th></th>\n",
       "      <th>0</th>\n",
       "      <th>1</th>\n",
       "      <th>2</th>\n",
       "      <th>3</th>\n",
       "      <th>4</th>\n",
       "      <th>5</th>\n",
       "      <th>6</th>\n",
       "      <th>7</th>\n",
       "      <th>8</th>\n",
       "      <th>9</th>\n",
       "      <th>...</th>\n",
       "      <th>21</th>\n",
       "      <th>22</th>\n",
       "      <th>23</th>\n",
       "      <th>24</th>\n",
       "      <th>25</th>\n",
       "      <th>26</th>\n",
       "      <th>27</th>\n",
       "      <th>28</th>\n",
       "      <th>29</th>\n",
       "      <th>source_sampling</th>\n",
       "    </tr>\n",
       "  </thead>\n",
       "  <tbody>\n",
       "    <tr>\n",
       "      <th>0</th>\n",
       "      <td>[1039, 34603, 1640, 10162, 5457, 36993, 45621,...</td>\n",
       "      <td>[1039, 34603, 1640, 10162, 5457, 36993, 45621,...</td>\n",
       "      <td>[1039, 34603, 1640, 10162, 5457, 36993, 45621,...</td>\n",
       "      <td>[1039, 34603, 1640, 10162, 5457, 44840, 26170,...</td>\n",
       "      <td>[1039, 34603, 1640, 10162, 5457, 36993, 45621,...</td>\n",
       "      <td>[1039, 34603, 1640, 10162, 5457, 44840, 26170,...</td>\n",
       "      <td>[1039, 34603, 1640, 10162, 5457, 44840, 26170,...</td>\n",
       "      <td>[1039, 34603, 1640, 10162, 5457, 36993, 45621,...</td>\n",
       "      <td>[1039, 34603, 1640, 10162, 5457, 44840, 26170,...</td>\n",
       "      <td>[1039, 34603, 1640, 10162, 5457, 36993, 45621,...</td>\n",
       "      <td>...</td>\n",
       "      <td>[1039, 34603, 1640, 10162, 5457, 36993, 45621,...</td>\n",
       "      <td>[1039, 34603, 1640, 10162, 5457, 36993, 45621,...</td>\n",
       "      <td>[1039, 34603, 1640, 10162, 5457, 36993, 45621,...</td>\n",
       "      <td>[1039, 34603, 1640, 10162, 5457, 36993, 45621,...</td>\n",
       "      <td>[1039, 34603, 1640, 10162, 5457, 36993, 45621,...</td>\n",
       "      <td>[1039, 34603, 1640, 10162, 5457, 36993, 45621,...</td>\n",
       "      <td>[1039, 34603, 1640, 10162, 5457, 36993, 45621,...</td>\n",
       "      <td>[1039, 34603, 1640, 10162, 5457, 36993, 45621,...</td>\n",
       "      <td>[1039, 34603, 1640, 10162, 5457, 36993, 45621,...</td>\n",
       "      <td>[43542, 48455, 14269, 11056, 104, 44306, 4741,...</td>\n",
       "    </tr>\n",
       "    <tr>\n",
       "      <th>1</th>\n",
       "      <td>[1039, 34603, 285, 13842, 197, 44514, 43048, 6...</td>\n",
       "      <td>[1039, 34603, 285, 13842, 197, 44514, 43048, 6...</td>\n",
       "      <td>[1039, 34603, 285, 13842, 197, 44514, 43048, 6...</td>\n",
       "      <td>[1039, 34603, 285, 13842, 197, 44514, 43048, 6...</td>\n",
       "      <td>[1039, 34603, 285, 13842, 197, 44514, 43048, 6...</td>\n",
       "      <td>[1039, 34603, 285, 13842, 197, 44514, 43048, 6...</td>\n",
       "      <td>[1039, 34603, 285, 13842, 197, 44514, 43048, 6...</td>\n",
       "      <td>[1039, 34603, 285, 13842, 197, 44514, 43048, 6...</td>\n",
       "      <td>[1039, 34603, 285, 13842, 197, 44514, 43048, 6...</td>\n",
       "      <td>[1039, 34603, 285, 13842, 197, 44514, 43048, 6...</td>\n",
       "      <td>...</td>\n",
       "      <td>[1039, 34603, 285, 13842, 197, 44514, 43048, 6...</td>\n",
       "      <td>[1039, 34603, 285, 13842, 197, 44514, 43048, 6...</td>\n",
       "      <td>[1039, 34603, 285, 13842, 197, 44514, 43048, 6...</td>\n",
       "      <td>[1039, 34603, 285, 13842, 197, 44514, 43048, 6...</td>\n",
       "      <td>[1039, 34603, 285, 13842, 197, 44514, 43048, 6...</td>\n",
       "      <td>[1039, 34603, 285, 13842, 197, 44514, 43048, 6...</td>\n",
       "      <td>[1039, 34603, 285, 13842, 197, 44514, 43048, 6...</td>\n",
       "      <td>[1039, 34603, 285, 13842, 197, 44514, 43048, 6...</td>\n",
       "      <td>[1039, 34603, 285, 13842, 197, 44514, 43048, 6...</td>\n",
       "      <td>[47181, 49187, 47599, 39962, 33177, 282, 868, ...</td>\n",
       "    </tr>\n",
       "    <tr>\n",
       "      <th>2</th>\n",
       "      <td>[1039, 34603, 285, 13842, 1296, 14181, 3750, 1...</td>\n",
       "      <td>[1039, 34603, 285, 13842, 1296, 14181, 3750, 1...</td>\n",
       "      <td>[1039, 34603, 285, 13842, 1296, 14181, 3750, 1...</td>\n",
       "      <td>[1039, 34603, 285, 13842, 1296, 14181, 3750, 1...</td>\n",
       "      <td>[1039, 34603, 285, 13842, 1296, 14181, 3750, 1...</td>\n",
       "      <td>[1039, 34603, 285, 13842, 1296, 14181, 3750, 1...</td>\n",
       "      <td>[1039, 34603, 285, 13842, 1296, 14181, 3750, 1...</td>\n",
       "      <td>[1039, 34603, 285, 13842, 1296, 14181, 3750, 1...</td>\n",
       "      <td>[1039, 34603, 285, 13842, 1296, 14181, 3750, 1...</td>\n",
       "      <td>[1039, 34603, 285, 13842, 1296, 14181, 3750, 1...</td>\n",
       "      <td>...</td>\n",
       "      <td>[1039, 34603, 285, 13842, 1296, 14181, 3750, 1...</td>\n",
       "      <td>[1039, 34603, 285, 13842, 1296, 14181, 3750, 1...</td>\n",
       "      <td>[1039, 34603, 285, 13842, 1296, 14181, 3750, 1...</td>\n",
       "      <td>[1039, 34603, 285, 13842, 1296, 14181, 3750, 1...</td>\n",
       "      <td>[1039, 34603, 285, 13842, 1296, 14181, 3750, 1...</td>\n",
       "      <td>[1039, 34603, 285, 13842, 1296, 14181, 3750, 1...</td>\n",
       "      <td>[1039, 34603, 285, 13842, 1296, 14181, 3750, 1...</td>\n",
       "      <td>[1039, 34603, 285, 13842, 1296, 14181, 3750, 1...</td>\n",
       "      <td>[1039, 34603, 285, 13842, 1296, 14181, 3750, 1...</td>\n",
       "      <td>[1121, 4771, 2068, 139, 5320, 20636, 25522, 28...</td>\n",
       "    </tr>\n",
       "    <tr>\n",
       "      <th>3</th>\n",
       "      <td>[1039, 34603, 285, 13842, 1296, 22011, 1090, 2...</td>\n",
       "      <td>[1039, 34603, 285, 13842, 197, 22011, 1090, 20...</td>\n",
       "      <td>[1039, 34603, 285, 13842, 1296, 22011, 1090, 2...</td>\n",
       "      <td>[1039, 34603, 285, 13842, 1296, 22011, 1090, 2...</td>\n",
       "      <td>[1039, 34603, 285, 13842, 1296, 22011, 1090, 2...</td>\n",
       "      <td>[1039, 34603, 285, 13842, 1296, 22011, 1090, 2...</td>\n",
       "      <td>[1039, 34603, 285, 13842, 1296, 22011, 1090, 2...</td>\n",
       "      <td>[1039, 34603, 285, 13842, 1296, 22011, 1090, 2...</td>\n",
       "      <td>[1039, 34603, 285, 13842, 1296, 22011, 1090, 2...</td>\n",
       "      <td>[1039, 34603, 285, 13842, 1296, 22011, 1090, 2...</td>\n",
       "      <td>...</td>\n",
       "      <td>[1039, 34603, 285, 13842, 1296, 22011, 1090, 2...</td>\n",
       "      <td>[1039, 34603, 285, 13842, 1296, 22011, 1090, 2...</td>\n",
       "      <td>[1039, 34603, 285, 13842, 1296, 22011, 1090, 2...</td>\n",
       "      <td>[1039, 34603, 285, 13842, 1296, 22011, 1090, 2...</td>\n",
       "      <td>[1039, 34603, 285, 13842, 1296, 22011, 1090, 2...</td>\n",
       "      <td>[1039, 34603, 285, 13842, 1296, 22011, 1090, 2...</td>\n",
       "      <td>[1039, 34603, 285, 13842, 1296, 22011, 1090, 2...</td>\n",
       "      <td>[1039, 34603, 285, 13842, 197, 22011, 1090, 20...</td>\n",
       "      <td>[1039, 34603, 285, 13842, 1296, 22011, 1090, 2...</td>\n",
       "      <td>[104, 571, 506, 49707, 25522, 285, 9527, 41552...</td>\n",
       "    </tr>\n",
       "    <tr>\n",
       "      <th>4</th>\n",
       "      <td>[1039, 34603, 285, 13842, 1296, 21527, 45788, ...</td>\n",
       "      <td>[1039, 34603, 285, 13842, 1296, 21527, 45788, ...</td>\n",
       "      <td>[1039, 34603, 285, 13842, 1296, 21527, 45788, ...</td>\n",
       "      <td>[1039, 34603, 285, 13842, 1296, 21527, 45788, ...</td>\n",
       "      <td>[1039, 34603, 285, 13842, 1296, 21527, 45788, ...</td>\n",
       "      <td>[1039, 34603, 285, 13842, 1296, 21527, 45788, ...</td>\n",
       "      <td>[1039, 34603, 285, 13842, 1296, 21527, 45788, ...</td>\n",
       "      <td>[1039, 34603, 285, 13842, 1296, 21527, 45788, ...</td>\n",
       "      <td>[1039, 34603, 285, 13842, 1296, 21527, 45788, ...</td>\n",
       "      <td>[1039, 34603, 285, 13842, 1296, 21527, 45788, ...</td>\n",
       "      <td>...</td>\n",
       "      <td>[1039, 34603, 285, 13842, 1296, 21527, 45788, ...</td>\n",
       "      <td>[1039, 34603, 285, 13842, 1296, 21527, 45788, ...</td>\n",
       "      <td>[1039, 34603, 285, 13842, 1296, 21527, 45788, ...</td>\n",
       "      <td>[1039, 34603, 285, 13842, 1296, 21527, 45788, ...</td>\n",
       "      <td>[1039, 34603, 285, 13842, 1296, 21527, 45788, ...</td>\n",
       "      <td>[1039, 34603, 285, 13842, 1296, 21527, 45788, ...</td>\n",
       "      <td>[1039, 34603, 285, 13842, 1296, 21527, 45788, ...</td>\n",
       "      <td>[1039, 34603, 285, 13842, 1296, 21527, 45788, ...</td>\n",
       "      <td>[1039, 34603, 285, 13842, 1296, 21527, 45788, ...</td>\n",
       "      <td>[45408, 26579, 48557, 40025, 2630, 14269, 4364...</td>\n",
       "    </tr>\n",
       "  </tbody>\n",
       "</table>\n",
       "<p>5 rows × 31 columns</p>\n",
       "</div>"
      ],
      "text/plain": [
       "                                                   0  \\\n",
       "0  [1039, 34603, 1640, 10162, 5457, 36993, 45621,...   \n",
       "1  [1039, 34603, 285, 13842, 197, 44514, 43048, 6...   \n",
       "2  [1039, 34603, 285, 13842, 1296, 14181, 3750, 1...   \n",
       "3  [1039, 34603, 285, 13842, 1296, 22011, 1090, 2...   \n",
       "4  [1039, 34603, 285, 13842, 1296, 21527, 45788, ...   \n",
       "\n",
       "                                                   1  \\\n",
       "0  [1039, 34603, 1640, 10162, 5457, 36993, 45621,...   \n",
       "1  [1039, 34603, 285, 13842, 197, 44514, 43048, 6...   \n",
       "2  [1039, 34603, 285, 13842, 1296, 14181, 3750, 1...   \n",
       "3  [1039, 34603, 285, 13842, 197, 22011, 1090, 20...   \n",
       "4  [1039, 34603, 285, 13842, 1296, 21527, 45788, ...   \n",
       "\n",
       "                                                   2  \\\n",
       "0  [1039, 34603, 1640, 10162, 5457, 36993, 45621,...   \n",
       "1  [1039, 34603, 285, 13842, 197, 44514, 43048, 6...   \n",
       "2  [1039, 34603, 285, 13842, 1296, 14181, 3750, 1...   \n",
       "3  [1039, 34603, 285, 13842, 1296, 22011, 1090, 2...   \n",
       "4  [1039, 34603, 285, 13842, 1296, 21527, 45788, ...   \n",
       "\n",
       "                                                   3  \\\n",
       "0  [1039, 34603, 1640, 10162, 5457, 44840, 26170,...   \n",
       "1  [1039, 34603, 285, 13842, 197, 44514, 43048, 6...   \n",
       "2  [1039, 34603, 285, 13842, 1296, 14181, 3750, 1...   \n",
       "3  [1039, 34603, 285, 13842, 1296, 22011, 1090, 2...   \n",
       "4  [1039, 34603, 285, 13842, 1296, 21527, 45788, ...   \n",
       "\n",
       "                                                   4  \\\n",
       "0  [1039, 34603, 1640, 10162, 5457, 36993, 45621,...   \n",
       "1  [1039, 34603, 285, 13842, 197, 44514, 43048, 6...   \n",
       "2  [1039, 34603, 285, 13842, 1296, 14181, 3750, 1...   \n",
       "3  [1039, 34603, 285, 13842, 1296, 22011, 1090, 2...   \n",
       "4  [1039, 34603, 285, 13842, 1296, 21527, 45788, ...   \n",
       "\n",
       "                                                   5  \\\n",
       "0  [1039, 34603, 1640, 10162, 5457, 44840, 26170,...   \n",
       "1  [1039, 34603, 285, 13842, 197, 44514, 43048, 6...   \n",
       "2  [1039, 34603, 285, 13842, 1296, 14181, 3750, 1...   \n",
       "3  [1039, 34603, 285, 13842, 1296, 22011, 1090, 2...   \n",
       "4  [1039, 34603, 285, 13842, 1296, 21527, 45788, ...   \n",
       "\n",
       "                                                   6  \\\n",
       "0  [1039, 34603, 1640, 10162, 5457, 44840, 26170,...   \n",
       "1  [1039, 34603, 285, 13842, 197, 44514, 43048, 6...   \n",
       "2  [1039, 34603, 285, 13842, 1296, 14181, 3750, 1...   \n",
       "3  [1039, 34603, 285, 13842, 1296, 22011, 1090, 2...   \n",
       "4  [1039, 34603, 285, 13842, 1296, 21527, 45788, ...   \n",
       "\n",
       "                                                   7  \\\n",
       "0  [1039, 34603, 1640, 10162, 5457, 36993, 45621,...   \n",
       "1  [1039, 34603, 285, 13842, 197, 44514, 43048, 6...   \n",
       "2  [1039, 34603, 285, 13842, 1296, 14181, 3750, 1...   \n",
       "3  [1039, 34603, 285, 13842, 1296, 22011, 1090, 2...   \n",
       "4  [1039, 34603, 285, 13842, 1296, 21527, 45788, ...   \n",
       "\n",
       "                                                   8  \\\n",
       "0  [1039, 34603, 1640, 10162, 5457, 44840, 26170,...   \n",
       "1  [1039, 34603, 285, 13842, 197, 44514, 43048, 6...   \n",
       "2  [1039, 34603, 285, 13842, 1296, 14181, 3750, 1...   \n",
       "3  [1039, 34603, 285, 13842, 1296, 22011, 1090, 2...   \n",
       "4  [1039, 34603, 285, 13842, 1296, 21527, 45788, ...   \n",
       "\n",
       "                                                   9  ...  \\\n",
       "0  [1039, 34603, 1640, 10162, 5457, 36993, 45621,...  ...   \n",
       "1  [1039, 34603, 285, 13842, 197, 44514, 43048, 6...  ...   \n",
       "2  [1039, 34603, 285, 13842, 1296, 14181, 3750, 1...  ...   \n",
       "3  [1039, 34603, 285, 13842, 1296, 22011, 1090, 2...  ...   \n",
       "4  [1039, 34603, 285, 13842, 1296, 21527, 45788, ...  ...   \n",
       "\n",
       "                                                  21  \\\n",
       "0  [1039, 34603, 1640, 10162, 5457, 36993, 45621,...   \n",
       "1  [1039, 34603, 285, 13842, 197, 44514, 43048, 6...   \n",
       "2  [1039, 34603, 285, 13842, 1296, 14181, 3750, 1...   \n",
       "3  [1039, 34603, 285, 13842, 1296, 22011, 1090, 2...   \n",
       "4  [1039, 34603, 285, 13842, 1296, 21527, 45788, ...   \n",
       "\n",
       "                                                  22  \\\n",
       "0  [1039, 34603, 1640, 10162, 5457, 36993, 45621,...   \n",
       "1  [1039, 34603, 285, 13842, 197, 44514, 43048, 6...   \n",
       "2  [1039, 34603, 285, 13842, 1296, 14181, 3750, 1...   \n",
       "3  [1039, 34603, 285, 13842, 1296, 22011, 1090, 2...   \n",
       "4  [1039, 34603, 285, 13842, 1296, 21527, 45788, ...   \n",
       "\n",
       "                                                  23  \\\n",
       "0  [1039, 34603, 1640, 10162, 5457, 36993, 45621,...   \n",
       "1  [1039, 34603, 285, 13842, 197, 44514, 43048, 6...   \n",
       "2  [1039, 34603, 285, 13842, 1296, 14181, 3750, 1...   \n",
       "3  [1039, 34603, 285, 13842, 1296, 22011, 1090, 2...   \n",
       "4  [1039, 34603, 285, 13842, 1296, 21527, 45788, ...   \n",
       "\n",
       "                                                  24  \\\n",
       "0  [1039, 34603, 1640, 10162, 5457, 36993, 45621,...   \n",
       "1  [1039, 34603, 285, 13842, 197, 44514, 43048, 6...   \n",
       "2  [1039, 34603, 285, 13842, 1296, 14181, 3750, 1...   \n",
       "3  [1039, 34603, 285, 13842, 1296, 22011, 1090, 2...   \n",
       "4  [1039, 34603, 285, 13842, 1296, 21527, 45788, ...   \n",
       "\n",
       "                                                  25  \\\n",
       "0  [1039, 34603, 1640, 10162, 5457, 36993, 45621,...   \n",
       "1  [1039, 34603, 285, 13842, 197, 44514, 43048, 6...   \n",
       "2  [1039, 34603, 285, 13842, 1296, 14181, 3750, 1...   \n",
       "3  [1039, 34603, 285, 13842, 1296, 22011, 1090, 2...   \n",
       "4  [1039, 34603, 285, 13842, 1296, 21527, 45788, ...   \n",
       "\n",
       "                                                  26  \\\n",
       "0  [1039, 34603, 1640, 10162, 5457, 36993, 45621,...   \n",
       "1  [1039, 34603, 285, 13842, 197, 44514, 43048, 6...   \n",
       "2  [1039, 34603, 285, 13842, 1296, 14181, 3750, 1...   \n",
       "3  [1039, 34603, 285, 13842, 1296, 22011, 1090, 2...   \n",
       "4  [1039, 34603, 285, 13842, 1296, 21527, 45788, ...   \n",
       "\n",
       "                                                  27  \\\n",
       "0  [1039, 34603, 1640, 10162, 5457, 36993, 45621,...   \n",
       "1  [1039, 34603, 285, 13842, 197, 44514, 43048, 6...   \n",
       "2  [1039, 34603, 285, 13842, 1296, 14181, 3750, 1...   \n",
       "3  [1039, 34603, 285, 13842, 1296, 22011, 1090, 2...   \n",
       "4  [1039, 34603, 285, 13842, 1296, 21527, 45788, ...   \n",
       "\n",
       "                                                  28  \\\n",
       "0  [1039, 34603, 1640, 10162, 5457, 36993, 45621,...   \n",
       "1  [1039, 34603, 285, 13842, 197, 44514, 43048, 6...   \n",
       "2  [1039, 34603, 285, 13842, 1296, 14181, 3750, 1...   \n",
       "3  [1039, 34603, 285, 13842, 197, 22011, 1090, 20...   \n",
       "4  [1039, 34603, 285, 13842, 1296, 21527, 45788, ...   \n",
       "\n",
       "                                                  29  \\\n",
       "0  [1039, 34603, 1640, 10162, 5457, 36993, 45621,...   \n",
       "1  [1039, 34603, 285, 13842, 197, 44514, 43048, 6...   \n",
       "2  [1039, 34603, 285, 13842, 1296, 14181, 3750, 1...   \n",
       "3  [1039, 34603, 285, 13842, 1296, 22011, 1090, 2...   \n",
       "4  [1039, 34603, 285, 13842, 1296, 21527, 45788, ...   \n",
       "\n",
       "                                     source_sampling  \n",
       "0  [43542, 48455, 14269, 11056, 104, 44306, 4741,...  \n",
       "1  [47181, 49187, 47599, 39962, 33177, 282, 868, ...  \n",
       "2  [1121, 4771, 2068, 139, 5320, 20636, 25522, 28...  \n",
       "3  [104, 571, 506, 49707, 25522, 285, 9527, 41552...  \n",
       "4  [45408, 26579, 48557, 40025, 2630, 14269, 4364...  \n",
       "\n",
       "[5 rows x 31 columns]"
      ]
     },
     "execution_count": 65,
     "metadata": {},
     "output_type": "execute_result"
    }
   ],
   "source": [
    "print('df readit')\n",
    "df_generated_input.head()"
   ]
  },
  {
   "cell_type": "code",
   "execution_count": 14,
   "metadata": {},
   "outputs": [
    {
     "data": {
      "text/plain": [
       "'@ Test Ġpublic Ġvoid Ġtest Process Event () Ġ{ Ġ}'"
      ]
     },
     "execution_count": 14,
     "metadata": {},
     "output_type": "execute_result"
    }
   ],
   "source": [
    "#tst decoding\n",
    "decoded = model.decode(df_generated_input['0'][0])\n",
    "decoded"
   ]
  },
  {
   "cell_type": "code",
   "execution_count": 15,
   "metadata": {},
   "outputs": [
    {
     "data": {
      "text/plain": [
       "'@Test public void testProcessEvent() {\\n }\\n'"
      ]
     },
     "execution_count": 15,
     "metadata": {},
     "output_type": "execute_result"
    }
   ],
   "source": [
    "prettify_java( lazy_decode( decoded ) )"
   ]
  },
  {
   "cell_type": "markdown",
   "metadata": {},
   "source": [
    "## Running Rationales"
   ]
  },
  {
   "cell_type": "code",
   "execution_count": 16,
   "metadata": {},
   "outputs": [
    {
     "data": {
      "text/plain": [
       "74.853"
      ]
     },
     "execution_count": 16,
     "metadata": {},
     "output_type": "execute_result"
    }
   ],
   "source": [
    "#Statistics\n",
    "np.mean( [len(i) for i in df_generated_input['0'].values] )"
   ]
  },
  {
   "cell_type": "code",
   "execution_count": 17,
   "metadata": {},
   "outputs": [
    {
     "data": {
      "text/plain": [
       "353.018"
      ]
     },
     "execution_count": 17,
     "metadata": {},
     "output_type": "execute_result"
    }
   ],
   "source": [
    "#TODO Run the distribution of each experiment. The mean value of tokens or size for each experiment. \n",
    "np.mean( [len(i) for i in df_generated_input['source_sampling'].values] )"
   ]
  },
  {
   "cell_type": "code",
   "execution_count": 17,
   "metadata": {},
   "outputs": [
    {
     "data": {
      "text/plain": [
       "40"
      ]
     },
     "execution_count": 17,
     "metadata": {},
     "output_type": "execute_result"
    }
   ],
   "source": [
    "len(df_generated_input['0'].values[2])"
   ]
  },
  {
   "cell_type": "code",
   "execution_count": 18,
   "metadata": {},
   "outputs": [],
   "source": [
    "MAX_TOKEN_SIZE = 100 #Hardocoded!!"
   ]
  },
  {
   "cell_type": "code",
   "execution_count": 19,
   "metadata": {},
   "outputs": [],
   "source": [
    "#If the model is not fine-tuned or compatible, it will rise an error\n",
    "#Bear in mind that Athena is a Translation model (not a language one)\n",
    "#This function works for one tensor of source token and one tensor of target tokens\n",
    "def rationalize_model(t_source_tokens, t_target_tokens, model, verbose=True):\n",
    "    all_source_rationales, all_target_rationales, log = rationalize_conditional_model(\n",
    "        model = model, \n",
    "        source_tokens = t_source_tokens[:MAX_TOKEN_SIZE],\n",
    "        target_tokens = t_target_tokens, #[:MAX_TOKEN_SIZE], \n",
    "        verbose=verbose,\n",
    "        max_steps=1024 #Max number of steps for greedy rationalization\n",
    "    )\n",
    "    return all_source_rationales, all_target_rationales, log "
   ]
  },
  {
   "cell_type": "code",
   "execution_count": 20,
   "metadata": {},
   "outputs": [],
   "source": [
    "#tst\n",
    "def tst_rationalize_model():\n",
    "    gc.collect()\n",
    "    torch.cuda.empty_cache() #Cleaning Cache\n",
    "\n",
    "    t_dict_generated_input = { exp : [ torch.tensor(s).to(model.device) for \n",
    "                s in df_generated_input[exp].values ] for exp in df_generated_input.columns }\n",
    "\n",
    "    rationalize_model(  \n",
    "        t_source_tokens =  t_dict_generated_input['source_sampling'][0],\n",
    "        t_target_tokens =  t_dict_generated_input['0'][0],\n",
    "        model = model \n",
    "    )\n",
    "    pass\n",
    "\n",
    "#tst_rationalize_model()"
   ]
  },
  {
   "cell_type": "code",
   "execution_count": 78,
   "metadata": {},
   "outputs": [],
   "source": [
    "def run_multiple_rational(arr_source_tokens, arr_target_tokens, model, verbose=True):\n",
    "    arr_log = []\n",
    "    for index,val in enumerate( arr_source_tokens ):\n",
    "        _, _, log = rationalize_model(\n",
    "            t_source_tokens = val, \n",
    "            t_target_tokens = arr_target_tokens[index], \n",
    "            model = model,\n",
    "            verbose = verbose )\n",
    "        arr_log.append(log)\n",
    "    arr_code_rationales = [ log['rationalizations'] for log in arr_log ]\n",
    "    arr_from_sentence = [ list(np.full( len(val), arr_i )) for arr_i, val in enumerate(arr_code_rationales)]\n",
    "    #arr_from_sentence = arr_code_rationales\n",
    "\n",
    "    arr_code_rationales = sum( arr_code_rationales, [] )\n",
    "    arr_from_sentence = sum( arr_from_sentence, [] )\n",
    "    \n",
    "    return arr_code_rationales, arr_from_sentence"
   ]
  },
  {
   "cell_type": "code",
   "execution_count": 87,
   "metadata": {},
   "outputs": [],
   "source": [
    "#tst\n",
    "def tst_run_multiple_rationa():\n",
    "    gc.collect()\n",
    "    torch.cuda.empty_cache() #Cleaning Cache\n",
    "\n",
    "    t_dict_generated_input = { exp : [ torch.tensor(s).to(model.device) for \n",
    "                s in df_generated_input[exp].values ] for exp in df_generated_input.columns }\n",
    "    \n",
    "    arr_rations, from_seq = run_multiple_rational(\n",
    "        arr_source_tokens =  t_dict_generated_input['source_sampling'][:2], #With 2 Sequences  \n",
    "        arr_target_tokens =  t_dict_generated_input['0'][:2], \n",
    "        model = model,\n",
    "        verbose = False\n",
    "        )\n",
    "    return arr_rations, from_seq\n",
    "#tst_arr_rations, tst_from_seq = tst_run_multiple_rationa()"
   ]
  },
  {
   "cell_type": "code",
   "execution_count": 23,
   "metadata": {},
   "outputs": [],
   "source": [
    "import gc"
   ]
  },
  {
   "cell_type": "code",
   "execution_count": 89,
   "metadata": {},
   "outputs": [],
   "source": [
    "def pandas_rationales( arr_code_rationales, arr_from_sentence ):\n",
    "    #Creating pandas_1 {p_rationale}\n",
    "    rational = lambda list_log,typeset: [ (dict_tok['added_token_text'],round(dict_tok['true_token_prob'],6)) for dict_tok in list_log if dict_tok['from']==typeset]\n",
    "    log_from = lambda log_row,typeset: [(log_dict['added_token_text'],log_dict['true_token_prob']) for log_dict in log_row if log_dict['from']==typeset] #Typeset\n",
    "\n",
    "    log_position = lambda log_row,typeset: [log_dict['added_token_position'] for log_dict in log_row if log_dict['from']==typeset] #Position of the Rationale\n",
    "    log_prediction = lambda log_row,typeset: [log_dict['true_token_prob'] for log_dict in log_row if log_dict['from']==typeset] #Rationale Prob\n",
    "\n",
    "    p_rationale = pd.DataFrame()\n",
    "\n",
    "    p_rationale['goal_token'] = [dict_token['goal_word'] for dict_token in arr_code_rationales]\n",
    "    p_rationale['from_seq_id'] = arr_from_sentence\n",
    "\n",
    "    p_rationale['typesets_tgt'] = [ log_from(log_row,'target') for log_row in [dict_token['log'] for dict_token in arr_code_rationales]]\n",
    "    p_rationale['typesets_src'] = [ log_from(log_row,'source') for log_row in [dict_token['log'] for dict_token in arr_code_rationales]]\n",
    "\n",
    "\n",
    "    p_rationale['rationale_pos_tgt'] = [ log_position(log_row,'target') for log_row in [dict_token['log'] for dict_token in arr_code_rationales]]\n",
    "    p_rationale['rationale_pos_src'] = [ log_position(log_row,'source') for log_row in [dict_token['log'] for dict_token in arr_code_rationales]]\n",
    "\n",
    "    p_rationale['rationale_prob_tgt'] = [ log_prediction(log_row,'target') for log_row in [dict_token['log'] for dict_token in arr_code_rationales]]\n",
    "    p_rationale['rationale_prob_src'] = [ log_prediction(log_row,'source') for log_row in [dict_token['log'] for dict_token in arr_code_rationales]]\n",
    "\n",
    "    return p_rationale"
   ]
  },
  {
   "cell_type": "code",
   "execution_count": 96,
   "metadata": {},
   "outputs": [],
   "source": [
    "#Running Rationalization\n",
    "def run_code_rational( \n",
    "        df_generated_input,\n",
    "        tensor_size, #Control the size of the experiment\n",
    "        experiment = '5',\n",
    "        batch_size = 100, \n",
    "        model = model, \n",
    "        verbose = True \n",
    "    ):\n",
    "\n",
    "    arr_rationals = []\n",
    "    arr_from_seq = []\n",
    "\n",
    "    for i in range( 0 , tensor_size , batch_size ):\n",
    "        model_activate(model = model)\n",
    "        print('************************' + str(i) + '************************')\n",
    "        t_generated_input = df_generated_input[ experiment ].values[i:i+batch_size]\n",
    "        t_source_sampling = df_generated_input['source_sampling'].values[i:i+batch_size]\n",
    "\n",
    "        t_generated_input = [ torch.tensor(s).to(model.device) for s in t_generated_input]\n",
    "        t_source_sampling = [ torch.tensor(s).to(model.device) for s in t_source_sampling]\n",
    "\n",
    "        \n",
    "        t_arr_rationals, t_arr_from_seq = run_multiple_rational(\n",
    "            arr_source_tokens =  t_source_sampling, \n",
    "            arr_target_tokens =  t_generated_input, \n",
    "            model = model,\n",
    "            verbose = verbose\n",
    "        )\n",
    "\n",
    "        arr_rationals = arr_rationals + t_arr_rationals\n",
    "        arr_from_seq = arr_from_seq + t_arr_from_seq\n",
    "\n",
    "        gc.collect()\n",
    "        torch.cuda.empty_cache() #Cleaning Cache\n",
    "\n",
    "    #keys_tensor = list( dict_generated_input.keys() )\n",
    "    #keys_tensor = keys_tensor[:1] #HardCoded Ratios\n",
    "    #dict_arr_rations = { key : for key in keys_tensor}\n",
    "    #torch.cuda.empty_cache() #Cleaning Cache\n",
    "    print(\"Experiment Finished: \" + experiment)\n",
    "    return pandas_rationales( arr_rationals, arr_from_seq )"
   ]
  },
  {
   "cell_type": "code",
   "execution_count": 97,
   "metadata": {},
   "outputs": [],
   "source": [
    "gc.collect()\n",
    "torch.cuda.empty_cache()"
   ]
  },
  {
   "cell_type": "code",
   "execution_count": 98,
   "metadata": {},
   "outputs": [
    {
     "data": {
      "text/plain": [
       "True"
      ]
     },
     "execution_count": 98,
     "metadata": {},
     "output_type": "execute_result"
    }
   ],
   "source": [
    "torch.cuda.is_available()"
   ]
  },
  {
   "cell_type": "code",
   "execution_count": 103,
   "metadata": {},
   "outputs": [
    {
     "name": "stdout",
     "output_type": "stream",
     "text": [
      "Model Activated\n",
      "************************0************************\n",
      "Experiment Finished: 0\n",
      "Saving process\n"
     ]
    }
   ],
   "source": [
    "#tst\n",
    "def tst_run_code_rational(exp):\n",
    "    gc.collect()\n",
    "    torch.cuda.empty_cache()\n",
    "    tensor_n = 1000 #df_generated_input.shape[0]\n",
    "    EXP = exp\n",
    "    BATCH = 100\n",
    "    test_arr_rationals = run_code_rational( \n",
    "            df_generated_input = df_generated_input.sample( n = tensor_n, replace = False, random_state=2),\n",
    "            tensor_size = tensor_n,\n",
    "            experiment = EXP,\n",
    "            batch_size = BATCH, \n",
    "            model = model, \n",
    "            verbose = False \n",
    "        )\n",
    "    #Saving process\n",
    "    print('Saving process')\n",
    "    test_arr_rationals.to_json( params['output_results'] + 'rationales_[t_1000]_[max_100]_' + EXP )\n",
    "    return test_arr_rationals\n",
    "#df_test_run = tst_run_code_rational()"
   ]
  },
  {
   "cell_type": "code",
   "execution_count": null,
   "metadata": {},
   "outputs": [],
   "source": [
    "for i in df_generated_input.columns[:-1]:\n",
    "    df_test_run = tst_run_code_rational(i)"
   ]
  },
  {
   "cell_type": "code",
   "execution_count": 102,
   "metadata": {},
   "outputs": [
    {
     "data": {
      "text/html": [
       "<div>\n",
       "<style scoped>\n",
       "    .dataframe tbody tr th:only-of-type {\n",
       "        vertical-align: middle;\n",
       "    }\n",
       "\n",
       "    .dataframe tbody tr th {\n",
       "        vertical-align: top;\n",
       "    }\n",
       "\n",
       "    .dataframe thead th {\n",
       "        text-align: right;\n",
       "    }\n",
       "</style>\n",
       "<table border=\"1\" class=\"dataframe\">\n",
       "  <thead>\n",
       "    <tr style=\"text-align: right;\">\n",
       "      <th></th>\n",
       "      <th>goal_token</th>\n",
       "      <th>from_seq_id</th>\n",
       "      <th>typesets_tgt</th>\n",
       "      <th>typesets_src</th>\n",
       "      <th>rationale_pos_tgt</th>\n",
       "      <th>rationale_pos_src</th>\n",
       "      <th>rationale_prob_tgt</th>\n",
       "      <th>rationale_prob_src</th>\n",
       "    </tr>\n",
       "  </thead>\n",
       "  <tbody>\n",
       "    <tr>\n",
       "      <th>0</th>\n",
       "      <td>Test</td>\n",
       "      <td>0</td>\n",
       "      <td>[(@, 0.9980469942092896)]</td>\n",
       "      <td>[]</td>\n",
       "      <td>[0]</td>\n",
       "      <td>[]</td>\n",
       "      <td>[0.9980469942092896]</td>\n",
       "      <td>[]</td>\n",
       "    </tr>\n",
       "  </tbody>\n",
       "</table>\n",
       "</div>"
      ],
      "text/plain": [
       "  goal_token  from_seq_id               typesets_tgt typesets_src  \\\n",
       "0       Test            0  [(@, 0.9980469942092896)]           []   \n",
       "\n",
       "  rationale_pos_tgt rationale_pos_src    rationale_prob_tgt rationale_prob_src  \n",
       "0               [0]                []  [0.9980469942092896]                 []  "
      ]
     },
     "execution_count": 102,
     "metadata": {},
     "output_type": "execute_result"
    }
   ],
   "source": [
    "df_test_run.head(1)"
   ]
  },
  {
   "cell_type": "code",
   "execution_count": 28,
   "metadata": {},
   "outputs": [],
   "source": [
    "#Running all Experiments\n",
    "def exp_run_all_rationales():\n",
    "    dict_arr_rations = { key : run_code_rational(\n",
    "        df_generated_input = df_generated_input,\n",
    "        experiment = key,\n",
    "        batch_size = 10, \n",
    "        model = model, \n",
    "        verbose = False \n",
    "    ) for key in df_generated_input.columns[:-1] }\n",
    "    return dict_arr_rations"
   ]
  },
  {
   "cell_type": "code",
   "execution_count": null,
   "metadata": {},
   "outputs": [],
   "source": [
    "#arr_df_rationale = [pandas_rationales(dict_arr_rations[key]) for key in dict_arr_rations.keys()]"
   ]
  }
 ],
 "metadata": {
  "interpreter": {
   "hash": "27c2fcb21fdb148cd37ecbed2ef65b6b1f3a0948b222c0bcf7dcf1d6a4c7a458"
  },
  "kernelspec": {
   "display_name": "Python 3.8.8 64-bit ('shapley-01': conda)",
   "language": "python",
   "name": "python3"
  },
  "language_info": {
   "codemirror_mode": {
    "name": "ipython",
    "version": 3
   },
   "file_extension": ".py",
   "mimetype": "text/x-python",
   "name": "python",
   "nbconvert_exporter": "python",
   "pygments_lexer": "ipython3",
   "version": "3.8.8"
  },
  "orig_nbformat": 4
 },
 "nbformat": 4,
 "nbformat_minor": 2
}
