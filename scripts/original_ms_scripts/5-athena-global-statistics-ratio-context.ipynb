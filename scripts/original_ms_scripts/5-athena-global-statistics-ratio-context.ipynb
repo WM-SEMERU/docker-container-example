{
 "cells": [
  {
   "cell_type": "markdown",
   "metadata": {},
   "source": [
    "# Athena Rationales Empirical Visualization\n",
    "Large Scale Empirical Analysis "
   ]
  },
  {
   "cell_type": "code",
   "execution_count": 1,
   "metadata": {},
   "outputs": [],
   "source": [
    "from pathlib import Path\n",
    "import csv\n",
    "import seaborn as sns; sns.set_theme()\n",
    "import matplotlib.pyplot as plt\n",
    "import pandas as pd\n",
    "import numpy as np\n",
    "import functools\n",
    "\n",
    "pd.options.display.float_format = '{:.2f}'.format"
   ]
  },
  {
   "cell_type": "code",
   "execution_count": 2,
   "metadata": {},
   "outputs": [],
   "source": [
    "from tokenizers import ByteLevelBPETokenizer\n",
    "import torch\n",
    "import importlib\n",
    "from fairseq.models.transformer import TransformerModel"
   ]
  },
  {
   "cell_type": "code",
   "execution_count": 3,
   "metadata": {},
   "outputs": [],
   "source": [
    "import warnings\n",
    "from matplotlib import colors\n",
    "import os\n",
    "from rationalization import rationalize_lm, rationalize_conditional_model"
   ]
  },
  {
   "cell_type": "code",
   "execution_count": 4,
   "metadata": {},
   "outputs": [],
   "source": [
    "def param_default():\n",
    "    corpus_fm = 'fm'\n",
    "    corpus_fm_fc = 'fm_fc'\n",
    "    corpus_fm_fc_co = 'fm_fc_co'\n",
    "    corpus_fm_fc_ms = 'fm_fc_ms'\n",
    "    corpus_fm_fc_ms_ff = 'fm_fc_ms_ff' #<-- Scope\n",
    "    \n",
    "    corpora = [ corpus_fm, corpus_fm_fc, corpus_fm_fc_co, corpus_fm_fc_ms, corpus_fm_fc_ms_ff ]\n",
    "\n",
    "    #data_path = Path('../whole-dateset/corpus/' + corpus + '/')\n",
    "    data_path_raw_corpora = [ Path('../whole-dateset/corpus/' + corpus + '/raw/') for corpus in corpora ]\n",
    "    tokenizer_path = Path('../tokenizer/')\n",
    "    return {\n",
    "        'bpe_path' : tokenizer_path / 'universal_tokenizer/universal_tokenizer/roberta_aug_spaces',\n",
    "        'eval_raw': [ [data_path_raw / 'eval/input.methods.txt', data_path_raw / 'eval/output.tests.txt'] for data_path_raw in data_path_raw_corpora] ,\n",
    "        'test_raw': [ [data_path_raw / 'test/input.methods.txt', data_path_raw / 'test/output.tests.txt'] for data_path_raw in data_path_raw_corpora] ,\n",
    "        'train_raw': [ [data_path_raw / 'train/input.methods.txt', data_path_raw / 'train/output.tests.txt'] for data_path_raw in data_path_raw_corpora],\n",
    "        'data_labels' : ['test_raw'],#['eval_raw','test_raw','train_raw'], <----- Just Test\n",
    "        #'output_pandas' : data_path / 'pandas/',\n",
    "        'out_processed' : '/datasets/out_processed/',\n",
    "        'model_name_or_path' : 'models/checkpoint_dir_01/models/', #Model Path\n",
    "        'checkpoint_file': 'checkpoint_best.pt', #Model\n",
    "        'data_preprocessed':'/home/davidna/data/dummy/sequential-rationales/fairseq/fairseq/data-bin/bins/',\n",
    "        'output_results' : 'results/',\n",
    "        'corpora': corpora \n",
    "    }"
   ]
  },
  {
   "cell_type": "code",
   "execution_count": 5,
   "metadata": {},
   "outputs": [
    {
     "data": {
      "text/plain": [
       "'results/'"
      ]
     },
     "execution_count": 5,
     "metadata": {},
     "output_type": "execute_result"
    }
   ],
   "source": [
    "params = param_default()\n",
    "params['output_results']"
   ]
  },
  {
   "cell_type": "code",
   "execution_count": 6,
   "metadata": {},
   "outputs": [
    {
     "data": {
      "text/plain": [
       "[[PosixPath('../whole-dateset/corpus/fm/raw/eval/input.methods.txt'),\n",
       "  PosixPath('../whole-dateset/corpus/fm/raw/eval/output.tests.txt')],\n",
       " [PosixPath('../whole-dateset/corpus/fm_fc/raw/eval/input.methods.txt'),\n",
       "  PosixPath('../whole-dateset/corpus/fm_fc/raw/eval/output.tests.txt')],\n",
       " [PosixPath('../whole-dateset/corpus/fm_fc_co/raw/eval/input.methods.txt'),\n",
       "  PosixPath('../whole-dateset/corpus/fm_fc_co/raw/eval/output.tests.txt')],\n",
       " [PosixPath('../whole-dateset/corpus/fm_fc_ms/raw/eval/input.methods.txt'),\n",
       "  PosixPath('../whole-dateset/corpus/fm_fc_ms/raw/eval/output.tests.txt')],\n",
       " [PosixPath('../whole-dateset/corpus/fm_fc_ms_ff/raw/eval/input.methods.txt'),\n",
       "  PosixPath('../whole-dateset/corpus/fm_fc_ms_ff/raw/eval/output.tests.txt')]]"
      ]
     },
     "execution_count": 6,
     "metadata": {},
     "output_type": "execute_result"
    }
   ],
   "source": [
    "params['eval_raw']"
   ]
  },
  {
   "cell_type": "code",
   "execution_count": 7,
   "metadata": {},
   "outputs": [],
   "source": [
    "sns.set_theme(style=\"darkgrid\")"
   ]
  },
  {
   "cell_type": "markdown",
   "metadata": {},
   "source": [
    "## Universal Tokenizer"
   ]
  },
  {
   "cell_type": "code",
   "execution_count": 8,
   "metadata": {},
   "outputs": [],
   "source": [
    "def load_tokenizer(bpe_path):\n",
    "    return ByteLevelBPETokenizer(str(bpe_path)+'-vocab.json',str(bpe_path)+'-merges.txt')"
   ]
  },
  {
   "cell_type": "code",
   "execution_count": 9,
   "metadata": {},
   "outputs": [],
   "source": [
    "def lazy_decode(bpe_java):\n",
    "    return bpe_java.replace(' ','').replace('Ġ',' ').replace('Ċ','\\n')"
   ]
  },
  {
   "cell_type": "code",
   "execution_count": 10,
   "metadata": {},
   "outputs": [],
   "source": [
    "def prettify_java(minified_java):\n",
    "    \"tries to undo Michele's minification. Works decently, although for loops and sets get newlines inserted, and there are no empty lines or comments\"\n",
    "    minified_java = minified_java.replace('{','{\\n').replace('}','}\\n').replace(';',';\\n')\n",
    "    num_indents = 0\n",
    "    pretty_java = ''\n",
    "    for line in minified_java.splitlines():\n",
    "        if line.lstrip().startswith('}'):\n",
    "            num_indents -= 1\n",
    "        pretty_java += num_indents*'    '+line+'\\n'\n",
    "        if line.endswith('{'):\n",
    "            num_indents += 1\n",
    "        if line.endswith('}') and not line.lstrip().startswith('}'):\n",
    "            num_indents -= 1\n",
    "    return pretty_java"
   ]
  },
  {
   "cell_type": "code",
   "execution_count": 11,
   "metadata": {},
   "outputs": [],
   "source": [
    "tokenizer = load_tokenizer(params['bpe_path'])"
   ]
  },
  {
   "cell_type": "markdown",
   "metadata": {},
   "source": [
    "# Loading Generated Code From Trials"
   ]
  },
  {
   "cell_type": "code",
   "execution_count": 12,
   "metadata": {},
   "outputs": [],
   "source": [
    "df_generated_output = pd.read_json( params['output_results']  + '1_generation_[max:100]_02.json' ) "
   ]
  },
  {
   "cell_type": "code",
   "execution_count": 13,
   "metadata": {},
   "outputs": [
    {
     "data": {
      "text/html": [
       "<div>\n",
       "<style scoped>\n",
       "    .dataframe tbody tr th:only-of-type {\n",
       "        vertical-align: middle;\n",
       "    }\n",
       "\n",
       "    .dataframe tbody tr th {\n",
       "        vertical-align: top;\n",
       "    }\n",
       "\n",
       "    .dataframe thead th {\n",
       "        text-align: right;\n",
       "    }\n",
       "</style>\n",
       "<table border=\"1\" class=\"dataframe\">\n",
       "  <thead>\n",
       "    <tr style=\"text-align: right;\">\n",
       "      <th></th>\n",
       "      <th>index</th>\n",
       "      <th>test_raw0</th>\n",
       "      <th>test_raw_bpe0</th>\n",
       "      <th>method_size0</th>\n",
       "      <th>0</th>\n",
       "      <th>1</th>\n",
       "      <th>2</th>\n",
       "      <th>3</th>\n",
       "      <th>4</th>\n",
       "      <th>5</th>\n",
       "      <th>...</th>\n",
       "      <th>21</th>\n",
       "      <th>22</th>\n",
       "      <th>23</th>\n",
       "      <th>24</th>\n",
       "      <th>25</th>\n",
       "      <th>26</th>\n",
       "      <th>27</th>\n",
       "      <th>28</th>\n",
       "      <th>29</th>\n",
       "      <th>source_sampling</th>\n",
       "    </tr>\n",
       "  </thead>\n",
       "  <tbody>\n",
       "    <tr>\n",
       "      <th>0</th>\n",
       "      <td>3610</td>\n",
       "      <td>CitizenId implements Identity { @Override publ...</td>\n",
       "      <td>[C, itizen, Id, Ġimplements, ĠIdentity, Ġ{, Ġ@...</td>\n",
       "      <td>96</td>\n",
       "      <td>[1039, 34603, 285, 13842, 1296, 20320, 32890, ...</td>\n",
       "      <td>[1039, 34603, 285, 13842, 1296, 20320, 32890, ...</td>\n",
       "      <td>[1039, 34603, 285, 13842, 28754, 1215, 17276, ...</td>\n",
       "      <td>[1039, 34603, 285, 13842, 8218, 1215, 17276, 4...</td>\n",
       "      <td>[1039, 34603, 285, 13842, 8218, 1215, 17276, 1...</td>\n",
       "      <td>[1039, 34603, 285, 13842, 8218, 1215, 17276, 1...</td>\n",
       "      <td>...</td>\n",
       "      <td>[1039, 34603, 285, 13842, 8218, 1215, 17276, 4...</td>\n",
       "      <td>[1039, 34603, 285, 13842, 28754, 1215, 17276, ...</td>\n",
       "      <td>[1039, 34603, 285, 13842, 28754, 1215, 17276, ...</td>\n",
       "      <td>[1039, 34603, 285, 13842, 8218, 1215, 17276, 4...</td>\n",
       "      <td>[1039, 34603, 285, 13842, 8218, 1215, 17276, 1...</td>\n",
       "      <td>[1039, 34603, 285, 13842, 1296, 20320, 32890, ...</td>\n",
       "      <td>[1039, 34603, 285, 13842, 28754, 1215, 17276, ...</td>\n",
       "      <td>[1039, 34603, 285, 13842, 1296, 20320, 32890, ...</td>\n",
       "      <td>[1039, 34603, 285, 13842, 1296, 20320, 32890, ...</td>\n",
       "      <td>[347, 31020, 28081, 36987, 30805, 25522, 787, ...</td>\n",
       "    </tr>\n",
       "  </tbody>\n",
       "</table>\n",
       "<p>1 rows × 35 columns</p>\n",
       "</div>"
      ],
      "text/plain": [
       "   index                                          test_raw0  \\\n",
       "0   3610  CitizenId implements Identity { @Override publ...   \n",
       "\n",
       "                                       test_raw_bpe0  method_size0  \\\n",
       "0  [C, itizen, Id, Ġimplements, ĠIdentity, Ġ{, Ġ@...            96   \n",
       "\n",
       "                                                   0  \\\n",
       "0  [1039, 34603, 285, 13842, 1296, 20320, 32890, ...   \n",
       "\n",
       "                                                   1  \\\n",
       "0  [1039, 34603, 285, 13842, 1296, 20320, 32890, ...   \n",
       "\n",
       "                                                   2  \\\n",
       "0  [1039, 34603, 285, 13842, 28754, 1215, 17276, ...   \n",
       "\n",
       "                                                   3  \\\n",
       "0  [1039, 34603, 285, 13842, 8218, 1215, 17276, 4...   \n",
       "\n",
       "                                                   4  \\\n",
       "0  [1039, 34603, 285, 13842, 8218, 1215, 17276, 1...   \n",
       "\n",
       "                                                   5  ...  \\\n",
       "0  [1039, 34603, 285, 13842, 8218, 1215, 17276, 1...  ...   \n",
       "\n",
       "                                                  21  \\\n",
       "0  [1039, 34603, 285, 13842, 8218, 1215, 17276, 4...   \n",
       "\n",
       "                                                  22  \\\n",
       "0  [1039, 34603, 285, 13842, 28754, 1215, 17276, ...   \n",
       "\n",
       "                                                  23  \\\n",
       "0  [1039, 34603, 285, 13842, 28754, 1215, 17276, ...   \n",
       "\n",
       "                                                  24  \\\n",
       "0  [1039, 34603, 285, 13842, 8218, 1215, 17276, 4...   \n",
       "\n",
       "                                                  25  \\\n",
       "0  [1039, 34603, 285, 13842, 8218, 1215, 17276, 1...   \n",
       "\n",
       "                                                  26  \\\n",
       "0  [1039, 34603, 285, 13842, 1296, 20320, 32890, ...   \n",
       "\n",
       "                                                  27  \\\n",
       "0  [1039, 34603, 285, 13842, 28754, 1215, 17276, ...   \n",
       "\n",
       "                                                  28  \\\n",
       "0  [1039, 34603, 285, 13842, 1296, 20320, 32890, ...   \n",
       "\n",
       "                                                  29  \\\n",
       "0  [1039, 34603, 285, 13842, 1296, 20320, 32890, ...   \n",
       "\n",
       "                                     source_sampling  \n",
       "0  [347, 31020, 28081, 36987, 30805, 25522, 787, ...  \n",
       "\n",
       "[1 rows x 35 columns]"
      ]
     },
     "execution_count": 13,
     "metadata": {},
     "output_type": "execute_result"
    }
   ],
   "source": [
    "df_generated_output.head(1)"
   ]
  },
  {
   "cell_type": "markdown",
   "metadata": {},
   "source": [
    "# Loading Rationales From Trials"
   ]
  },
  {
   "cell_type": "code",
   "execution_count": 14,
   "metadata": {},
   "outputs": [],
   "source": [
    "#Loading one trial\n",
    "df_rationale_output = pd.read_json( params['output_results'] + 'rationales_1_gen_02/' + 'rationales_[t_1000]_[max_src_100]_[max_tgt_100]_02_[exp:0]_.json' ) "
   ]
  },
  {
   "cell_type": "code",
   "execution_count": 15,
   "metadata": {},
   "outputs": [
    {
     "data": {
      "text/html": [
       "<div>\n",
       "<style scoped>\n",
       "    .dataframe tbody tr th:only-of-type {\n",
       "        vertical-align: middle;\n",
       "    }\n",
       "\n",
       "    .dataframe tbody tr th {\n",
       "        vertical-align: top;\n",
       "    }\n",
       "\n",
       "    .dataframe thead th {\n",
       "        text-align: right;\n",
       "    }\n",
       "</style>\n",
       "<table border=\"1\" class=\"dataframe\">\n",
       "  <thead>\n",
       "    <tr style=\"text-align: right;\">\n",
       "      <th></th>\n",
       "      <th>goal_token</th>\n",
       "      <th>from_seq_id</th>\n",
       "      <th>typesets_tgt</th>\n",
       "      <th>typesets_src</th>\n",
       "      <th>rationale_pos_tgt</th>\n",
       "      <th>rationale_pos_src</th>\n",
       "      <th>rationale_prob_tgt</th>\n",
       "      <th>rationale_prob_src</th>\n",
       "    </tr>\n",
       "  </thead>\n",
       "  <tbody>\n",
       "    <tr>\n",
       "      <th>0</th>\n",
       "      <td>Test</td>\n",
       "      <td>0</td>\n",
       "      <td>[[@, 0.9980469942]]</td>\n",
       "      <td>[]</td>\n",
       "      <td>[0]</td>\n",
       "      <td>[]</td>\n",
       "      <td>[0.9980469942]</td>\n",
       "      <td>[]</td>\n",
       "    </tr>\n",
       "    <tr>\n",
       "      <th>1</th>\n",
       "      <td>Ġpublic</td>\n",
       "      <td>0</td>\n",
       "      <td>[[Test, 0.9563337564000001]]</td>\n",
       "      <td>[]</td>\n",
       "      <td>[1]</td>\n",
       "      <td>[]</td>\n",
       "      <td>[0.9563337564000001]</td>\n",
       "      <td>[]</td>\n",
       "    </tr>\n",
       "  </tbody>\n",
       "</table>\n",
       "</div>"
      ],
      "text/plain": [
       "  goal_token  from_seq_id                  typesets_tgt typesets_src  \\\n",
       "0       Test            0           [[@, 0.9980469942]]           []   \n",
       "1    Ġpublic            0  [[Test, 0.9563337564000001]]           []   \n",
       "\n",
       "  rationale_pos_tgt rationale_pos_src    rationale_prob_tgt rationale_prob_src  \n",
       "0               [0]                []        [0.9980469942]                 []  \n",
       "1               [1]                []  [0.9563337564000001]                 []  "
      ]
     },
     "execution_count": 15,
     "metadata": {},
     "output_type": "execute_result"
    }
   ],
   "source": [
    "df_rationale_output.head(2) ##All Rationales for each sample"
   ]
  },
  {
   "cell_type": "code",
   "execution_count": 16,
   "metadata": {},
   "outputs": [
    {
     "data": {
      "text/html": [
       "<div>\n",
       "<style scoped>\n",
       "    .dataframe tbody tr th:only-of-type {\n",
       "        vertical-align: middle;\n",
       "    }\n",
       "\n",
       "    .dataframe tbody tr th {\n",
       "        vertical-align: top;\n",
       "    }\n",
       "\n",
       "    .dataframe thead th {\n",
       "        text-align: right;\n",
       "    }\n",
       "</style>\n",
       "<table border=\"1\" class=\"dataframe\">\n",
       "  <thead>\n",
       "    <tr style=\"text-align: right;\">\n",
       "      <th></th>\n",
       "      <th>goal_token</th>\n",
       "      <th>from_seq_id</th>\n",
       "      <th>typesets_tgt</th>\n",
       "      <th>typesets_src</th>\n",
       "      <th>rationale_pos_tgt</th>\n",
       "      <th>rationale_pos_src</th>\n",
       "      <th>rationale_prob_tgt</th>\n",
       "      <th>rationale_prob_src</th>\n",
       "    </tr>\n",
       "  </thead>\n",
       "  <tbody>\n",
       "    <tr>\n",
       "      <th>63616</th>\n",
       "      <td>Test</td>\n",
       "      <td>999</td>\n",
       "      <td>[[@, 0.9980469942]]</td>\n",
       "      <td>[]</td>\n",
       "      <td>[0]</td>\n",
       "      <td>[]</td>\n",
       "      <td>[0.9980469942]</td>\n",
       "      <td>[]</td>\n",
       "    </tr>\n",
       "    <tr>\n",
       "      <th>63617</th>\n",
       "      <td>Ġpublic</td>\n",
       "      <td>999</td>\n",
       "      <td>[[Test, 0.9563337564000001]]</td>\n",
       "      <td>[]</td>\n",
       "      <td>[1]</td>\n",
       "      <td>[]</td>\n",
       "      <td>[0.9563337564000001]</td>\n",
       "      <td>[]</td>\n",
       "    </tr>\n",
       "    <tr>\n",
       "      <th>63618</th>\n",
       "      <td>Ġvoid</td>\n",
       "      <td>999</td>\n",
       "      <td>[[Ġpublic, 0.999979496]]</td>\n",
       "      <td>[]</td>\n",
       "      <td>[2]</td>\n",
       "      <td>[]</td>\n",
       "      <td>[0.999979496]</td>\n",
       "      <td>[]</td>\n",
       "    </tr>\n",
       "    <tr>\n",
       "      <th>63619</th>\n",
       "      <td>Ġtest</td>\n",
       "      <td>999</td>\n",
       "      <td>[[Ġvoid, 0.9145835638]]</td>\n",
       "      <td>[]</td>\n",
       "      <td>[3]</td>\n",
       "      <td>[]</td>\n",
       "      <td>[0.9145835638]</td>\n",
       "      <td>[]</td>\n",
       "    </tr>\n",
       "    <tr>\n",
       "      <th>63620</th>\n",
       "      <td>E</td>\n",
       "      <td>999</td>\n",
       "      <td>[[Ġtest, 0.0015851373]]</td>\n",
       "      <td>[[Ġescape, 0.0424372219], [(, 0.4725152254]]</td>\n",
       "      <td>[4]</td>\n",
       "      <td>[58, 59]</td>\n",
       "      <td>[0.0015851373]</td>\n",
       "      <td>[0.0424372219, 0.4725152254]</td>\n",
       "    </tr>\n",
       "    <tr>\n",
       "      <th>...</th>\n",
       "      <td>...</td>\n",
       "      <td>...</td>\n",
       "      <td>...</td>\n",
       "      <td>...</td>\n",
       "      <td>...</td>\n",
       "      <td>...</td>\n",
       "      <td>...</td>\n",
       "      <td>...</td>\n",
       "    </tr>\n",
       "    <tr>\n",
       "      <th>63677</th>\n",
       "      <td>(</td>\n",
       "      <td>999</td>\n",
       "      <td>[[escape, 0.1820134521]]</td>\n",
       "      <td>[[(, 0.6593741179]]</td>\n",
       "      <td>[61]</td>\n",
       "      <td>[8]</td>\n",
       "      <td>[0.1820134521]</td>\n",
       "      <td>[0.6593741179]</td>\n",
       "    </tr>\n",
       "    <tr>\n",
       "      <th>63678</th>\n",
       "      <td>null</td>\n",
       "      <td>999</td>\n",
       "      <td>[[(, 0.018699348]]</td>\n",
       "      <td>[[Ġnull, 0.9097349048000001]]</td>\n",
       "      <td>[62]</td>\n",
       "      <td>[17]</td>\n",
       "      <td>[0.018699348]</td>\n",
       "      <td>[0.9097349048000001]</td>\n",
       "    </tr>\n",
       "    <tr>\n",
       "      <th>63679</th>\n",
       "      <td>));</td>\n",
       "      <td>999</td>\n",
       "      <td>[[null, 0.059247039300000005]]</td>\n",
       "      <td>[[&lt;/s&gt;, 0.21295756100000002], [), 0.3896539509]]</td>\n",
       "      <td>[63]</td>\n",
       "      <td>[80, 18]</td>\n",
       "      <td>[0.059247039300000005]</td>\n",
       "      <td>[0.21295756100000002, 0.3896539509]</td>\n",
       "    </tr>\n",
       "    <tr>\n",
       "      <th>63680</th>\n",
       "      <td>Ġ}</td>\n",
       "      <td>999</td>\n",
       "      <td>[[));, 0.1826504469], [null, 0.9831843972000001]]</td>\n",
       "      <td>[]</td>\n",
       "      <td>[64, 13]</td>\n",
       "      <td>[]</td>\n",
       "      <td>[0.1826504469, 0.9831843972000001]</td>\n",
       "      <td>[]</td>\n",
       "    </tr>\n",
       "    <tr>\n",
       "      <th>63681</th>\n",
       "      <td>&lt;/s&gt;</td>\n",
       "      <td>999</td>\n",
       "      <td>[[Ġ}, 0.51104182]]</td>\n",
       "      <td>[]</td>\n",
       "      <td>[65]</td>\n",
       "      <td>[]</td>\n",
       "      <td>[0.51104182]</td>\n",
       "      <td>[]</td>\n",
       "    </tr>\n",
       "  </tbody>\n",
       "</table>\n",
       "<p>66 rows × 8 columns</p>\n",
       "</div>"
      ],
      "text/plain": [
       "      goal_token  from_seq_id  \\\n",
       "63616       Test          999   \n",
       "63617    Ġpublic          999   \n",
       "63618      Ġvoid          999   \n",
       "63619      Ġtest          999   \n",
       "63620          E          999   \n",
       "...          ...          ...   \n",
       "63677          (          999   \n",
       "63678       null          999   \n",
       "63679        ));          999   \n",
       "63680         Ġ}          999   \n",
       "63681       </s>          999   \n",
       "\n",
       "                                            typesets_tgt  \\\n",
       "63616                                [[@, 0.9980469942]]   \n",
       "63617                       [[Test, 0.9563337564000001]]   \n",
       "63618                           [[Ġpublic, 0.999979496]]   \n",
       "63619                            [[Ġvoid, 0.9145835638]]   \n",
       "63620                            [[Ġtest, 0.0015851373]]   \n",
       "...                                                  ...   \n",
       "63677                           [[escape, 0.1820134521]]   \n",
       "63678                                 [[(, 0.018699348]]   \n",
       "63679                     [[null, 0.059247039300000005]]   \n",
       "63680  [[));, 0.1826504469], [null, 0.9831843972000001]]   \n",
       "63681                                 [[Ġ}, 0.51104182]]   \n",
       "\n",
       "                                           typesets_src rationale_pos_tgt  \\\n",
       "63616                                                []               [0]   \n",
       "63617                                                []               [1]   \n",
       "63618                                                []               [2]   \n",
       "63619                                                []               [3]   \n",
       "63620      [[Ġescape, 0.0424372219], [(, 0.4725152254]]               [4]   \n",
       "...                                                 ...               ...   \n",
       "63677                               [[(, 0.6593741179]]              [61]   \n",
       "63678                     [[Ġnull, 0.9097349048000001]]              [62]   \n",
       "63679  [[</s>, 0.21295756100000002], [), 0.3896539509]]              [63]   \n",
       "63680                                                []          [64, 13]   \n",
       "63681                                                []              [65]   \n",
       "\n",
       "      rationale_pos_src                  rationale_prob_tgt  \\\n",
       "63616                []                      [0.9980469942]   \n",
       "63617                []                [0.9563337564000001]   \n",
       "63618                []                       [0.999979496]   \n",
       "63619                []                      [0.9145835638]   \n",
       "63620          [58, 59]                      [0.0015851373]   \n",
       "...                 ...                                 ...   \n",
       "63677               [8]                      [0.1820134521]   \n",
       "63678              [17]                       [0.018699348]   \n",
       "63679          [80, 18]              [0.059247039300000005]   \n",
       "63680                []  [0.1826504469, 0.9831843972000001]   \n",
       "63681                []                        [0.51104182]   \n",
       "\n",
       "                        rationale_prob_src  \n",
       "63616                                   []  \n",
       "63617                                   []  \n",
       "63618                                   []  \n",
       "63619                                   []  \n",
       "63620         [0.0424372219, 0.4725152254]  \n",
       "...                                    ...  \n",
       "63677                       [0.6593741179]  \n",
       "63678                 [0.9097349048000001]  \n",
       "63679  [0.21295756100000002, 0.3896539509]  \n",
       "63680                                   []  \n",
       "63681                                   []  \n",
       "\n",
       "[66 rows x 8 columns]"
      ]
     },
     "execution_count": 16,
     "metadata": {},
     "output_type": "execute_result"
    }
   ],
   "source": [
    "#tst\n",
    "df_rationale_output[df_rationale_output['from_seq_id'] == 999 ]"
   ]
  },
  {
   "cell_type": "code",
   "execution_count": 17,
   "metadata": {},
   "outputs": [
    {
     "data": {
      "text/plain": [
       "(63682, 8)"
      ]
     },
     "execution_count": 17,
     "metadata": {},
     "output_type": "execute_result"
    }
   ],
   "source": [
    "df_rationale_output.shape"
   ]
  },
  {
   "cell_type": "markdown",
   "metadata": {},
   "source": [
    "# Loading Context Windows"
   ]
  },
  {
   "cell_type": "code",
   "execution_count": 18,
   "metadata": {},
   "outputs": [],
   "source": [
    "#export\n",
    "def method_size_vector( method_vector ):\n",
    "    '''Return the size of the tokens for a give method based on id\n",
    "        Assuming that method_vector is an array of tokens\n",
    "    '''\n",
    "    input_ids = [ len(mtd) for mtd in method_vector ]\n",
    "    return input_ids"
   ]
  },
  {
   "cell_type": "code",
   "execution_count": 19,
   "metadata": {},
   "outputs": [],
   "source": [
    "def super_set_code():\n",
    "    data = {}\n",
    "    for label in params['data_labels']:\n",
    "        corpora = params['corpora']\n",
    "        for i,path_data in enumerate(params[ label ]):\n",
    "\n",
    "            print(i,corpora[i],path_data[0])\n",
    "            name = label + str('_input_') + corpora[i]\n",
    "            df = pd.read_csv( path_data[0], sep=\"\\n\", header=None, names=[ name ] ) #reading file\n",
    "            df[ label + '_bpe_' + str('_input_') + corpora[i]] = [ enc.tokens for enc in tokenizer.encode_batch( df[ name ].values ) ] #bpe\n",
    "            df['method_size'+ str('_input_') + corpora[i]] = method_size_vector( df[label + '_bpe_' + str('_input_') + corpora[i]].values ) #counting tokens\n",
    "            data[ name ] =  df  \n",
    "        #data[-1].columns = [ label ]\n",
    "    return data"
   ]
  },
  {
   "cell_type": "code",
   "execution_count": 20,
   "metadata": {},
   "outputs": [
    {
     "name": "stdout",
     "output_type": "stream",
     "text": [
      "0 fm ../whole-dateset/corpus/fm/raw/test/input.methods.txt\n",
      "1 fm_fc ../whole-dateset/corpus/fm_fc/raw/test/input.methods.txt\n",
      "2 fm_fc_co ../whole-dateset/corpus/fm_fc_co/raw/test/input.methods.txt\n",
      "3 fm_fc_ms ../whole-dateset/corpus/fm_fc_ms/raw/test/input.methods.txt\n",
      "4 fm_fc_ms_ff ../whole-dateset/corpus/fm_fc_ms_ff/raw/test/input.methods.txt\n"
     ]
    }
   ],
   "source": [
    "super_data = super_set_code()"
   ]
  },
  {
   "cell_type": "code",
   "execution_count": 21,
   "metadata": {},
   "outputs": [
    {
     "data": {
      "text/html": [
       "<div>\n",
       "<style scoped>\n",
       "    .dataframe tbody tr th:only-of-type {\n",
       "        vertical-align: middle;\n",
       "    }\n",
       "\n",
       "    .dataframe tbody tr th {\n",
       "        vertical-align: top;\n",
       "    }\n",
       "\n",
       "    .dataframe thead tr th {\n",
       "        text-align: left;\n",
       "    }\n",
       "</style>\n",
       "<table border=\"1\" class=\"dataframe\">\n",
       "  <thead>\n",
       "    <tr>\n",
       "      <th></th>\n",
       "      <th colspan=\"3\" halign=\"left\">test_raw_input_fm</th>\n",
       "      <th colspan=\"3\" halign=\"left\">test_raw_input_fm_fc</th>\n",
       "      <th colspan=\"3\" halign=\"left\">test_raw_input_fm_fc_co</th>\n",
       "      <th colspan=\"3\" halign=\"left\">test_raw_input_fm_fc_ms</th>\n",
       "      <th colspan=\"3\" halign=\"left\">test_raw_input_fm_fc_ms_ff</th>\n",
       "    </tr>\n",
       "    <tr>\n",
       "      <th></th>\n",
       "      <th>test_raw_input_fm</th>\n",
       "      <th>test_raw_bpe__input_fm</th>\n",
       "      <th>method_size_input_fm</th>\n",
       "      <th>test_raw_input_fm_fc</th>\n",
       "      <th>test_raw_bpe__input_fm_fc</th>\n",
       "      <th>method_size_input_fm_fc</th>\n",
       "      <th>test_raw_input_fm_fc_co</th>\n",
       "      <th>test_raw_bpe__input_fm_fc_co</th>\n",
       "      <th>method_size_input_fm_fc_co</th>\n",
       "      <th>test_raw_input_fm_fc_ms</th>\n",
       "      <th>test_raw_bpe__input_fm_fc_ms</th>\n",
       "      <th>method_size_input_fm_fc_ms</th>\n",
       "      <th>test_raw_input_fm_fc_ms_ff</th>\n",
       "      <th>test_raw_bpe__input_fm_fc_ms_ff</th>\n",
       "      <th>method_size_input_fm_fc_ms_ff</th>\n",
       "    </tr>\n",
       "  </thead>\n",
       "  <tbody>\n",
       "    <tr>\n",
       "      <th>0</th>\n",
       "      <td>public static Date yearStart() { final Gregori...</td>\n",
       "      <td>[public, Ġstatic, ĠDate, Ġyear, Start, (), Ġ{,...</td>\n",
       "      <td>42</td>\n",
       "      <td>DateUtils { public static Date yearStart() { f...</td>\n",
       "      <td>[Date, Ut, ils, Ġ{, Ġpublic, Ġstatic, ĠDate, Ġ...</td>\n",
       "      <td>47</td>\n",
       "      <td>DateUtils { public static Date yearStart() { f...</td>\n",
       "      <td>[Date, Ut, ils, Ġ{, Ġpublic, Ġstatic, ĠDate, Ġ...</td>\n",
       "      <td>47</td>\n",
       "      <td>DateUtils { public static Date yearStart() { f...</td>\n",
       "      <td>[Date, Ut, ils, Ġ{, Ġpublic, Ġstatic, ĠDate, Ġ...</td>\n",
       "      <td>227</td>\n",
       "      <td>DateUtils { public static Date yearStart() { f...</td>\n",
       "      <td>[Date, Ut, ils, Ġ{, Ġpublic, Ġstatic, ĠDate, Ġ...</td>\n",
       "      <td>227</td>\n",
       "    </tr>\n",
       "  </tbody>\n",
       "</table>\n",
       "</div>"
      ],
      "text/plain": [
       "                                   test_raw_input_fm  \\\n",
       "                                   test_raw_input_fm   \n",
       "0  public static Date yearStart() { final Gregori...   \n",
       "\n",
       "                                                                           \\\n",
       "                              test_raw_bpe__input_fm method_size_input_fm   \n",
       "0  [public, Ġstatic, ĠDate, Ġyear, Start, (), Ġ{,...                   42   \n",
       "\n",
       "                                test_raw_input_fm_fc  \\\n",
       "                                test_raw_input_fm_fc   \n",
       "0  DateUtils { public static Date yearStart() { f...   \n",
       "\n",
       "                                                                              \\\n",
       "                           test_raw_bpe__input_fm_fc method_size_input_fm_fc   \n",
       "0  [Date, Ut, ils, Ġ{, Ġpublic, Ġstatic, ĠDate, Ġ...                      47   \n",
       "\n",
       "                             test_raw_input_fm_fc_co  \\\n",
       "                             test_raw_input_fm_fc_co   \n",
       "0  DateUtils { public static Date yearStart() { f...   \n",
       "\n",
       "                                                      \\\n",
       "                        test_raw_bpe__input_fm_fc_co   \n",
       "0  [Date, Ut, ils, Ġ{, Ġpublic, Ġstatic, ĠDate, Ġ...   \n",
       "\n",
       "                              \\\n",
       "  method_size_input_fm_fc_co   \n",
       "0                         47   \n",
       "\n",
       "                             test_raw_input_fm_fc_ms  \\\n",
       "                             test_raw_input_fm_fc_ms   \n",
       "0  DateUtils { public static Date yearStart() { f...   \n",
       "\n",
       "                                                      \\\n",
       "                        test_raw_bpe__input_fm_fc_ms   \n",
       "0  [Date, Ut, ils, Ġ{, Ġpublic, Ġstatic, ĠDate, Ġ...   \n",
       "\n",
       "                              \\\n",
       "  method_size_input_fm_fc_ms   \n",
       "0                        227   \n",
       "\n",
       "                          test_raw_input_fm_fc_ms_ff  \\\n",
       "                          test_raw_input_fm_fc_ms_ff   \n",
       "0  DateUtils { public static Date yearStart() { f...   \n",
       "\n",
       "                                                      \\\n",
       "                     test_raw_bpe__input_fm_fc_ms_ff   \n",
       "0  [Date, Ut, ils, Ġ{, Ġpublic, Ġstatic, ĠDate, Ġ...   \n",
       "\n",
       "                                 \n",
       "  method_size_input_fm_fc_ms_ff  \n",
       "0                           227  "
      ]
     },
     "execution_count": 21,
     "metadata": {},
     "output_type": "execute_result"
    }
   ],
   "source": [
    "flat_result = pd.concat(super_data, axis=1)\n",
    "flat_result.head(1)"
   ]
  },
  {
   "cell_type": "code",
   "execution_count": 22,
   "metadata": {},
   "outputs": [
    {
     "data": {
      "text/plain": [
       "(78388, 15)"
      ]
     },
     "execution_count": 22,
     "metadata": {},
     "output_type": "execute_result"
    }
   ],
   "source": [
    "flat_result.shape"
   ]
  },
  {
   "cell_type": "code",
   "execution_count": 23,
   "metadata": {},
   "outputs": [],
   "source": [
    "df_indexes = pd.DataFrame()\n",
    "df_indexes[['fm','fm_fc','fm_fc_co','fm_fc_ms','fm_fc_ms_ff']] = flat_result[[\n",
    "    ('test_raw_input_fm','method_size_input_fm'),\n",
    "    ('test_raw_input_fm_fc', 'method_size_input_fm_fc'),\n",
    "    ('test_raw_input_fm_fc_co', 'method_size_input_fm_fc_co'),\n",
    "    ('test_raw_input_fm_fc_ms', 'method_size_input_fm_fc_ms'),\n",
    "    ('test_raw_input_fm_fc_ms_ff', 'method_size_input_fm_fc_ms_ff')\n",
    "    ]].copy()\n",
    "df_indexes['fm_fc__fm'] =  df_indexes['fm_fc'].values - df_indexes['fm']"
   ]
  },
  {
   "cell_type": "code",
   "execution_count": 24,
   "metadata": {},
   "outputs": [
    {
     "data": {
      "text/html": [
       "<div>\n",
       "<style scoped>\n",
       "    .dataframe tbody tr th:only-of-type {\n",
       "        vertical-align: middle;\n",
       "    }\n",
       "\n",
       "    .dataframe tbody tr th {\n",
       "        vertical-align: top;\n",
       "    }\n",
       "\n",
       "    .dataframe thead th {\n",
       "        text-align: right;\n",
       "    }\n",
       "</style>\n",
       "<table border=\"1\" class=\"dataframe\">\n",
       "  <thead>\n",
       "    <tr style=\"text-align: right;\">\n",
       "      <th></th>\n",
       "      <th>fm</th>\n",
       "      <th>fm_fc</th>\n",
       "      <th>fm_fc_co</th>\n",
       "      <th>fm_fc_ms</th>\n",
       "      <th>fm_fc_ms_ff</th>\n",
       "      <th>fm_fc__fm</th>\n",
       "    </tr>\n",
       "  </thead>\n",
       "  <tbody>\n",
       "    <tr>\n",
       "      <th>0</th>\n",
       "      <td>42</td>\n",
       "      <td>47</td>\n",
       "      <td>47</td>\n",
       "      <td>227</td>\n",
       "      <td>227</td>\n",
       "      <td>5</td>\n",
       "    </tr>\n",
       "  </tbody>\n",
       "</table>\n",
       "</div>"
      ],
      "text/plain": [
       "   fm  fm_fc  fm_fc_co  fm_fc_ms  fm_fc_ms_ff  fm_fc__fm\n",
       "0  42     47        47       227          227          5"
      ]
     },
     "execution_count": 24,
     "metadata": {},
     "output_type": "execute_result"
    }
   ],
   "source": [
    "df_indexes.head(1)"
   ]
  },
  {
   "cell_type": "code",
   "execution_count": 25,
   "metadata": {},
   "outputs": [],
   "source": [
    "df_index_filtered = df_indexes.filter(\n",
    "    items = df_generated_output['index'].values,\n",
    "    axis = 0\n",
    ").copy()\n",
    "df_index_filtered = df_index_filtered.reset_index()"
   ]
  },
  {
   "cell_type": "code",
   "execution_count": 26,
   "metadata": {},
   "outputs": [
    {
     "data": {
      "text/plain": [
       "(1000, 7)"
      ]
     },
     "execution_count": 26,
     "metadata": {},
     "output_type": "execute_result"
    }
   ],
   "source": [
    "df_index_filtered.shape"
   ]
  },
  {
   "cell_type": "code",
   "execution_count": 27,
   "metadata": {},
   "outputs": [
    {
     "data": {
      "text/html": [
       "<div>\n",
       "<style scoped>\n",
       "    .dataframe tbody tr th:only-of-type {\n",
       "        vertical-align: middle;\n",
       "    }\n",
       "\n",
       "    .dataframe tbody tr th {\n",
       "        vertical-align: top;\n",
       "    }\n",
       "\n",
       "    .dataframe thead th {\n",
       "        text-align: right;\n",
       "    }\n",
       "</style>\n",
       "<table border=\"1\" class=\"dataframe\">\n",
       "  <thead>\n",
       "    <tr style=\"text-align: right;\">\n",
       "      <th></th>\n",
       "      <th>index</th>\n",
       "      <th>fm</th>\n",
       "      <th>fm_fc</th>\n",
       "      <th>fm_fc_co</th>\n",
       "      <th>fm_fc_ms</th>\n",
       "      <th>fm_fc_ms_ff</th>\n",
       "      <th>fm_fc__fm</th>\n",
       "    </tr>\n",
       "  </thead>\n",
       "  <tbody>\n",
       "    <tr>\n",
       "      <th>0</th>\n",
       "      <td>3610</td>\n",
       "      <td>31</td>\n",
       "      <td>38</td>\n",
       "      <td>44</td>\n",
       "      <td>96</td>\n",
       "      <td>96</td>\n",
       "      <td>7</td>\n",
       "    </tr>\n",
       "    <tr>\n",
       "      <th>1</th>\n",
       "      <td>23609</td>\n",
       "      <td>32</td>\n",
       "      <td>57</td>\n",
       "      <td>57</td>\n",
       "      <td>70</td>\n",
       "      <td>70</td>\n",
       "      <td>25</td>\n",
       "    </tr>\n",
       "    <tr>\n",
       "      <th>2</th>\n",
       "      <td>45764</td>\n",
       "      <td>25</td>\n",
       "      <td>30</td>\n",
       "      <td>30</td>\n",
       "      <td>95</td>\n",
       "      <td>95</td>\n",
       "      <td>5</td>\n",
       "    </tr>\n",
       "    <tr>\n",
       "      <th>3</th>\n",
       "      <td>6263</td>\n",
       "      <td>29</td>\n",
       "      <td>36</td>\n",
       "      <td>36</td>\n",
       "      <td>55</td>\n",
       "      <td>55</td>\n",
       "      <td>7</td>\n",
       "    </tr>\n",
       "    <tr>\n",
       "      <th>4</th>\n",
       "      <td>29527</td>\n",
       "      <td>70</td>\n",
       "      <td>72</td>\n",
       "      <td>88</td>\n",
       "      <td>88</td>\n",
       "      <td>88</td>\n",
       "      <td>2</td>\n",
       "    </tr>\n",
       "    <tr>\n",
       "      <th>...</th>\n",
       "      <td>...</td>\n",
       "      <td>...</td>\n",
       "      <td>...</td>\n",
       "      <td>...</td>\n",
       "      <td>...</td>\n",
       "      <td>...</td>\n",
       "      <td>...</td>\n",
       "    </tr>\n",
       "    <tr>\n",
       "      <th>995</th>\n",
       "      <td>44112</td>\n",
       "      <td>30</td>\n",
       "      <td>35</td>\n",
       "      <td>54</td>\n",
       "      <td>97</td>\n",
       "      <td>97</td>\n",
       "      <td>5</td>\n",
       "    </tr>\n",
       "    <tr>\n",
       "      <th>996</th>\n",
       "      <td>44261</td>\n",
       "      <td>30</td>\n",
       "      <td>35</td>\n",
       "      <td>54</td>\n",
       "      <td>97</td>\n",
       "      <td>97</td>\n",
       "      <td>5</td>\n",
       "    </tr>\n",
       "    <tr>\n",
       "      <th>997</th>\n",
       "      <td>27410</td>\n",
       "      <td>26</td>\n",
       "      <td>36</td>\n",
       "      <td>54</td>\n",
       "      <td>94</td>\n",
       "      <td>94</td>\n",
       "      <td>10</td>\n",
       "    </tr>\n",
       "    <tr>\n",
       "      <th>998</th>\n",
       "      <td>16185</td>\n",
       "      <td>34</td>\n",
       "      <td>44</td>\n",
       "      <td>55</td>\n",
       "      <td>100</td>\n",
       "      <td>100</td>\n",
       "      <td>10</td>\n",
       "    </tr>\n",
       "    <tr>\n",
       "      <th>999</th>\n",
       "      <td>41224</td>\n",
       "      <td>52</td>\n",
       "      <td>57</td>\n",
       "      <td>57</td>\n",
       "      <td>72</td>\n",
       "      <td>80</td>\n",
       "      <td>5</td>\n",
       "    </tr>\n",
       "  </tbody>\n",
       "</table>\n",
       "<p>1000 rows × 7 columns</p>\n",
       "</div>"
      ],
      "text/plain": [
       "     index  fm  fm_fc  fm_fc_co  fm_fc_ms  fm_fc_ms_ff  fm_fc__fm\n",
       "0     3610  31     38        44        96           96          7\n",
       "1    23609  32     57        57        70           70         25\n",
       "2    45764  25     30        30        95           95          5\n",
       "3     6263  29     36        36        55           55          7\n",
       "4    29527  70     72        88        88           88          2\n",
       "..     ...  ..    ...       ...       ...          ...        ...\n",
       "995  44112  30     35        54        97           97          5\n",
       "996  44261  30     35        54        97           97          5\n",
       "997  27410  26     36        54        94           94         10\n",
       "998  16185  34     44        55       100          100         10\n",
       "999  41224  52     57        57        72           80          5\n",
       "\n",
       "[1000 rows x 7 columns]"
      ]
     },
     "execution_count": 27,
     "metadata": {},
     "output_type": "execute_result"
    }
   ],
   "source": [
    "df_index_filtered"
   ]
  },
  {
   "cell_type": "markdown",
   "metadata": {},
   "source": [
    "# Processing and Identifying Context Windows"
   ]
  },
  {
   "cell_type": "code",
   "execution_count": 28,
   "metadata": {},
   "outputs": [],
   "source": [
    "#A function that recieves an array of indexes and return the context windows of such token\n",
    "def context_level(arr_index, seq_id, df_index_guide = df_index_filtered):\n",
    "    context_levels = ['class', 'focal_method', 'constructors', 'method_sig', 'fields']\n",
    "    context_level_out = []\n",
    "    for i in arr_index:\n",
    "        if 0 <= i and i <= df_index_guide.loc[seq_id].fm_fc__fm: #class\n",
    "            context_level_out.append( context_levels[0] )\n",
    "        elif df_index_guide.loc[seq_id].fm_fc__fm <= i and i <= df_index_guide.loc[seq_id].fm_fc: #focal method\n",
    "            context_level_out.append( context_levels[1] )\n",
    "        elif df_index_guide.loc[seq_id].fm_fc <= i and i <= df_index_guide.loc[seq_id].fm_fc_co: #constructors\n",
    "            context_level_out.append( context_levels[2] )\n",
    "        elif df_index_guide.loc[seq_id].fm_fc_co <= i and i <= df_index_guide.loc[seq_id].fm_fc_ms: #method signatures\n",
    "            context_level_out.append( context_levels[3] )\n",
    "        elif df_index_guide.loc[seq_id].fm_fc_ms <= i and i <= df_index_guide.loc[seq_id].fm_fc_ms_ff: #fields\n",
    "            context_level_out.append( context_levels[4] )\n",
    "        else:\n",
    "            context_level_out.append( None )\n",
    "    return context_level_out\n"
   ]
  },
  {
   "cell_type": "code",
   "execution_count": 29,
   "metadata": {},
   "outputs": [
    {
     "data": {
      "text/plain": [
       "['method_sig', 'method_sig']"
      ]
     },
     "execution_count": 29,
     "metadata": {},
     "output_type": "execute_result"
    }
   ],
   "source": [
    "#tst\n",
    "context_level_out = context_level(\n",
    "    arr_index = [58, 59],\n",
    "    seq_id = 999\n",
    ")\n",
    "context_level_out"
   ]
  },
  {
   "cell_type": "code",
   "execution_count": 30,
   "metadata": {},
   "outputs": [],
   "source": [
    "#WARINING !! TIME CONSUMING ~33.8s\n",
    "df_rationale_output['context_src'] = [ context_level( \n",
    "    arr_index = df_rationale_output.loc[index].rationale_pos_src, \n",
    "    seq_id =  df_rationale_output.loc[index].from_seq_id\n",
    "    ) for index in df_rationale_output.index ] "
   ]
  },
  {
   "cell_type": "code",
   "execution_count": 31,
   "metadata": {},
   "outputs": [
    {
     "data": {
      "text/html": [
       "<div>\n",
       "<style scoped>\n",
       "    .dataframe tbody tr th:only-of-type {\n",
       "        vertical-align: middle;\n",
       "    }\n",
       "\n",
       "    .dataframe tbody tr th {\n",
       "        vertical-align: top;\n",
       "    }\n",
       "\n",
       "    .dataframe thead th {\n",
       "        text-align: right;\n",
       "    }\n",
       "</style>\n",
       "<table border=\"1\" class=\"dataframe\">\n",
       "  <thead>\n",
       "    <tr style=\"text-align: right;\">\n",
       "      <th></th>\n",
       "      <th>goal_token</th>\n",
       "      <th>from_seq_id</th>\n",
       "      <th>typesets_tgt</th>\n",
       "      <th>typesets_src</th>\n",
       "      <th>rationale_pos_tgt</th>\n",
       "      <th>rationale_pos_src</th>\n",
       "      <th>rationale_prob_tgt</th>\n",
       "      <th>rationale_prob_src</th>\n",
       "      <th>context_src</th>\n",
       "    </tr>\n",
       "  </thead>\n",
       "  <tbody>\n",
       "    <tr>\n",
       "      <th>63616</th>\n",
       "      <td>Test</td>\n",
       "      <td>999</td>\n",
       "      <td>[[@, 0.9980469942]]</td>\n",
       "      <td>[]</td>\n",
       "      <td>[0]</td>\n",
       "      <td>[]</td>\n",
       "      <td>[0.9980469942]</td>\n",
       "      <td>[]</td>\n",
       "      <td>[]</td>\n",
       "    </tr>\n",
       "    <tr>\n",
       "      <th>63617</th>\n",
       "      <td>Ġpublic</td>\n",
       "      <td>999</td>\n",
       "      <td>[[Test, 0.9563337564000001]]</td>\n",
       "      <td>[]</td>\n",
       "      <td>[1]</td>\n",
       "      <td>[]</td>\n",
       "      <td>[0.9563337564000001]</td>\n",
       "      <td>[]</td>\n",
       "      <td>[]</td>\n",
       "    </tr>\n",
       "    <tr>\n",
       "      <th>63618</th>\n",
       "      <td>Ġvoid</td>\n",
       "      <td>999</td>\n",
       "      <td>[[Ġpublic, 0.999979496]]</td>\n",
       "      <td>[]</td>\n",
       "      <td>[2]</td>\n",
       "      <td>[]</td>\n",
       "      <td>[0.999979496]</td>\n",
       "      <td>[]</td>\n",
       "      <td>[]</td>\n",
       "    </tr>\n",
       "    <tr>\n",
       "      <th>63619</th>\n",
       "      <td>Ġtest</td>\n",
       "      <td>999</td>\n",
       "      <td>[[Ġvoid, 0.9145835638]]</td>\n",
       "      <td>[]</td>\n",
       "      <td>[3]</td>\n",
       "      <td>[]</td>\n",
       "      <td>[0.9145835638]</td>\n",
       "      <td>[]</td>\n",
       "      <td>[]</td>\n",
       "    </tr>\n",
       "    <tr>\n",
       "      <th>63620</th>\n",
       "      <td>E</td>\n",
       "      <td>999</td>\n",
       "      <td>[[Ġtest, 0.0015851373]]</td>\n",
       "      <td>[[Ġescape, 0.0424372219], [(, 0.4725152254]]</td>\n",
       "      <td>[4]</td>\n",
       "      <td>[58, 59]</td>\n",
       "      <td>[0.0015851373]</td>\n",
       "      <td>[0.0424372219, 0.4725152254]</td>\n",
       "      <td>[method_sig, method_sig]</td>\n",
       "    </tr>\n",
       "    <tr>\n",
       "      <th>...</th>\n",
       "      <td>...</td>\n",
       "      <td>...</td>\n",
       "      <td>...</td>\n",
       "      <td>...</td>\n",
       "      <td>...</td>\n",
       "      <td>...</td>\n",
       "      <td>...</td>\n",
       "      <td>...</td>\n",
       "      <td>...</td>\n",
       "    </tr>\n",
       "    <tr>\n",
       "      <th>63677</th>\n",
       "      <td>(</td>\n",
       "      <td>999</td>\n",
       "      <td>[[escape, 0.1820134521]]</td>\n",
       "      <td>[[(, 0.6593741179]]</td>\n",
       "      <td>[61]</td>\n",
       "      <td>[8]</td>\n",
       "      <td>[0.1820134521]</td>\n",
       "      <td>[0.6593741179]</td>\n",
       "      <td>[focal_method]</td>\n",
       "    </tr>\n",
       "    <tr>\n",
       "      <th>63678</th>\n",
       "      <td>null</td>\n",
       "      <td>999</td>\n",
       "      <td>[[(, 0.018699348]]</td>\n",
       "      <td>[[Ġnull, 0.9097349048000001]]</td>\n",
       "      <td>[62]</td>\n",
       "      <td>[17]</td>\n",
       "      <td>[0.018699348]</td>\n",
       "      <td>[0.9097349048000001]</td>\n",
       "      <td>[focal_method]</td>\n",
       "    </tr>\n",
       "    <tr>\n",
       "      <th>63679</th>\n",
       "      <td>));</td>\n",
       "      <td>999</td>\n",
       "      <td>[[null, 0.059247039300000005]]</td>\n",
       "      <td>[[&lt;/s&gt;, 0.21295756100000002], [), 0.3896539509]]</td>\n",
       "      <td>[63]</td>\n",
       "      <td>[80, 18]</td>\n",
       "      <td>[0.059247039300000005]</td>\n",
       "      <td>[0.21295756100000002, 0.3896539509]</td>\n",
       "      <td>[fields, focal_method]</td>\n",
       "    </tr>\n",
       "    <tr>\n",
       "      <th>63680</th>\n",
       "      <td>Ġ}</td>\n",
       "      <td>999</td>\n",
       "      <td>[[));, 0.1826504469], [null, 0.9831843972000001]]</td>\n",
       "      <td>[]</td>\n",
       "      <td>[64, 13]</td>\n",
       "      <td>[]</td>\n",
       "      <td>[0.1826504469, 0.9831843972000001]</td>\n",
       "      <td>[]</td>\n",
       "      <td>[]</td>\n",
       "    </tr>\n",
       "    <tr>\n",
       "      <th>63681</th>\n",
       "      <td>&lt;/s&gt;</td>\n",
       "      <td>999</td>\n",
       "      <td>[[Ġ}, 0.51104182]]</td>\n",
       "      <td>[]</td>\n",
       "      <td>[65]</td>\n",
       "      <td>[]</td>\n",
       "      <td>[0.51104182]</td>\n",
       "      <td>[]</td>\n",
       "      <td>[]</td>\n",
       "    </tr>\n",
       "  </tbody>\n",
       "</table>\n",
       "<p>66 rows × 9 columns</p>\n",
       "</div>"
      ],
      "text/plain": [
       "      goal_token  from_seq_id  \\\n",
       "63616       Test          999   \n",
       "63617    Ġpublic          999   \n",
       "63618      Ġvoid          999   \n",
       "63619      Ġtest          999   \n",
       "63620          E          999   \n",
       "...          ...          ...   \n",
       "63677          (          999   \n",
       "63678       null          999   \n",
       "63679        ));          999   \n",
       "63680         Ġ}          999   \n",
       "63681       </s>          999   \n",
       "\n",
       "                                            typesets_tgt  \\\n",
       "63616                                [[@, 0.9980469942]]   \n",
       "63617                       [[Test, 0.9563337564000001]]   \n",
       "63618                           [[Ġpublic, 0.999979496]]   \n",
       "63619                            [[Ġvoid, 0.9145835638]]   \n",
       "63620                            [[Ġtest, 0.0015851373]]   \n",
       "...                                                  ...   \n",
       "63677                           [[escape, 0.1820134521]]   \n",
       "63678                                 [[(, 0.018699348]]   \n",
       "63679                     [[null, 0.059247039300000005]]   \n",
       "63680  [[));, 0.1826504469], [null, 0.9831843972000001]]   \n",
       "63681                                 [[Ġ}, 0.51104182]]   \n",
       "\n",
       "                                           typesets_src rationale_pos_tgt  \\\n",
       "63616                                                []               [0]   \n",
       "63617                                                []               [1]   \n",
       "63618                                                []               [2]   \n",
       "63619                                                []               [3]   \n",
       "63620      [[Ġescape, 0.0424372219], [(, 0.4725152254]]               [4]   \n",
       "...                                                 ...               ...   \n",
       "63677                               [[(, 0.6593741179]]              [61]   \n",
       "63678                     [[Ġnull, 0.9097349048000001]]              [62]   \n",
       "63679  [[</s>, 0.21295756100000002], [), 0.3896539509]]              [63]   \n",
       "63680                                                []          [64, 13]   \n",
       "63681                                                []              [65]   \n",
       "\n",
       "      rationale_pos_src                  rationale_prob_tgt  \\\n",
       "63616                []                      [0.9980469942]   \n",
       "63617                []                [0.9563337564000001]   \n",
       "63618                []                       [0.999979496]   \n",
       "63619                []                      [0.9145835638]   \n",
       "63620          [58, 59]                      [0.0015851373]   \n",
       "...                 ...                                 ...   \n",
       "63677               [8]                      [0.1820134521]   \n",
       "63678              [17]                       [0.018699348]   \n",
       "63679          [80, 18]              [0.059247039300000005]   \n",
       "63680                []  [0.1826504469, 0.9831843972000001]   \n",
       "63681                []                        [0.51104182]   \n",
       "\n",
       "                        rationale_prob_src               context_src  \n",
       "63616                                   []                        []  \n",
       "63617                                   []                        []  \n",
       "63618                                   []                        []  \n",
       "63619                                   []                        []  \n",
       "63620         [0.0424372219, 0.4725152254]  [method_sig, method_sig]  \n",
       "...                                    ...                       ...  \n",
       "63677                       [0.6593741179]            [focal_method]  \n",
       "63678                 [0.9097349048000001]            [focal_method]  \n",
       "63679  [0.21295756100000002, 0.3896539509]    [fields, focal_method]  \n",
       "63680                                   []                        []  \n",
       "63681                                   []                        []  \n",
       "\n",
       "[66 rows x 9 columns]"
      ]
     },
     "execution_count": 31,
     "metadata": {},
     "output_type": "execute_result"
    }
   ],
   "source": [
    "df_rationale_output[df_rationale_output['from_seq_id'] == 999 ]"
   ]
  },
  {
   "cell_type": "markdown",
   "metadata": {},
   "source": [
    "# Statistics: Average Influence of Context Windows on Token Predictions\n",
    "General Analysis of the influence (or importance) of context windows to next token predictions"
   ]
  },
  {
   "cell_type": "code",
   "execution_count": 32,
   "metadata": {},
   "outputs": [],
   "source": [
    "context_levels = ['class', 'focal_method', 'constructors', 'method_sig', 'fields']"
   ]
  },
  {
   "cell_type": "code",
   "execution_count": 33,
   "metadata": {},
   "outputs": [],
   "source": [
    "dict_context_levels = {k:[] for k in context_levels} #Correct Way of Initializing a dictionary!, please verify"
   ]
  },
  {
   "cell_type": "code",
   "execution_count": 34,
   "metadata": {},
   "outputs": [],
   "source": [
    "#Finding and appending context level rationales\n",
    "for index in df_rationale_output.index:\n",
    "    for indx, arr_context in enumerate(df_rationale_output.loc[index].context_src):\n",
    "        dict_context_levels[arr_context].append( df_rationale_output.loc[index].rationale_prob_src[indx] )"
   ]
  },
  {
   "cell_type": "code",
   "execution_count": 35,
   "metadata": {},
   "outputs": [],
   "source": [
    "all_tokens = functools.reduce( lambda a, b: a + b, [len(i) for i in dict_context_levels.values()] )\n",
    "weights_context_levels = [ len(i)/all_tokens for i in dict_context_levels.values() ] #Level of importance"
   ]
  },
  {
   "cell_type": "code",
   "execution_count": 36,
   "metadata": {},
   "outputs": [
    {
     "data": {
      "text/plain": [
       "[0.14457575918172663,\n",
       " 0.5004239758333775,\n",
       " 0.12356245693995442,\n",
       " 0.22444220679421273,\n",
       " 0.006995601250728708]"
      ]
     },
     "execution_count": 36,
     "metadata": {},
     "output_type": "execute_result"
    }
   ],
   "source": [
    "weights_context_levels"
   ]
  },
  {
   "cell_type": "code",
   "execution_count": 37,
   "metadata": {},
   "outputs": [],
   "source": [
    "dict_context_levels_weighted = {key: np.array(dict_context_levels[key])*weights_context_levels[i] for i,key in  enumerate(dict_context_levels)}"
   ]
  },
  {
   "cell_type": "code",
   "execution_count": 38,
   "metadata": {},
   "outputs": [
    {
     "data": {
      "image/png": "[encoded data removed]",
      "text/plain": [
       "<Figure size 1440x360 with 5 Axes>"
      ]
     },
     "metadata": {},
     "output_type": "display_data"
    }
   ],
   "source": [
    "fig, axs = plt.subplots( figsize=(20,5), ncols=5 )\n",
    "for i,key in enumerate(dict_context_levels):\n",
    "    axs[i].set_ylim(0, 1)\n",
    "    sns.boxplot(data=dict_context_levels[key], showfliers=False,ax=axs[i]).set_title(key)"
   ]
  },
  {
   "cell_type": "code",
   "execution_count": 39,
   "metadata": {},
   "outputs": [
    {
     "data": {
      "image/png": "[encoded data removed]",
      "text/plain": [
       "<Figure size 1440x360 with 5 Axes>"
      ]
     },
     "metadata": {},
     "output_type": "display_data"
    }
   ],
   "source": [
    "fig, axs = plt.subplots( figsize=(20,5), ncols=5 )\n",
    "for i,key in enumerate(dict_context_levels_weighted):\n",
    "    axs[i].set_ylim(0, 1)\n",
    "    sns.boxplot(data=dict_context_levels_weighted[key], showfliers=False,ax=axs[i]).set_title(key)"
   ]
  },
  {
   "cell_type": "code",
   "execution_count": 40,
   "metadata": {},
   "outputs": [
    {
     "name": "stdout",
     "output_type": "stream",
     "text": [
      "class\n",
      "5456 0.708836475413838 0.3897299091023628 0.9999995232000001 1.11594e-05\n",
      "focal_method\n",
      "18885 0.6956659531982525 0.36072771958854466 1.0 3.9354500000000004e-05\n",
      "constructors\n",
      "4663 0.7354030142553721 0.3570490881802944 0.9999997616 5.1085e-06\n",
      "method_sig\n",
      "8470 0.619548294429634 0.36799329196452446 0.9999997616 5.6993e-06\n",
      "fields\n",
      "264 0.5279557627640151 0.34678889722539835 0.9999988079000001 7.94681e-05\n"
     ]
    }
   ],
   "source": [
    "for key in dict_context_levels.keys():\n",
    "    row_arr = np.array(dict_context_levels[key])\n",
    "    print(key)\n",
    "    print( row_arr.size, row_arr.mean(), row_arr.std(), row_arr.max(), row_arr.min() )"
   ]
  },
  {
   "cell_type": "code",
   "execution_count": 41,
   "metadata": {},
   "outputs": [
    {
     "data": {
      "text/plain": [
       "18885"
      ]
     },
     "execution_count": 41,
     "metadata": {},
     "output_type": "execute_result"
    }
   ],
   "source": [
    "np.array(dict_context_levels['focal_method']).size"
   ]
  },
  {
   "cell_type": "markdown",
   "metadata": {},
   "source": [
    "## Bootstrapping Avg. Rationale Contribution per Context Level\n",
    "Relative Contribution of Each Context Window"
   ]
  },
  {
   "cell_type": "code",
   "execution_count": 42,
   "metadata": {},
   "outputs": [],
   "source": [
    "from sklearn.utils import resample"
   ]
  },
  {
   "cell_type": "code",
   "execution_count": 43,
   "metadata": {},
   "outputs": [],
   "source": [
    "N_SAMPLES_BOOT = 20000"
   ]
  },
  {
   "cell_type": "code",
   "execution_count": 44,
   "metadata": {},
   "outputs": [],
   "source": [
    "context_level_boot = { context_level: resample(dict_context_levels_weighted[ context_level ], replace=True, n_samples=N_SAMPLES_BOOT, random_state=1) for context_level in dict_context_levels_weighted }\n",
    "df_context_level_boot = pd.DataFrame.from_dict( context_level_boot )"
   ]
  },
  {
   "cell_type": "code",
   "execution_count": 45,
   "metadata": {},
   "outputs": [
    {
     "data": {
      "text/html": [
       "<div>\n",
       "<style scoped>\n",
       "    .dataframe tbody tr th:only-of-type {\n",
       "        vertical-align: middle;\n",
       "    }\n",
       "\n",
       "    .dataframe tbody tr th {\n",
       "        vertical-align: top;\n",
       "    }\n",
       "\n",
       "    .dataframe thead th {\n",
       "        text-align: right;\n",
       "    }\n",
       "</style>\n",
       "<table border=\"1\" class=\"dataframe\">\n",
       "  <thead>\n",
       "    <tr style=\"text-align: right;\">\n",
       "      <th></th>\n",
       "      <th>class</th>\n",
       "      <th>focal_method</th>\n",
       "      <th>constructors</th>\n",
       "      <th>method_sig</th>\n",
       "      <th>fields</th>\n",
       "    </tr>\n",
       "  </thead>\n",
       "  <tbody>\n",
       "    <tr>\n",
       "      <th>0</th>\n",
       "      <td>0.14</td>\n",
       "      <td>0.50</td>\n",
       "      <td>0.12</td>\n",
       "      <td>0.09</td>\n",
       "      <td>0.01</td>\n",
       "    </tr>\n",
       "  </tbody>\n",
       "</table>\n",
       "</div>"
      ],
      "text/plain": [
       "   class  focal_method  constructors  method_sig  fields\n",
       "0   0.14          0.50          0.12        0.09    0.01"
      ]
     },
     "execution_count": 45,
     "metadata": {},
     "output_type": "execute_result"
    }
   ],
   "source": [
    "df_context_level_boot.head(1)"
   ]
  },
  {
   "cell_type": "code",
   "execution_count": 46,
   "metadata": {},
   "outputs": [
    {
     "data": {
      "text/plain": [
       "<AxesSubplot:ylabel='Count'>"
      ]
     },
     "execution_count": 46,
     "metadata": {},
     "output_type": "execute_result"
    },
    {
     "data": {
      "image/png": "[encoded data removed]",
      "text/plain": [
       "<Figure size 1440x360 with 1 Axes>"
      ]
     },
     "metadata": {},
     "output_type": "display_data"
    }
   ],
   "source": [
    "fig, ax = plt.subplots(figsize=(20,5))\n",
    "sns.histplot(data=df_context_level_boot, kde=True, ax=ax) "
   ]
  },
  {
   "cell_type": "code",
   "execution_count": 47,
   "metadata": {},
   "outputs": [
    {
     "data": {
      "image/png": "[encoded data removed]",
      "text/plain": [
       "<Figure size 1440x360 with 5 Axes>"
      ]
     },
     "metadata": {},
     "output_type": "display_data"
    }
   ],
   "source": [
    "fig, axs = plt.subplots( figsize=(20,5), ncols=5 )\n",
    "for i,key in enumerate(df_context_level_boot):\n",
    "    #plt.figure(i)\n",
    "    axs[i].set_ylim(0, 12000)\n",
    "    sns.histplot(\n",
    "        data=df_context_level_boot[key], \n",
    "        kde=True, \n",
    "        #log_scale=True, \n",
    "        ax=axs[i]\n",
    "        ).set_title(key)"
   ]
  },
  {
   "cell_type": "code",
   "execution_count": 48,
   "metadata": {},
   "outputs": [
    {
     "data": {
      "image/png": "[encoded data removed]",
      "text/plain": [
       "<Figure size 1440x360 with 5 Axes>"
      ]
     },
     "metadata": {},
     "output_type": "display_data"
    }
   ],
   "source": [
    "fig, axs = plt.subplots( figsize=(20,5), ncols=5 )\n",
    "for i,key in enumerate(df_context_level_boot):\n",
    "    axs[i].set_ylim(0, 1)\n",
    "    sns.boxplot(data=df_context_level_boot[key], showfliers=False,ax=axs[i]).set_title(key)"
   ]
  },
  {
   "cell_type": "markdown",
   "metadata": {},
   "source": [
    "## Rationales by General Taxonomy on Target and Context Level on Source"
   ]
  },
  {
   "cell_type": "code",
   "execution_count": 49,
   "metadata": {},
   "outputs": [],
   "source": [
    "#export\n",
    "def token_taxonomy() -> dict:\n",
    "    return {\n",
    "  \"blocks\": {\n",
    "    \"<{>\": \"{\",\n",
    "    \"<}>\": \"}\",\n",
    "    \"<[>\": \"[\",\n",
    "    \"<]>\": \"]\",\n",
    "    \"<(>\": \"(\",\n",
    "    \"<)>\": \")\",\n",
    "    \"<;>\": \";\",\n",
    "    \"<return>\": \"return\"\n",
    "  },\n",
    "  \"exceptions\": {\n",
    "    \"<catch>\": \"catch\",\n",
    "    \"<try>\": \"try\",\n",
    "    \"<finally>\": \"finally\",\n",
    "    \"<throw>\": \"throw\",\n",
    "    \"<throws>\": \"throws\"\n",
    "  },\n",
    "  \"oop\": {\n",
    "    \"<class>\": \"class\",\n",
    "    \"<instanceof>\": \"instanceof\",\n",
    "    \"<interface>\": \"interface\",\n",
    "    \"<private>\": \"private\",\n",
    "    \"<protected>\": \"protected\",\n",
    "    \"<public>\": \"public\",\n",
    "    \"<abstract>\": \"abstract\",\n",
    "    \"<extends>\": \"extends\",\n",
    "    \"<package>\": \"package\",\n",
    "    \"<this>\": \"this\",\n",
    "    \"<implements>\": \"implements\",\n",
    "    \"<import>\": \"import\",\n",
    "    \"<new>\": \"new\",\n",
    "    \"<super>\": \"super\"\n",
    "  },\n",
    "  \"tests\": {\n",
    "    \"<assert>\": \"assert\"\n",
    "  },\n",
    "  \"declarations\": {\n",
    "    \"<native>\": \"native\",\n",
    "    \"<static>\": \"static\",\n",
    "    \"<synchronized>\": \"synchronized\",\n",
    "    \"<transient>\": \"transient\",\n",
    "    \"<volatile>\": \"volatile\",\n",
    "    \"<void>\": \"void\",\n",
    "    \"<final>\": \"final\",\n",
    "    \"<enum>\": \"enum\"\n",
    "  },\n",
    "  \"conditionals\": {\n",
    "    \"<else>\": \"else\",\n",
    "    \"<if>\": \"if\",\n",
    "    \"<switch>\": \"switch\",\n",
    "    \"<case>\": \"case\",\n",
    "    \"<default>\": \"default\"\n",
    "  },\n",
    "  \"loops\": {\n",
    "    \"<break>\": \"break\",\n",
    "    \"<do>\": \"do\",\n",
    "    \"<for>\": \"for\",\n",
    "    \"<while>\": \"while\",\n",
    "    \"<continue>\": \"continue\"\n",
    "  },\n",
    "  \"operators\": {\n",
    "    \"<=>\": \"=\",\n",
    "    \"<+>\": \"+\",\n",
    "    \"<->\": \"-\",\n",
    "    \"<*>\": \"*\",\n",
    "    \"</>\": \"/\",\n",
    "    \"<%>\": \"%\",\n",
    "    \"<++>\": \"++\",\n",
    "    \"<-->\": \"--\",\n",
    "    \"<!>\": \"!\",\n",
    "    \"<==>\": \"==\",\n",
    "    \"<!=>\": \"!=\",\n",
    "    \"<greater_equal>\": \">=\",\n",
    "    \"<lesser_equal>\": \"<=\",\n",
    "    \"<&&>\": \"&&\",\n",
    "    \"<||>\": \"||\",\n",
    "    \"<?>\": \"?\",\n",
    "    \"<:>\": \":\",\n",
    "    \"<~>\": \"~\",\n",
    "    \"<double_lesser>\": \"<<\",\n",
    "    \"<double_greater>\": \">>\",\n",
    "    \"<triple_greater>\": \">>>\",\n",
    "    \"<&>\": \"&\",\n",
    "    \"<^>\": \"^\",\n",
    "    \"<|>\": \"|\"\n",
    "  },\n",
    "  \"datatypes\": {\n",
    "    \"<byte>\": \"byte\",\n",
    "    \"<char>\": \"char\",\n",
    "    \"<float>\": \"float\",\n",
    "    \"<boolean>\": \"boolean\",\n",
    "    \"<double>\": \"double\",\n",
    "    \"<int>\": \"int\",\n",
    "    \"<long>\": \"long\",\n",
    "    \"<short>\": \"short\",\n",
    "    \"<strictfp>\": \"strictfp\"\n",
    "  },\n",
    "  \"extra_tokens\": {\n",
    "    \"<@>\": \"@\",\n",
    "    \"<...>\": \"...\",\n",
    "    \"<null>\": \"null\",\n",
    "    \"<true>\": \"true\",\n",
    "    \"<false>\": \"false\",\n",
    "    \"<n>\": \"\\n\"\n",
    "  }\n",
    "}"
   ]
  },
  {
   "cell_type": "code",
   "execution_count": 50,
   "metadata": {},
   "outputs": [],
   "source": [
    "tkn_taxonomy = token_taxonomy()"
   ]
  },
  {
   "cell_type": "code",
   "execution_count": 51,
   "metadata": {},
   "outputs": [
    {
     "data": {
      "text/plain": [
       "dict_keys(['blocks', 'exceptions', 'oop', 'tests', 'declarations', 'conditionals', 'loops', 'operators', 'datatypes', 'extra_tokens'])"
      ]
     },
     "execution_count": 51,
     "metadata": {},
     "output_type": "execute_result"
    }
   ],
   "source": [
    "tkn_taxonomy.keys()"
   ]
  },
  {
   "cell_type": "code",
   "execution_count": 52,
   "metadata": {},
   "outputs": [
    {
     "data": {
      "text/html": [
       "<div>\n",
       "<style scoped>\n",
       "    .dataframe tbody tr th:only-of-type {\n",
       "        vertical-align: middle;\n",
       "    }\n",
       "\n",
       "    .dataframe tbody tr th {\n",
       "        vertical-align: top;\n",
       "    }\n",
       "\n",
       "    .dataframe thead th {\n",
       "        text-align: right;\n",
       "    }\n",
       "</style>\n",
       "<table border=\"1\" class=\"dataframe\">\n",
       "  <thead>\n",
       "    <tr style=\"text-align: right;\">\n",
       "      <th></th>\n",
       "      <th>goal_token</th>\n",
       "      <th>from_seq_id</th>\n",
       "      <th>typesets_tgt</th>\n",
       "      <th>typesets_src</th>\n",
       "      <th>rationale_pos_tgt</th>\n",
       "      <th>rationale_pos_src</th>\n",
       "      <th>rationale_prob_tgt</th>\n",
       "      <th>rationale_prob_src</th>\n",
       "      <th>context_src</th>\n",
       "    </tr>\n",
       "  </thead>\n",
       "  <tbody>\n",
       "    <tr>\n",
       "      <th>0</th>\n",
       "      <td>Test</td>\n",
       "      <td>0</td>\n",
       "      <td>[[@, 0.9980469942]]</td>\n",
       "      <td>[]</td>\n",
       "      <td>[0]</td>\n",
       "      <td>[]</td>\n",
       "      <td>[0.9980469942]</td>\n",
       "      <td>[]</td>\n",
       "      <td>[]</td>\n",
       "    </tr>\n",
       "    <tr>\n",
       "      <th>1</th>\n",
       "      <td>Ġpublic</td>\n",
       "      <td>0</td>\n",
       "      <td>[[Test, 0.9563337564000001]]</td>\n",
       "      <td>[]</td>\n",
       "      <td>[1]</td>\n",
       "      <td>[]</td>\n",
       "      <td>[0.9563337564000001]</td>\n",
       "      <td>[]</td>\n",
       "      <td>[]</td>\n",
       "    </tr>\n",
       "    <tr>\n",
       "      <th>2</th>\n",
       "      <td>Ġvoid</td>\n",
       "      <td>0</td>\n",
       "      <td>[[Ġpublic, 0.999979496]]</td>\n",
       "      <td>[]</td>\n",
       "      <td>[2]</td>\n",
       "      <td>[]</td>\n",
       "      <td>[0.999979496]</td>\n",
       "      <td>[]</td>\n",
       "      <td>[]</td>\n",
       "    </tr>\n",
       "    <tr>\n",
       "      <th>3</th>\n",
       "      <td>Ġtest</td>\n",
       "      <td>0</td>\n",
       "      <td>[[Ġvoid, 0.9145835638]]</td>\n",
       "      <td>[]</td>\n",
       "      <td>[3]</td>\n",
       "      <td>[]</td>\n",
       "      <td>[0.9145835638]</td>\n",
       "      <td>[]</td>\n",
       "      <td>[]</td>\n",
       "    </tr>\n",
       "    <tr>\n",
       "      <th>4</th>\n",
       "      <td>Val</td>\n",
       "      <td>0</td>\n",
       "      <td>[[Ġtest, 0.0028000718]]</td>\n",
       "      <td>[[Ġvalidate, 0.0896889865], [Number, 0.9335296...</td>\n",
       "      <td>[4]</td>\n",
       "      <td>[10, 22]</td>\n",
       "      <td>[0.0028000718]</td>\n",
       "      <td>[0.0896889865, 0.9335296750000001]</td>\n",
       "      <td>[focal_method, focal_method]</td>\n",
       "    </tr>\n",
       "  </tbody>\n",
       "</table>\n",
       "</div>"
      ],
      "text/plain": [
       "  goal_token  from_seq_id                  typesets_tgt  \\\n",
       "0       Test            0           [[@, 0.9980469942]]   \n",
       "1    Ġpublic            0  [[Test, 0.9563337564000001]]   \n",
       "2      Ġvoid            0      [[Ġpublic, 0.999979496]]   \n",
       "3      Ġtest            0       [[Ġvoid, 0.9145835638]]   \n",
       "4        Val            0       [[Ġtest, 0.0028000718]]   \n",
       "\n",
       "                                        typesets_src rationale_pos_tgt  \\\n",
       "0                                                 []               [0]   \n",
       "1                                                 []               [1]   \n",
       "2                                                 []               [2]   \n",
       "3                                                 []               [3]   \n",
       "4  [[Ġvalidate, 0.0896889865], [Number, 0.9335296...               [4]   \n",
       "\n",
       "  rationale_pos_src    rationale_prob_tgt                  rationale_prob_src  \\\n",
       "0                []        [0.9980469942]                                  []   \n",
       "1                []  [0.9563337564000001]                                  []   \n",
       "2                []         [0.999979496]                                  []   \n",
       "3                []        [0.9145835638]                                  []   \n",
       "4          [10, 22]        [0.0028000718]  [0.0896889865, 0.9335296750000001]   \n",
       "\n",
       "                    context_src  \n",
       "0                            []  \n",
       "1                            []  \n",
       "2                            []  \n",
       "3                            []  \n",
       "4  [focal_method, focal_method]  "
      ]
     },
     "execution_count": 52,
     "metadata": {},
     "output_type": "execute_result"
    }
   ],
   "source": [
    "df_rationale_output.head()"
   ]
  },
  {
   "cell_type": "code",
   "execution_count": 53,
   "metadata": {},
   "outputs": [],
   "source": [
    "def extracting_rationales_by_context(non_stringent = True):\n",
    "    dict_ccp_by_context = {k:{l:[] for l in context_levels } for k in tkn_taxonomy.keys() } #DataStructure To Aggregate Ratioanales\n",
    "    dict_set_elems = { category: set( tkn_taxonomy[category].values() ) for category in tkn_taxonomy.keys() } #Set of Categories\n",
    "    if non_stringent:\n",
    "        dict_set_elems = { category : dict_set_elems[category].union( set(['Ġ'+tok_elem for tok_elem in dict_set_elems[category]]) ) for category in tkn_taxonomy.keys() }\n",
    "    for row in df_rationale_output.index: #Iterating by rows\n",
    "        for category in dict_set_elems.keys(): #Iterating by CCP\n",
    "            if df_rationale_output.loc[row].goal_token in dict_set_elems[category]:\n",
    "                for indx, contex in enumerate(df_rationale_output.loc[row].context_src): #Iterating Context\n",
    "                    dict_ccp_by_context[ category ][ contex ].append( df_rationale_output.loc[row].rationale_prob_src[indx] )\n",
    "                break\n",
    "    return dict_ccp_by_context"
   ]
  },
  {
   "cell_type": "code",
   "execution_count": 54,
   "metadata": {},
   "outputs": [],
   "source": [
    "dict_ccp_by_context = extracting_rationales_by_context() #Time Consuming"
   ]
  },
  {
   "cell_type": "code",
   "execution_count": 55,
   "metadata": {},
   "outputs": [],
   "source": [
    "def reducing_rationales(dict_ccp_by_context = dict_ccp_by_context, agg_f = np.mean):\n",
    "    #Independent Variable: Source Rows [contex level]\n",
    "    #Dependent Variable: Target Columns [taxonomies]\n",
    "    np_rationales = np.zeros(\n",
    "                    ( len( tkn_taxonomy.keys() ), len( context_levels ) ) )\n",
    "    for i, row_tax in enumerate( dict_ccp_by_context ):\n",
    "        dict_inner = dict_ccp_by_context[row_tax]\n",
    "        #print(i)\n",
    "        if dict_inner: #if is not empty\n",
    "            #print(i)\n",
    "            for j, column_context in enumerate( dict_inner ):\n",
    "                #print(j)\n",
    "                list_tax = dict_inner[column_context]\n",
    "                if list_tax:\n",
    "                    np_rationales[i][j] = agg_f( list_tax ) #Agregation Function\n",
    "    return np_rationales"
   ]
  },
  {
   "cell_type": "code",
   "execution_count": 56,
   "metadata": {},
   "outputs": [],
   "source": [
    "np_rationales_avg = reducing_rationales(agg_f = np.mean)\n",
    "np_rationales_max = reducing_rationales(agg_f = np.max)\n",
    "np_rationales_min = reducing_rationales(agg_f = np.min)"
   ]
  },
  {
   "cell_type": "code",
   "execution_count": 57,
   "metadata": {},
   "outputs": [
    {
     "data": {
      "text/plain": [
       "array([[0.50315878, 0.61113628, 0.63728849, 0.66712434, 0.49517457],\n",
       "       [0.59506757, 0.74211495, 0.57341999, 0.6261153 , 0.        ],\n",
       "       [0.47172151, 0.5048615 , 0.48289213, 0.34038973, 0.        ],\n",
       "       [0.31636807, 0.47887178, 0.46683535, 0.54890396, 0.2401695 ],\n",
       "       [0.66262538, 0.504347  , 0.82697111, 0.60789216, 0.98933077],\n",
       "       [0.38508374, 0.3287089 , 0.67287703, 0.71937097, 0.        ],\n",
       "       [0.35734328, 0.51066135, 0.32566318, 0.32627022, 0.        ],\n",
       "       [0.22533966, 0.43165642, 0.2914346 , 0.35235953, 0.        ],\n",
       "       [0.99311999, 0.97785697, 0.66994604, 0.84087921, 0.        ],\n",
       "       [0.71464682, 0.66924705, 0.99224263, 0.18219014, 0.        ]])"
      ]
     },
     "execution_count": 57,
     "metadata": {},
     "output_type": "execute_result"
    }
   ],
   "source": [
    "np_rationales_avg"
   ]
  },
  {
   "cell_type": "code",
   "execution_count": 58,
   "metadata": {},
   "outputs": [],
   "source": [
    "def print_heatmap(\n",
    "    np_rationales, \n",
    "    fig_size = (10,10), \n",
    "    font = 15,\n",
    "    yticklabels = list( tkn_taxonomy.keys() ), \n",
    "    xticklabels = context_levels\n",
    "    ):\n",
    "        plt.rcParams.update({'font.size': font})\n",
    "        ax = plt.axes()\n",
    "        sns.set(rc = {'figure.figsize':fig_size})\n",
    "        sns.heatmap(np_rationales, cmap=\"YlGnBu\", \n",
    "                yticklabels=yticklabels, \n",
    "                xticklabels=xticklabels,\n",
    "                ax=ax)\n",
    "        plt.show\n",
    "        pass"
   ]
  },
  {
   "cell_type": "code",
   "execution_count": 62,
   "metadata": {},
   "outputs": [
    {
     "data": {
      "image/png": "[encoded data removed]",
      "text/plain": [
       "<Figure size 720x720 with 2 Axes>"
      ]
     },
     "metadata": {},
     "output_type": "display_data"
    },
    {
     "name": "stderr",
     "output_type": "stream",
     "text": [
      "Bad pipe message: %s [b'&\"\\xbb\\x1f\\xb5@\\x05j\\xc8o\\xd5\\xe7\\xccoW\\x1d(\\xb4 \\x08A\\xc9d\\x07CO(VQ+o\\xff*\\xce\\xae\\x84-R\\x86j\\xaa\\xa9\\xf2\\xb8bWh\\x89\\xf18\\xd8\\x00\\x08\\x13\\x02\\x13\\x03\\x13\\x01\\x00\\xff\\x01\\x00\\x00\\x8f\\x00\\x00\\x00\\x0e\\x00\\x0c\\x00\\x00\\t127.0.0.1\\x00\\x0b\\x00\\x04\\x03\\x00\\x01\\x02\\x00\\n\\x00\\x0c\\x00\\n\\x00\\x1d\\x00\\x17\\x00\\x1e\\x00\\x19\\x00\\x18\\x00#\\x00\\x00\\x00\\x16\\x00\\x00\\x00\\x17\\x00\\x00\\x00\\r\\x00\\x1e\\x00\\x1c\\x04\\x03\\x05\\x03\\x06\\x03\\x08\\x07\\x08\\x08\\x08\\t\\x08\\n\\x08\\x0b\\x08\\x04\\x08\\x05\\x08\\x06\\x04\\x01\\x05\\x01\\x06\\x01\\x00+\\x00\\x03\\x02\\x03\\x04\\x00-\\x00\\x02\\x01\\x01\\x003\\x00&\\x00$\\x00\\x1d\\x00 ']\n",
      "Bad pipe message: %s [b'.\\xba|A\\xc3\\xea\\xc4\\x85\\x16\\xc8\\x11\\x81\\xfd\\x88y']\n",
      "Bad pipe message: %s [b'\\x00 \\xdcbOr\\xf3\\xe5\\x0bLtWM\\xf5eu?\\x93\\xe7]%`\\xc6\\xaf\\xd3\\xc4\\xa5\\xbc\\xd5\\x1d\\\\\\x12\\xc5\\xfb\\x00\\x08\\x13\\x02\\x13\\x03\\x13']\n",
      "Bad pipe message: %s [b'']\n",
      "Bad pipe message: %s [b'{\\x12\\x97\\xd2\\x1b\\x0fO\\xf1ax\\xda\\xf7\\xad[\\x9e)\\x1b\\xf1\\x00\\x00|\\xc0,\\xc00\\x00\\xa3\\x00\\x9f\\xcc\\xa9\\xcc', b\"\\xaa\\xc0\\xaf\\xc0\\xad\\xc0\\xa3\\xc0\\x9f\\xc0]\\xc0a\\xc0W\\xc0S\\xc0+\\xc0/\\x00\\xa2\\x00\\x9e\\xc0\\xae\\xc0\\xac\\xc0\\xa2\\xc0\\x9e\\xc0\\\\\\xc0`\\xc0V\\xc0R\\xc0$\\xc0(\\x00k\\x00j\\xc0#\\xc0'\\x00g\\x00@\\xc0\\n\\xc0\\x14\\x009\\x008\\xc0\\t\\xc0\\x13\\x003\\x002\\x00\\x9d\\xc0\\xa1\\xc0\\x9d\\xc0Q\\x00\\x9c\\xc0\\xa0\\xc0\\x9c\\xc0P\\x00=\\x00<\\x005\\x00/\\x00\\x9a\\x00\\x99\\xc0\\x07\\xc0\\x11\\x00\\x96\\x00\\x05\\x00\\xff\\x01\\x00\\x00j\\x00\\x00\\x00\\x0e\\x00\\x0c\\x00\\x00\\t127.0.0.1\\x00\\x0b\\x00\\x04\\x03\\x00\\x01\\x02\\x00\\n\\x00\\x0c\\x00\\n\\x00\\x1d\\x00\\x17\\x00\\x1e\\x00\\x19\\x00\\x18\\x00#\\x00\\x00\\x00\\x16\\x00\\x00\\x00\\x17\"]\n",
      "Bad pipe message: %s [b'\\xf4\\x98\\x16\\xa7\\xa8\\xbd\\xbax\\x06N\\xe1uS\\xa2\\xb3\\x17\\xb2\\xfb\\x00\\x00\\xa2\\xc0\\x14\\xc0\\n\\x009\\x008\\x007\\x006\\x00\\x88\\x00\\x87\\x00\\x86\\x00\\x85\\xc0\\x19\\x00:\\x00\\x89\\xc0\\x0f\\xc0\\x05\\x005\\x00\\x84\\xc0\\x13\\xc0\\t\\x003\\x002\\x001\\x000\\x00\\x9a\\x00\\x99\\x00\\x98\\x00\\x97\\x00E\\x00D\\x00C\\x00B\\xc0\\x18\\x004\\x00\\x9b\\x00F\\xc0\\x0e\\xc0\\x04\\x00/\\x00\\x96\\x00A\\x00\\x07\\xc0\\x11\\xc0\\x07\\xc0\\x16\\x00\\x18\\xc0\\x0c\\xc0\\x02\\x00\\x05\\x00\\x04\\xc0\\x12\\xc0\\x08\\x00\\x16\\x00\\x13\\x00\\x10\\x00\\r\\xc0\\x17\\x00\\x1b\\xc0\\r\\xc0\\x03\\x00\\n\\x00\\x15\\x00\\x12\\x00\\x0f\\x00\\x0c\\x00\\x1a\\x00\\t\\x00\\x14\\x00\\x11\\x00\\x19\\x00\\x08\\x00\\x06\\x00\\x17\\x00\\x03\\xc0\\x10\\xc0\\x06\\xc0\\x15\\xc0\\x0b\\xc0\\x01\\x00\\x02\\x00\\x01\\x00\\xff\\x02\\x01\\x00\\x00C\\x00\\x00\\x00\\x0e\\x00\\x0c\\x00\\x00\\t127.0.0.1\\x00\\x0b\\x00\\x04\\x03\\x00\\x01\\x02\\x00\\n\\x00\\x1c\\x00\\x1a\\x00\\x17\\x00\\x19\\x00\\x1c\\x00\\x1b\\x00\\x18\\x00\\x1a\\x00\\x16\\x00\\x0e\\x00\\r\\x00\\x0b\\x00\\x0c\\x00\\t\\x00\\n']\n",
      "Bad pipe message: %s [b'O_\\xd89\\x1a\\x8e\\x1ac\\xbd\\xc9~\\xae\\xd5\\x0c\\xd4\\xe5\\xf0\\xa8\\x00\\x00\\xa2\\xc0\\x14\\xc0\\n\\x009\\x008\\x007\\x006\\x00\\x88\\x00\\x87\\x00\\x86\\x00\\x85\\xc0\\x19\\x00:\\x00\\x89\\xc0\\x0f\\xc0\\x05\\x005\\x00\\x84\\xc0\\x13\\xc0\\t']\n",
      "Bad pipe message: %s [b\"d\\xfa\\\\\\xc0\\x9f&\\xbb'\\x8c\\xa7\\x85V\\xab\\xd0s\\x9e\\xf7'\\x00\\x00\\x86\\xc00\\xc0,\\xc0(\\xc0$\\xc0\\x14\\xc0\\n\\x00\\xa5\\x00\\xa3\\x00\\xa1\\x00\\x9f\\x00k\\x00j\\x00i\\x00h\\x009\\x008\\x007\\x006\\xc02\\xc0.\\xc0*\\xc0&\\xc0\\x0f\\xc0\\x05\\x00\\x9d\\x00=\\x005\\xc0/\\xc0+\\xc0'\\xc0#\\xc0\\x13\\xc0\\t\\x00\\xa4\\x00\\xa2\\x00\\xa0\\x00\\x9e\\x00g\\x00@\\x00?\\x00>\\x003\\x002\\x001\\x000\\xc01\\xc0-\\xc0)\\xc0%\\xc0\\x0e\\xc0\\x04\\x00\\x9c\\x00<\\x00/\\x00\\x9a\\x00\\x99\\x00\\x98\\x00\\x97\\x00\\x96\\x00\\x07\\xc0\\x11\\xc0\\x07\\xc0\\x0c\\xc0\\x02\\x00\\x05\\x00\\x04\\x00\\xff\\x02\\x01\\x00\\x00g\\x00\\x00\\x00\\x0e\\x00\\x0c\\x00\\x00\\t127.0\"]\n",
      "Bad pipe message: %s [b'.1\\x00\\x0b\\x00\\x04\\x03\\x00\\x01\\x02\\x00\\n\\x00\\x1c\\x00\\x1a\\x00\\x17\\x00\\x19\\x00\\x1c\\x00\\x1b\\x00\\x18\\x00\\x1a\\x00\\x16\\x00\\x0e\\x00\\r\\x00\\x0b\\x00\\x0c\\x00\\t\\x00\\n\\x00#\\x00']\n",
      "Bad pipe message: %s [b'\\xc4wYD\\xdaAk\\x0b\\x1c\\x0b]\\x93\\x01\\x00/=\\xdc\\xc9\\x00\\x00\\xf4\\xc00\\xc0,\\xc0(\\xc0$', b\"\\xc0\\n\\x00\\xa5\\x00\\xa3\\x00\\xa1\\x00\\x9f\\x00k\\x00j\\x00i\\x00h\\x009\\x008\\x007\\x006\\x00\\x88\\x00\\x87\\x00\\x86\\x00\\x85\\xc0\\x19\\x00\\xa7\\x00m\\x00:\\x00\\x89\\xc02\\xc0.\\xc0*\\xc0&\\xc0\\x0f\\xc0\\x05\\x00\\x9d\\x00=\\x005\\x00\\x84\\xc0/\\xc0+\\xc0'\\xc0#\\xc0\\x13\\xc0\\t\\x00\\xa4\\x00\\xa2\\x00\\xa0\\x00\\x9e\\x00g\\x00@\\x00?\\x00>\\x003\\x002\\x001\\x000\\x00\\x9a\\x00\\x99\\x00\\x98\\x00\\x97\\x00E\\x00D\\x00C\\x00B\\xc0\\x18\\x00\\xa6\\x00l\\x004\\x00\\x9b\\x00F\\xc01\\xc0-\\xc0)\\xc0%\\xc0\\x0e\\xc0\\x04\\x00\\x9c\\x00<\\x00/\\x00\\x96\\x00A\\x00\\x07\\xc0\\x11\\xc0\\x07\\xc0\\x16\\x00\\x18\\xc0\\x0c\\xc0\\x02\\x00\\x05\\x00\\x04\\xc0\\x12\\xc0\\x08\\x00\\x16\\x00\\x13\\x00\\x10\\x00\\r\\xc0\\x17\\x00\\x1b\\xc0\\r\\xc0\\x03\\x00\\n\\x00\"]\n",
      "Bad pipe message: %s [b'\\x12\\x00\\x0f\\x00\\x0c\\x00\\x1a\\x00\\t\\x00\\x14\\x00\\x11\\x00\\x19\\x00\\x08\\x00\\x06\\x00']\n",
      "Bad pipe message: %s [b'\\x03\\xc0\\x10\\xc0\\x06\\xc0\\x15\\xc0\\x0b\\xc0\\x01\\x00;\\x00\\x02\\x00\\x01\\x00\\xff\\x02\\x01\\x00']\n"
     ]
    }
   ],
   "source": [
    "print_heatmap(\n",
    "    np_rationales = np_rationales_avg, \n",
    "    fig_size = (10,10), \n",
    "    font = 15\n",
    "    )"
   ]
  },
  {
   "cell_type": "code",
   "execution_count": 60,
   "metadata": {},
   "outputs": [
    {
     "data": {
      "image/png": "[encoded data removed]",
      "text/plain": [
       "<Figure size 720x720 with 2 Axes>"
      ]
     },
     "metadata": {},
     "output_type": "display_data"
    }
   ],
   "source": [
    "print_heatmap(\n",
    "    np_rationales = np_rationales_max, \n",
    "    fig_size = (10,10), \n",
    "    font = 15\n",
    "    )"
   ]
  },
  {
   "cell_type": "code",
   "execution_count": 61,
   "metadata": {},
   "outputs": [
    {
     "data": {
      "image/png": "[encoded data removed]",
      "text/plain": [
       "<Figure size 720x720 with 2 Axes>"
      ]
     },
     "metadata": {},
     "output_type": "display_data"
    }
   ],
   "source": [
    "print_heatmap(\n",
    "    np_rationales = np_rationales_min, \n",
    "    fig_size = (10,10), \n",
    "    font = 15\n",
    "    )"
   ]
  }
 ],
 "metadata": {
  "interpreter": {
   "hash": "27c2fcb21fdb148cd37ecbed2ef65b6b1f3a0948b222c0bcf7dcf1d6a4c7a458"
  },
  "kernelspec": {
   "display_name": "Python 3.8.8 64-bit ('shapley-01': conda)",
   "language": "python",
   "name": "python3"
  },
  "language_info": {
   "codemirror_mode": {
    "name": "ipython",
    "version": 3
   },
   "file_extension": ".py",
   "mimetype": "text/x-python",
   "name": "python",
   "nbconvert_exporter": "python",
   "pygments_lexer": "ipython3",
   "version": "3.8.8"
  },
  "orig_nbformat": 4
 },
 "nbformat": 4,
 "nbformat_minor": 2
}
